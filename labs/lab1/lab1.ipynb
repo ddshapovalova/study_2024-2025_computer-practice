{
 "cells": [
  {
   "cell_type": "markdown",
   "id": "f4210156-9213-4fe4-8e29-a1f968eb51fc",
   "metadata": {},
   "source": [
    "### Шаповалова Д. Д, НПИбд-02-21"
   ]
  },
  {
   "cell_type": "markdown",
   "id": "aef3499c-1caa-49b4-bb84-7b0add55d27c",
   "metadata": {},
   "source": [
    "#### Студ. билет 1032211220"
   ]
  },
  {
   "cell_type": "markdown",
   "id": "6f6f6d84-e729-411d-a5b3-828139c0653e",
   "metadata": {},
   "source": [
    "#### Лабораторная работа №1"
   ]
  },
  {
   "cell_type": "code",
   "execution_count": 60,
   "id": "9c02b885-575b-4608-b49e-70d666acaa11",
   "metadata": {},
   "outputs": [
    {
     "data": {
      "text/plain": [
       "(Int64, Float64, Float64, ComplexF64, Irrational{:π})"
      ]
     },
     "execution_count": 60,
     "metadata": {},
     "output_type": "execute_result"
    }
   ],
   "source": [
    "typeof(3), typeof(3.5), typeof(3/3.55), typeof(sqrt(3+4im)), typeof(pi)"
   ]
  },
  {
   "cell_type": "code",
   "execution_count": 2,
   "id": "8059e83b-5e7f-46f8-b477-015fcca322e5",
   "metadata": {},
   "outputs": [
    {
     "data": {
      "text/plain": [
       "(Inf, -Inf, NaN)"
      ]
     },
     "execution_count": 2,
     "metadata": {},
     "output_type": "execute_result"
    }
   ],
   "source": [
    "1.0/0.0, 1.0/(-0.0), 0.0/0.0"
   ]
  },
  {
   "cell_type": "code",
   "execution_count": 3,
   "id": "e5d702a4-036f-4bc3-954f-c7d2bd5017dd",
   "metadata": {},
   "outputs": [
    {
     "data": {
      "text/plain": [
       "(Float64, Float64, Float64)"
      ]
     },
     "execution_count": 3,
     "metadata": {},
     "output_type": "execute_result"
    }
   ],
   "source": [
    "typeof(1.0/0.0), typeof(1.0/(-0.0)), typeof(0.0/0.0)"
   ]
  },
  {
   "cell_type": "code",
   "execution_count": 4,
   "id": "8df6f825-2a5f-41f0-8a39-70eb2a2e8e38",
   "metadata": {},
   "outputs": [
    {
     "name": "stdout",
     "output_type": "stream",
     "text": [
      "Hello, world! D\n"
     ]
    }
   ],
   "source": [
    "file = open(\"hello.txt\", \"r\")\n",
    "content = read(file, String)\n",
    "println(content)"
   ]
  },
  {
   "cell_type": "code",
   "execution_count": 8,
   "id": "514cd44b-5491-45ff-8490-2171d9cd2b9c",
   "metadata": {},
   "outputs": [
    {
     "name": "stdout",
     "output_type": "stream",
     "text": [
      "Hello, world! first line\n"
     ]
    }
   ],
   "source": [
    "file = open(\"hello.txt\", \"r\")\n",
    "first_line = readline(file)\n",
    "println(first_line)"
   ]
  },
  {
   "cell_type": "code",
   "execution_count": 9,
   "id": "8a0f0833-eb46-4dac-8430-acd44991dd3d",
   "metadata": {},
   "outputs": [
    {
     "name": "stdout",
     "output_type": "stream",
     "text": [
      "[\"Hello, world! first line\", \"Hello, world! Second line\"]\n"
     ]
    }
   ],
   "source": [
    "file = open(\"hello.txt\", \"r\")\n",
    "all_lines = readlines(file)\n",
    "println(all_lines)"
   ]
  },
  {
   "cell_type": "code",
   "execution_count": 11,
   "id": "1cc4215d-f557-4d48-9815-199ee41917a4",
   "metadata": {},
   "outputs": [
    {
     "name": "stdout",
     "output_type": "stream",
     "text": [
      "это строка."
     ]
    }
   ],
   "source": [
    "print(\"это \")\n",
    "print(\"строка.\")"
   ]
  },
  {
   "cell_type": "code",
   "execution_count": 12,
   "id": "3dc2661b-adb9-4fdd-a5f6-b01aecbd6128",
   "metadata": {},
   "outputs": [
    {
     "name": "stdout",
     "output_type": "stream",
     "text": [
      "это \n",
      "2 строки.\n"
     ]
    }
   ],
   "source": [
    "println(\"это \")\n",
    "println(\"2 строки.\")"
   ]
  },
  {
   "cell_type": "code",
   "execution_count": 17,
   "id": "369ed983-fcde-4932-83b8-36dd44c66f14",
   "metadata": {},
   "outputs": [
    {
     "name": "stdout",
     "output_type": "stream",
     "text": [
      "[1, 2, 3]"
     ]
    }
   ],
   "source": [
    "arr= [1, 2, 3]\n",
    "show(arr)"
   ]
  },
  {
   "cell_type": "code",
   "execution_count": 18,
   "id": "367ea749-6dd9-47cd-ba29-6a5b6b640644",
   "metadata": {},
   "outputs": [
    {
     "data": {
      "text/plain": [
       "16"
      ]
     },
     "execution_count": 18,
     "metadata": {},
     "output_type": "execute_result"
    }
   ],
   "source": [
    "write(\"hello.txt\", \"3я строка\")"
   ]
  },
  {
   "cell_type": "code",
   "execution_count": 31,
   "id": "adaf71ca-61ea-4213-9d59-e59df3a619bc",
   "metadata": {},
   "outputs": [
    {
     "data": {
      "text/plain": [
       "17"
      ]
     },
     "execution_count": 31,
     "metadata": {},
     "output_type": "execute_result"
    }
   ],
   "source": [
    "write(\"hello.txt\", \"3-я строка\")"
   ]
  },
  {
   "cell_type": "code",
   "execution_count": 32,
   "id": "450ba2f0-4eec-4152-a10b-56d840a38495",
   "metadata": {},
   "outputs": [
    {
     "name": "stdout",
     "output_type": "stream",
     "text": [
      "Int64"
     ]
    }
   ],
   "source": [
    "number = parse(Int, \"123\")\n",
    "print(typeof(number))"
   ]
  },
  {
   "cell_type": "code",
   "execution_count": 33,
   "id": "c67d25dd-4ba9-4bec-8d9a-717ee3bd37e7",
   "metadata": {},
   "outputs": [
    {
     "data": {
      "text/plain": [
       "2"
      ]
     },
     "execution_count": 33,
     "metadata": {},
     "output_type": "execute_result"
    }
   ],
   "source": [
    "1 + 1 #сложение"
   ]
  },
  {
   "cell_type": "code",
   "execution_count": 34,
   "id": "4a5774ff-8452-4444-8d1e-3be517cc4a4d",
   "metadata": {},
   "outputs": [
    {
     "data": {
      "text/plain": [
       "0"
      ]
     },
     "execution_count": 34,
     "metadata": {},
     "output_type": "execute_result"
    }
   ],
   "source": [
    "1 - 1 #вычитание"
   ]
  },
  {
   "cell_type": "code",
   "execution_count": 35,
   "id": "89bfdc42-b516-43e2-9a0c-872d4eefa817",
   "metadata": {},
   "outputs": [
    {
     "data": {
      "text/plain": [
       "2"
      ]
     },
     "execution_count": 35,
     "metadata": {},
     "output_type": "execute_result"
    }
   ],
   "source": [
    "1 * 2 #умножение"
   ]
  },
  {
   "cell_type": "code",
   "execution_count": 36,
   "id": "9aad5a09-6000-4f54-80bb-bf31b770b437",
   "metadata": {},
   "outputs": [
    {
     "data": {
      "text/plain": [
       "0.5"
      ]
     },
     "execution_count": 36,
     "metadata": {},
     "output_type": "execute_result"
    }
   ],
   "source": [
    "1 / 2 #деление"
   ]
  },
  {
   "cell_type": "code",
   "execution_count": 37,
   "id": "a09eb448-fa6f-4cb5-86ed-0dcb9a3d19d0",
   "metadata": {},
   "outputs": [
    {
     "data": {
      "text/plain": [
       "4"
      ]
     },
     "execution_count": 37,
     "metadata": {},
     "output_type": "execute_result"
    }
   ],
   "source": [
    "2 ^ 2 #возведение в степень"
   ]
  },
  {
   "cell_type": "code",
   "execution_count": 39,
   "id": "3abc2046-be2e-41cd-bd74-7198840a3973",
   "metadata": {},
   "outputs": [
    {
     "data": {
      "text/plain": [
       "2.0"
      ]
     },
     "execution_count": 39,
     "metadata": {},
     "output_type": "execute_result"
    }
   ],
   "source": [
    "sqrt(4) #извлечение корня"
   ]
  },
  {
   "cell_type": "code",
   "execution_count": 40,
   "id": "f603da01-109a-42ca-a3d8-3169145df14d",
   "metadata": {},
   "outputs": [
    {
     "data": {
      "text/plain": [
       "true"
      ]
     },
     "execution_count": 40,
     "metadata": {},
     "output_type": "execute_result"
    }
   ],
   "source": [
    "4 == 4 #сравнение"
   ]
  },
  {
   "cell_type": "code",
   "execution_count": 42,
   "id": "e8b35ba6-a5b8-4eca-a11f-4081e4026495",
   "metadata": {},
   "outputs": [
    {
     "name": "stdout",
     "output_type": "stream",
     "text": [
      "0"
     ]
    }
   ],
   "source": [
    "x = 0\n",
    "y = 1\n",
    "print(x&y) #лог операция"
   ]
  },
  {
   "cell_type": "code",
   "execution_count": 50,
   "id": "3f767b9e-98cc-451c-a036-f786b34d500a",
   "metadata": {},
   "outputs": [
    {
     "data": {
      "text/plain": [
       "2×2 Matrix{Int64}:\n",
       " 1  1\n",
       " 2  2"
      ]
     },
     "execution_count": 50,
     "metadata": {},
     "output_type": "execute_result"
    }
   ],
   "source": [
    "using LinearAlgebra\n",
    "A = [1 1;2 2] #матрица A"
   ]
  },
  {
   "cell_type": "code",
   "execution_count": 51,
   "id": "c1acbd1e-ed7d-4d09-92d1-c4b9527e9033",
   "metadata": {},
   "outputs": [
    {
     "data": {
      "text/plain": [
       "2×2 Matrix{Int64}:\n",
       " 1  2\n",
       " 3  4"
      ]
     },
     "execution_count": 51,
     "metadata": {},
     "output_type": "execute_result"
    }
   ],
   "source": [
    "B = [1 2;3 4] #матрица B"
   ]
  },
  {
   "cell_type": "code",
   "execution_count": 47,
   "id": "a39d4b3d-9930-44b3-a4f0-9cbbc1d37689",
   "metadata": {},
   "outputs": [
    {
     "name": "stdout",
     "output_type": "stream",
     "text": [
      "[2 3; 5 6]"
     ]
    }
   ],
   "source": [
    "print(A+B)"
   ]
  },
  {
   "cell_type": "code",
   "execution_count": 48,
   "id": "dc5cf6de-8da5-4c7d-a965-9c4f53dcef3e",
   "metadata": {},
   "outputs": [
    {
     "name": "stdout",
     "output_type": "stream",
     "text": [
      "[0 1; 1 2]"
     ]
    }
   ],
   "source": [
    "print(B-A)"
   ]
  },
  {
   "cell_type": "code",
   "execution_count": 49,
   "id": "a3c3c137-f987-48dc-bc70-093e233d7b85",
   "metadata": {},
   "outputs": [
    {
     "name": "stdout",
     "output_type": "stream",
     "text": [
      "[4 6; 8 12]"
     ]
    }
   ],
   "source": [
    "print(A*B)"
   ]
  },
  {
   "cell_type": "code",
   "execution_count": 52,
   "id": "3c72d33f-f406-4c1e-ab27-255892c51424",
   "metadata": {},
   "outputs": [
    {
     "data": {
      "text/plain": [
       "3-element Vector{Int64}:\n",
       " 1\n",
       " 2\n",
       " 3"
      ]
     },
     "execution_count": 52,
     "metadata": {},
     "output_type": "execute_result"
    }
   ],
   "source": [
    "a = [1, 2, 3] #вектор A"
   ]
  },
  {
   "cell_type": "code",
   "execution_count": 53,
   "id": "6855bfb9-b58f-4189-a669-7632dda3fbef",
   "metadata": {},
   "outputs": [
    {
     "data": {
      "text/plain": [
       "3-element Vector{Int64}:\n",
       " 4\n",
       " 5\n",
       " 6"
      ]
     },
     "execution_count": 53,
     "metadata": {},
     "output_type": "execute_result"
    }
   ],
   "source": [
    "b = [4, 5, 6] #вектор B"
   ]
  },
  {
   "cell_type": "code",
   "execution_count": 55,
   "id": "ae001465-93cd-4ff4-9b4e-9374d23461a7",
   "metadata": {},
   "outputs": [
    {
     "data": {
      "text/plain": [
       "32"
      ]
     },
     "execution_count": 55,
     "metadata": {},
     "output_type": "execute_result"
    }
   ],
   "source": [
    "dot(a,b) #скалярное умножение"
   ]
  },
  {
   "cell_type": "code",
   "execution_count": 56,
   "id": "7f0a7f6b-3122-4887-a184-f74bc084646f",
   "metadata": {},
   "outputs": [
    {
     "data": {
      "text/plain": [
       "2×2 adjoint(::Matrix{Int64}) with eltype Int64:\n",
       " 1  2\n",
       " 1  2"
      ]
     },
     "execution_count": 56,
     "metadata": {},
     "output_type": "execute_result"
    }
   ],
   "source": [
    "A' #транспонирование матрицы"
   ]
  },
  {
   "cell_type": "code",
   "execution_count": 57,
   "id": "704f3c12-61d5-498b-b066-7aeba68f04cd",
   "metadata": {},
   "outputs": [
    {
     "data": {
      "text/plain": [
       "2×2 Matrix{Int64}:\n",
       " 2  2\n",
       " 4  4"
      ]
     },
     "execution_count": 57,
     "metadata": {},
     "output_type": "execute_result"
    }
   ],
   "source": [
    "2 * A #умножение матрицы на скаляр"
   ]
  },
  {
   "cell_type": "code",
   "execution_count": 58,
   "id": "2e757906-91a6-4d6c-9ab3-6effab08886e",
   "metadata": {
    "scrolled": true
   },
   "outputs": [
    {
     "data": {
      "text/plain": [
       "3-element Vector{Int64}:\n",
       " 2\n",
       " 4\n",
       " 6"
      ]
     },
     "execution_count": 58,
     "metadata": {},
     "output_type": "execute_result"
    }
   ],
   "source": [
    "2 * a #умножение вектора на скаляр"
   ]
  },
  {
   "cell_type": "code",
   "execution_count": null,
   "id": "80d08e38-551d-4704-8e91-953faacd975a",
   "metadata": {},
   "outputs": [],
   "source": []
  },
  {
   "cell_type": "code",
   "execution_count": null,
   "id": "a934fc48-b1d6-4038-b6d6-a2000b8c05ee",
   "metadata": {},
   "outputs": [],
   "source": []
  }
 ],
 "metadata": {
  "kernelspec": {
   "display_name": "Julia 1.10.5",
   "language": "julia",
   "name": "julia-1.10"
  },
  "language_info": {
   "file_extension": ".jl",
   "mimetype": "application/julia",
   "name": "julia",
   "version": "1.10.5"
  }
 },
 "nbformat": 4,
 "nbformat_minor": 5
}
