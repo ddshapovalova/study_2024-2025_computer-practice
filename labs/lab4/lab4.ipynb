{
 "cells": [
  {
   "cell_type": "markdown",
   "id": "db8a5802-1ed4-4e9c-af92-8fd1c2a0bcbd",
   "metadata": {},
   "source": [
    "## Шаповалова Диана Дмитриевна. 1032211220"
   ]
  },
  {
   "cell_type": "markdown",
   "id": "aedf896a-3fc9-4a0c-a97c-18481d526d83",
   "metadata": {},
   "source": [
    "## Лаб №4. Линейная алгебра"
   ]
  },
  {
   "cell_type": "markdown",
   "id": "3d07f75a-5809-4851-b4e6-c2922e93b9ce",
   "metadata": {},
   "source": [
    "### 4.2.1. Поэлементные операции над многомерными массивами"
   ]
  },
  {
   "cell_type": "code",
   "execution_count": 1,
   "id": "bc579870-f991-46b6-b39d-5898c053565d",
   "metadata": {},
   "outputs": [
    {
     "data": {
      "text/plain": [
       "4×3 Matrix{Int64}:\n",
       "  2  12   5\n",
       "  5   7  11\n",
       " 20  12   7\n",
       "  4  16  10"
      ]
     },
     "execution_count": 1,
     "metadata": {},
     "output_type": "execute_result"
    }
   ],
   "source": [
    "a = rand(1:20,(4,3))"
   ]
  },
  {
   "cell_type": "code",
   "execution_count": 2,
   "id": "a6401c35-ad20-4d3d-be21-0d90aa1d380b",
   "metadata": {},
   "outputs": [
    {
     "data": {
      "text/plain": [
       "111"
      ]
     },
     "execution_count": 2,
     "metadata": {},
     "output_type": "execute_result"
    }
   ],
   "source": [
    "# Поэлементная сумма:\n",
    "sum(a)"
   ]
  },
  {
   "cell_type": "code",
   "execution_count": 4,
   "id": "dde80c9b-e5ff-4f7d-8138-11b7ce27c029",
   "metadata": {},
   "outputs": [
    {
     "data": {
      "text/plain": [
       "1×3 Matrix{Int64}:\n",
       " 31  47  33"
      ]
     },
     "execution_count": 4,
     "metadata": {},
     "output_type": "execute_result"
    }
   ],
   "source": [
    "# Поэлементная сумма по столбцам:\n",
    "sum(a,dims=1)"
   ]
  },
  {
   "cell_type": "code",
   "execution_count": 5,
   "id": "b5f5b3a6-aa7d-4bec-ba09-f84bd735d3f5",
   "metadata": {},
   "outputs": [
    {
     "data": {
      "text/plain": [
       "4×1 Matrix{Int64}:\n",
       " 19\n",
       " 23\n",
       " 39\n",
       " 30"
      ]
     },
     "execution_count": 5,
     "metadata": {},
     "output_type": "execute_result"
    }
   ],
   "source": [
    "# Поэлементная сумма по строкам:\n",
    "sum(a,dims=2)"
   ]
  },
  {
   "cell_type": "code",
   "execution_count": 6,
   "id": "b76e00a4-38d6-42d3-a30f-0c09a3792e54",
   "metadata": {},
   "outputs": [
    {
     "data": {
      "text/plain": [
       "49674240000"
      ]
     },
     "execution_count": 6,
     "metadata": {},
     "output_type": "execute_result"
    }
   ],
   "source": [
    "# Поэлементное произведение:\n",
    "prod(a)"
   ]
  },
  {
   "cell_type": "code",
   "execution_count": 7,
   "id": "606617e0-50a5-46be-bf7b-184880287517",
   "metadata": {},
   "outputs": [
    {
     "data": {
      "text/plain": [
       "1×3 Matrix{Int64}:\n",
       " 800  16128  3850"
      ]
     },
     "execution_count": 7,
     "metadata": {},
     "output_type": "execute_result"
    }
   ],
   "source": [
    "# Поэлементное произведение по столбцам:\n",
    "prod(a,dims=1)"
   ]
  },
  {
   "cell_type": "code",
   "execution_count": 8,
   "id": "68826605-486b-46d3-8f82-27b32f83e98a",
   "metadata": {},
   "outputs": [
    {
     "data": {
      "text/plain": [
       "4×1 Matrix{Int64}:\n",
       "  120\n",
       "  385\n",
       " 1680\n",
       "  640"
      ]
     },
     "execution_count": 8,
     "metadata": {},
     "output_type": "execute_result"
    }
   ],
   "source": [
    "# Поэлементное произведение по строкам:\n",
    "prod(a,dims=2)"
   ]
  },
  {
   "cell_type": "code",
   "execution_count": 9,
   "id": "11fd9ad2-7fd3-41b7-80e4-93761ce5bd3b",
   "metadata": {},
   "outputs": [
    {
     "name": "stderr",
     "output_type": "stream",
     "text": [
      "\u001b[32m\u001b[1m    Updating\u001b[22m\u001b[39m registry at `C:\\Users\\dina7\\.julia\\registries\\General.toml`\n",
      "\u001b[32m\u001b[1m   Resolving\u001b[22m\u001b[39m package versions...\n",
      "\u001b[32m\u001b[1m    Updating\u001b[22m\u001b[39m `C:\\Users\\dina7\\.julia\\environments\\v1.10\\Project.toml`\n",
      "  \u001b[90m[10745b16] \u001b[39m\u001b[92m+ Statistics v1.10.0\u001b[39m\n",
      "\u001b[32m\u001b[1m  No Changes\u001b[22m\u001b[39m to `C:\\Users\\dina7\\.julia\\environments\\v1.10\\Manifest.toml`\n"
     ]
    }
   ],
   "source": [
    "# Подключение пакета Statistics:\n",
    "import Pkg\n",
    "Pkg.add(\"Statistics\")\n",
    "using Statistics"
   ]
  },
  {
   "cell_type": "code",
   "execution_count": 11,
   "id": "391c49c8-a0ef-4562-b99e-544b7b6ab4bc",
   "metadata": {},
   "outputs": [
    {
     "data": {
      "text/plain": [
       "9.25"
      ]
     },
     "execution_count": 11,
     "metadata": {},
     "output_type": "execute_result"
    }
   ],
   "source": [
    "# Вычисление среднего значения массива:\n",
    "mean(a)"
   ]
  },
  {
   "cell_type": "code",
   "execution_count": 13,
   "id": "66598194-de8c-4fcf-8a27-6b4a6d12357f",
   "metadata": {},
   "outputs": [
    {
     "data": {
      "text/plain": [
       "1×3 Matrix{Float64}:\n",
       " 7.75  11.75  8.25"
      ]
     },
     "execution_count": 13,
     "metadata": {},
     "output_type": "execute_result"
    }
   ],
   "source": [
    "# Среднее по столбцам:\n",
    "mean(a,dims=1)"
   ]
  },
  {
   "cell_type": "code",
   "execution_count": 14,
   "id": "c693edbb-7c70-4843-8563-e71ab91dbbaf",
   "metadata": {},
   "outputs": [
    {
     "data": {
      "text/plain": [
       "4×1 Matrix{Float64}:\n",
       "  6.333333333333333\n",
       "  7.666666666666667\n",
       " 13.0\n",
       " 10.0"
      ]
     },
     "execution_count": 14,
     "metadata": {},
     "output_type": "execute_result"
    }
   ],
   "source": [
    "# Среднее по строкам:\n",
    "mean(a,dims=2)"
   ]
  },
  {
   "cell_type": "markdown",
   "id": "4d0f4068-60cc-49e4-a3e9-048e88e83700",
   "metadata": {},
   "source": [
    "### 4.2.2. Транспонирование, след, ранг, определитель и инверсия матрицы"
   ]
  },
  {
   "cell_type": "code",
   "execution_count": 15,
   "id": "4cb2619c-be1d-4491-b4b3-7eebf3e06aea",
   "metadata": {},
   "outputs": [
    {
     "name": "stderr",
     "output_type": "stream",
     "text": [
      "\u001b[32m\u001b[1m   Resolving\u001b[22m\u001b[39m package versions...\n",
      "\u001b[32m\u001b[1m    Updating\u001b[22m\u001b[39m `C:\\Users\\dina7\\.julia\\environments\\v1.10\\Project.toml`\n",
      "  \u001b[90m[37e2e46d] \u001b[39m\u001b[92m+ LinearAlgebra\u001b[39m\n",
      "\u001b[32m\u001b[1m  No Changes\u001b[22m\u001b[39m to `C:\\Users\\dina7\\.julia\\environments\\v1.10\\Manifest.toml`\n"
     ]
    }
   ],
   "source": [
    "import Pkg\n",
    "Pkg.add(\"LinearAlgebra\")\n",
    "using LinearAlgebra"
   ]
  },
  {
   "cell_type": "code",
   "execution_count": 16,
   "id": "2650771c-1729-49db-8e2b-eccd03e23d5f",
   "metadata": {},
   "outputs": [
    {
     "data": {
      "text/plain": [
       "4×4 Matrix{Int64}:\n",
       "  9  19  17  1\n",
       "  5  12   2  1\n",
       "  3   6   6  1\n",
       " 20   7  17  1"
      ]
     },
     "execution_count": 16,
     "metadata": {},
     "output_type": "execute_result"
    }
   ],
   "source": [
    "b = rand(1:20,(4,4))"
   ]
  },
  {
   "cell_type": "code",
   "execution_count": 17,
   "id": "f75e6fe0-479f-4867-a645-ca03eaf1e5cb",
   "metadata": {},
   "outputs": [
    {
     "data": {
      "text/plain": [
       "4×4 transpose(::Matrix{Int64}) with eltype Int64:\n",
       "  9   5  3  20\n",
       " 19  12  6   7\n",
       " 17   2  6  17\n",
       "  1   1  1   1"
      ]
     },
     "execution_count": 17,
     "metadata": {},
     "output_type": "execute_result"
    }
   ],
   "source": [
    "# Транспонирование:\n",
    "transpose(b)"
   ]
  },
  {
   "cell_type": "code",
   "execution_count": 18,
   "id": "d96ca7bb-b306-4484-b6d3-20d1b943ff93",
   "metadata": {},
   "outputs": [
    {
     "data": {
      "text/plain": [
       "28"
      ]
     },
     "execution_count": 18,
     "metadata": {},
     "output_type": "execute_result"
    }
   ],
   "source": [
    "# След матрицы (сумма диагональных элементов):\n",
    "tr(b)"
   ]
  },
  {
   "cell_type": "code",
   "execution_count": 19,
   "id": "919fb41c-c4fb-4ad4-9f01-1edbe4a41b96",
   "metadata": {},
   "outputs": [
    {
     "data": {
      "text/plain": [
       "4-element Vector{Int64}:\n",
       "  9\n",
       " 12\n",
       "  6\n",
       "  1"
      ]
     },
     "execution_count": 19,
     "metadata": {},
     "output_type": "execute_result"
    }
   ],
   "source": [
    "# Извлечение диагональных элементов как массив:\n",
    "diag(b)"
   ]
  },
  {
   "cell_type": "code",
   "execution_count": 20,
   "id": "f9d45809-48e8-44d5-b54a-3010ef826a9c",
   "metadata": {},
   "outputs": [
    {
     "data": {
      "text/plain": [
       "4"
      ]
     },
     "execution_count": 20,
     "metadata": {},
     "output_type": "execute_result"
    }
   ],
   "source": [
    "# Ранг матрицы:\n",
    "rank(b)"
   ]
  },
  {
   "cell_type": "code",
   "execution_count": 21,
   "id": "1572dce3-b2bb-4e90-84e9-e7abb5e5af5f",
   "metadata": {},
   "outputs": [
    {
     "data": {
      "text/plain": [
       "4×4 Matrix{Float64}:\n",
       " -0.0378378   0.0713514  -0.0972973   0.0637838\n",
       "  0.0486486   0.0654054  -0.0891892  -0.0248649\n",
       "  0.0540541  -0.116216    0.0675676  -0.00540541\n",
       " -0.502703    0.0908108   1.42162    -0.00972973"
      ]
     },
     "execution_count": 21,
     "metadata": {},
     "output_type": "execute_result"
    }
   ],
   "source": [
    "# Инверсия матрицы (определение обратной матрицы):\n",
    "inv(b)"
   ]
  },
  {
   "cell_type": "code",
   "execution_count": 22,
   "id": "45541f77-617e-47d2-a928-38bcb397e7cd",
   "metadata": {},
   "outputs": [
    {
     "data": {
      "text/plain": [
       "1850.0"
      ]
     },
     "execution_count": 22,
     "metadata": {},
     "output_type": "execute_result"
    }
   ],
   "source": [
    "# Определитель матрицы:\n",
    "det(b)"
   ]
  },
  {
   "cell_type": "code",
   "execution_count": 23,
   "id": "dbe50df4-a232-421e-ab7a-9af5c80a59a0",
   "metadata": {},
   "outputs": [
    {
     "data": {
      "text/plain": [
       "3×4 Matrix{Float64}:\n",
       " -0.021407   -0.00368054   0.0582679   -0.0260355\n",
       "  0.0647925  -0.0697061    0.00243161   0.0425783\n",
       " -0.0489533   0.130372    -0.0278037    0.000529978"
      ]
     },
     "execution_count": 23,
     "metadata": {},
     "output_type": "execute_result"
    }
   ],
   "source": [
    "# Псевдобратная функция для прямоугольных матриц:\n",
    "pinv(a)"
   ]
  },
  {
   "cell_type": "markdown",
   "id": "d47c8cde-3df6-4130-a43f-b16acf853f63",
   "metadata": {},
   "source": [
    "### 4.2.3. Вычисление нормы векторов и матриц, повороты, вращения"
   ]
  },
  {
   "cell_type": "code",
   "execution_count": 24,
   "id": "2466e265-4f39-4255-a1b1-0c59cc8c9c0c",
   "metadata": {},
   "outputs": [
    {
     "data": {
      "text/plain": [
       "3-element Vector{Int64}:\n",
       "  2\n",
       "  4\n",
       " -5"
      ]
     },
     "execution_count": 24,
     "metadata": {},
     "output_type": "execute_result"
    }
   ],
   "source": [
    "# Создание вектора X:\n",
    "X = [2, 4, -5]"
   ]
  },
  {
   "cell_type": "code",
   "execution_count": 25,
   "id": "e8b8cffd-5d9d-477e-806c-7cc27a3e18fc",
   "metadata": {},
   "outputs": [
    {
     "data": {
      "text/plain": [
       "6.708203932499369"
      ]
     },
     "execution_count": 25,
     "metadata": {},
     "output_type": "execute_result"
    }
   ],
   "source": [
    "# Вычисление евклидовой нормы:\n",
    "norm(X)"
   ]
  },
  {
   "cell_type": "code",
   "execution_count": 26,
   "id": "cc49a183-58d3-4632-9064-9b16e0c148fb",
   "metadata": {},
   "outputs": [
    {
     "data": {
      "text/plain": [
       "11.0"
      ]
     },
     "execution_count": 26,
     "metadata": {},
     "output_type": "execute_result"
    }
   ],
   "source": [
    "# Вычисление p-нормы:\n",
    "p = 1\n",
    "norm(X,p)"
   ]
  },
  {
   "cell_type": "code",
   "execution_count": 27,
   "id": "bda997fd-95b1-4604-b9d3-fd5a025920b6",
   "metadata": {},
   "outputs": [
    {
     "data": {
      "text/plain": [
       "9.486832980505138"
      ]
     },
     "execution_count": 27,
     "metadata": {},
     "output_type": "execute_result"
    }
   ],
   "source": [
    "# Расстояние между двумя векторами X и Y:\n",
    "X = [2, 4, -5];\n",
    "Y = [1,-1,3];\n",
    "norm(X-Y)"
   ]
  },
  {
   "cell_type": "code",
   "execution_count": 29,
   "id": "6c8f6ea0-d474-4743-94f2-d49901870a82",
   "metadata": {},
   "outputs": [
    {
     "data": {
      "text/plain": [
       "9.486832980505138"
      ]
     },
     "execution_count": 29,
     "metadata": {},
     "output_type": "execute_result"
    }
   ],
   "source": [
    "# Проверка по базовому определению:\n",
    "sqrt(sum((X-Y).^2))"
   ]
  },
  {
   "cell_type": "code",
   "execution_count": 30,
   "id": "5b9f1d65-ad48-41f2-8ba9-98aed9ad7432",
   "metadata": {},
   "outputs": [
    {
     "data": {
      "text/plain": [
       "2.4404307889469252"
      ]
     },
     "execution_count": 30,
     "metadata": {},
     "output_type": "execute_result"
    }
   ],
   "source": [
    "# Угол между двумя векторами:\n",
    "acos((transpose(X)*Y)/(norm(X)*norm(Y)))"
   ]
  },
  {
   "cell_type": "code",
   "execution_count": 31,
   "id": "5758cd56-9cdc-4595-8c05-fa486d7abd31",
   "metadata": {},
   "outputs": [
    {
     "data": {
      "text/plain": [
       "3×3 Matrix{Int64}:\n",
       "  5  -4  2\n",
       " -1   2  3\n",
       " -2   1  0"
      ]
     },
     "execution_count": 31,
     "metadata": {},
     "output_type": "execute_result"
    }
   ],
   "source": [
    "# Создание матрицы:\n",
    "d = [5 -4 2 ; -1 2 3; -2 1 0]"
   ]
  },
  {
   "cell_type": "code",
   "execution_count": 32,
   "id": "9d2581e3-e546-4b7e-a929-9a59da2717be",
   "metadata": {},
   "outputs": [
    {
     "data": {
      "text/plain": [
       "7.147682841795258"
      ]
     },
     "execution_count": 32,
     "metadata": {},
     "output_type": "execute_result"
    }
   ],
   "source": [
    "# Вычисление Евклидовой нормы:\n",
    "opnorm(d)"
   ]
  },
  {
   "cell_type": "code",
   "execution_count": 33,
   "id": "f6ed74f9-d014-4574-b0fc-2b93458464a6",
   "metadata": {},
   "outputs": [
    {
     "data": {
      "text/plain": [
       "8.0"
      ]
     },
     "execution_count": 33,
     "metadata": {},
     "output_type": "execute_result"
    }
   ],
   "source": [
    "# Вычисление p-нормы:\n",
    "p=1\n",
    "opnorm(d,p)"
   ]
  },
  {
   "cell_type": "code",
   "execution_count": 34,
   "id": "1e1b09c1-0632-4ce0-adb5-616a416d26cb",
   "metadata": {},
   "outputs": [
    {
     "data": {
      "text/plain": [
       "3×3 Matrix{Int64}:\n",
       " 0   1  -2\n",
       " 3   2  -1\n",
       " 2  -4   5"
      ]
     },
     "execution_count": 34,
     "metadata": {},
     "output_type": "execute_result"
    }
   ],
   "source": [
    "# Поворот на 180 градусов:\n",
    "rot180(d)"
   ]
  },
  {
   "cell_type": "code",
   "execution_count": 35,
   "id": "ab508a35-3245-434e-823f-1d9271d2b379",
   "metadata": {},
   "outputs": [
    {
     "data": {
      "text/plain": [
       "3×3 Matrix{Int64}:\n",
       " -2   1  0\n",
       " -1   2  3\n",
       "  5  -4  2"
      ]
     },
     "execution_count": 35,
     "metadata": {},
     "output_type": "execute_result"
    }
   ],
   "source": [
    "# Переворачивание строк:\n",
    "reverse(d,dims=1)"
   ]
  },
  {
   "cell_type": "code",
   "execution_count": 36,
   "id": "e285148d-9713-4413-bd84-c6a98b2b437d",
   "metadata": {},
   "outputs": [
    {
     "data": {
      "text/plain": [
       "3×3 Matrix{Int64}:\n",
       " 2  -4   5\n",
       " 3   2  -1\n",
       " 0   1  -2"
      ]
     },
     "execution_count": 36,
     "metadata": {},
     "output_type": "execute_result"
    }
   ],
   "source": [
    "# Переворачивание столбцов\n",
    "reverse(d,dims=2)"
   ]
  },
  {
   "cell_type": "markdown",
   "id": "55658df7-24f3-44a8-b2cd-3d51d87ca9b9",
   "metadata": {},
   "source": [
    "### 4.2.4. Матричное умножение, единичная матрица, скалярное произведение"
   ]
  },
  {
   "cell_type": "code",
   "execution_count": 37,
   "id": "3e24d590-afe3-45ed-bc5e-a2ab292bf5b7",
   "metadata": {},
   "outputs": [
    {
     "data": {
      "text/plain": [
       "2×3 Matrix{Int64}:\n",
       " 5   4  6\n",
       " 5  10  7"
      ]
     },
     "execution_count": 37,
     "metadata": {},
     "output_type": "execute_result"
    }
   ],
   "source": [
    "# Матрица 2x3 со случайными целыми значениями от 1 до 10:\n",
    "A = rand(1:10,(2,3))"
   ]
  },
  {
   "cell_type": "code",
   "execution_count": 38,
   "id": "3107c5b2-ce7d-4cbd-86c3-232b6b9f442e",
   "metadata": {},
   "outputs": [
    {
     "data": {
      "text/plain": [
       "3×4 Matrix{Int64}:\n",
       " 8   3  7  8\n",
       " 1   9  1  1\n",
       " 9  10  3  1"
      ]
     },
     "execution_count": 38,
     "metadata": {},
     "output_type": "execute_result"
    }
   ],
   "source": [
    "# Матрица 3x4 со случайными целыми значениями от 1 до 10:\n",
    "B = rand(1:10,(3,4))"
   ]
  },
  {
   "cell_type": "code",
   "execution_count": 39,
   "id": "29141a16-b2a9-46b6-93e2-e3a38a70f246",
   "metadata": {},
   "outputs": [
    {
     "data": {
      "text/plain": [
       "2×4 Matrix{Int64}:\n",
       "  98  111  57  50\n",
       " 113  175  66  57"
      ]
     },
     "execution_count": 39,
     "metadata": {},
     "output_type": "execute_result"
    }
   ],
   "source": [
    "# Произведение матриц A и B:\n",
    "A*B"
   ]
  },
  {
   "cell_type": "code",
   "execution_count": 40,
   "id": "2e1473b5-c9ad-436f-8730-5c56a3404b9e",
   "metadata": {},
   "outputs": [
    {
     "data": {
      "text/plain": [
       "3×3 Matrix{Int64}:\n",
       " 1  0  0\n",
       " 0  1  0\n",
       " 0  0  1"
      ]
     },
     "execution_count": 40,
     "metadata": {},
     "output_type": "execute_result"
    }
   ],
   "source": [
    "# Единичная матрица 3x3:\n",
    "Matrix{Int}(I, 3, 3)"
   ]
  },
  {
   "cell_type": "code",
   "execution_count": 41,
   "id": "481f8315-ab62-4c3b-8597-bb4e2476c2f3",
   "metadata": {},
   "outputs": [
    {
     "data": {
      "text/plain": [
       "-17"
      ]
     },
     "execution_count": 41,
     "metadata": {},
     "output_type": "execute_result"
    }
   ],
   "source": [
    "# Скалярное произведение векторов X и Y:\n",
    "X = [2, 4, -5]\n",
    "Y = [1,-1,3]\n",
    "dot(X,Y)"
   ]
  },
  {
   "cell_type": "code",
   "execution_count": 42,
   "id": "3491aac5-4772-4c54-8244-ecbeefad1326",
   "metadata": {},
   "outputs": [
    {
     "data": {
      "text/plain": [
       "-17"
      ]
     },
     "execution_count": 42,
     "metadata": {},
     "output_type": "execute_result"
    }
   ],
   "source": [
    "# тоже скалярное произведение:\n",
    "X'Y"
   ]
  },
  {
   "cell_type": "markdown",
   "id": "5c5625a0-0de1-4d93-ab23-425b29c826d5",
   "metadata": {},
   "source": [
    "### 4.2.5. Факторизация. Специальные матричные структуры"
   ]
  },
  {
   "cell_type": "code",
   "execution_count": 43,
   "id": "480cebb8-95b7-409e-a0d6-70bfb7642bfb",
   "metadata": {},
   "outputs": [
    {
     "data": {
      "text/plain": [
       "3×3 Matrix{Float64}:\n",
       " 0.0348329  0.375824   0.747843\n",
       " 0.240031   0.385661   0.968305\n",
       " 0.360039   0.0386811  0.778836"
      ]
     },
     "execution_count": 43,
     "metadata": {},
     "output_type": "execute_result"
    }
   ],
   "source": [
    "# Задаём квадратную матрицу 3x3 со случайными значениями:\n",
    "A = rand(3, 3)"
   ]
  },
  {
   "cell_type": "code",
   "execution_count": 44,
   "id": "c342c398-91fb-4220-aca2-ad45a0920081",
   "metadata": {},
   "outputs": [
    {
     "data": {
      "text/plain": [
       "3-element Vector{Float64}:\n",
       " 1.0\n",
       " 1.0\n",
       " 1.0"
      ]
     },
     "execution_count": 44,
     "metadata": {},
     "output_type": "execute_result"
    }
   ],
   "source": [
    "# Задаём единичный вектор:\n",
    "x = fill(1.0, 3)"
   ]
  },
  {
   "cell_type": "code",
   "execution_count": 45,
   "id": "82136d69-7e30-4b8b-8c54-55d52cd2b1a5",
   "metadata": {},
   "outputs": [
    {
     "data": {
      "text/plain": [
       "3-element Vector{Float64}:\n",
       " 1.1584997099418903\n",
       " 1.5939970955428544\n",
       " 1.177556154750584"
      ]
     },
     "execution_count": 45,
     "metadata": {},
     "output_type": "execute_result"
    }
   ],
   "source": [
    "# Задаём вектор b:\n",
    "b = A*x"
   ]
  },
  {
   "cell_type": "code",
   "execution_count": 46,
   "id": "7de8bc11-02f7-46e6-818e-c172a00c2e63",
   "metadata": {},
   "outputs": [
    {
     "data": {
      "text/plain": [
       "3-element Vector{Float64}:\n",
       " 0.9999999999999992\n",
       " 0.999999999999999\n",
       " 1.0000000000000004"
      ]
     },
     "execution_count": 46,
     "metadata": {},
     "output_type": "execute_result"
    }
   ],
   "source": [
    "# Решение исходного уравнения получаем с помощью функции \\\n",
    "# (убеждаемся, что x - единичный вектор):\n",
    "A\\b"
   ]
  },
  {
   "cell_type": "code",
   "execution_count": 47,
   "id": "b196eb49-4d82-4fa4-b88f-aebca6eeb398",
   "metadata": {},
   "outputs": [
    {
     "data": {
      "text/plain": [
       "LU{Float64, Matrix{Float64}, Vector{Int64}}\n",
       "L factor:\n",
       "3×3 Matrix{Float64}:\n",
       " 1.0        0.0      0.0\n",
       " 0.0967475  1.0      0.0\n",
       " 0.666679   0.96719  1.0\n",
       "U factor:\n",
       "3×3 Matrix{Float64}:\n",
       " 0.360039  0.0386811   0.778836\n",
       " 0.0       0.372082    0.672493\n",
       " 0.0       0.0        -0.201356"
      ]
     },
     "execution_count": 47,
     "metadata": {},
     "output_type": "execute_result"
    }
   ],
   "source": [
    "# LU-факторизация:\n",
    "Alu = lu(A)"
   ]
  },
  {
   "cell_type": "code",
   "execution_count": 48,
   "id": "39e2a9cc-5e1e-400b-a4bb-41fe324325fe",
   "metadata": {},
   "outputs": [
    {
     "data": {
      "text/plain": [
       "3-element Vector{Float64}:\n",
       " 0.9999999999999992\n",
       " 0.999999999999999\n",
       " 1.0000000000000004"
      ]
     },
     "execution_count": 48,
     "metadata": {},
     "output_type": "execute_result"
    }
   ],
   "source": [
    "# Решение СЛАУ через матрицу A:\n",
    "A\\b"
   ]
  },
  {
   "cell_type": "code",
   "execution_count": 49,
   "id": "65f672fa-22c9-4dd8-9270-494739a54021",
   "metadata": {},
   "outputs": [
    {
     "data": {
      "text/plain": [
       "3-element Vector{Float64}:\n",
       " 0.9999999999999992\n",
       " 0.999999999999999\n",
       " 1.0000000000000004"
      ]
     },
     "execution_count": 49,
     "metadata": {},
     "output_type": "execute_result"
    }
   ],
   "source": [
    "# Решение СЛАУ через объект факторизации:\n",
    "Alu\\b"
   ]
  },
  {
   "cell_type": "code",
   "execution_count": 50,
   "id": "cd2cbe12-fd79-4487-a5a2-182520261f3f",
   "metadata": {},
   "outputs": [
    {
     "data": {
      "text/plain": [
       "-0.02697449488641754"
      ]
     },
     "execution_count": 50,
     "metadata": {},
     "output_type": "execute_result"
    }
   ],
   "source": [
    "# Детерминант матрицы A:\n",
    "det(A)"
   ]
  },
  {
   "cell_type": "code",
   "execution_count": 51,
   "id": "e2181d4d-47d8-4aed-aa2d-0a51c512344c",
   "metadata": {},
   "outputs": [
    {
     "data": {
      "text/plain": [
       "-0.02697449488641754"
      ]
     },
     "execution_count": 51,
     "metadata": {},
     "output_type": "execute_result"
    }
   ],
   "source": [
    "# Детерминант матрицы A через объект факторизации:\n",
    "det(Alu)"
   ]
  },
  {
   "cell_type": "code",
   "execution_count": 54,
   "id": "a3bbe520-a81f-483f-84b2-b6623ff8c486",
   "metadata": {},
   "outputs": [
    {
     "data": {
      "text/plain": [
       "LinearAlgebra.QRCompactWY{Float64, Matrix{Float64}, Matrix{Float64}}\n",
       "Q factor: 3×3 LinearAlgebra.QRCompactWYQ{Float64, Matrix{Float64}, Matrix{Float64}}\n",
       "R factor:\n",
       "3×3 Matrix{Float64}:\n",
       " -0.434116  -0.275476  -1.24134\n",
       "  0.0       -0.464314  -0.737998\n",
       "  0.0        0.0       -0.133825"
      ]
     },
     "execution_count": 54,
     "metadata": {},
     "output_type": "execute_result"
    }
   ],
   "source": [
    "# QR-факторизация:\n",
    "Aqr = qr(A) "
   ]
  },
  {
   "cell_type": "code",
   "execution_count": 55,
   "id": "7f9b85b2-fc60-48da-9fe2-fe5d6a42a0b0",
   "metadata": {},
   "outputs": [
    {
     "data": {
      "text/plain": [
       "3×3 LinearAlgebra.QRCompactWYQ{Float64, Matrix{Float64}, Matrix{Float64}}"
      ]
     },
     "execution_count": 55,
     "metadata": {},
     "output_type": "execute_result"
    }
   ],
   "source": [
    "# Матрица Q:\n",
    "Aqr.Q"
   ]
  },
  {
   "cell_type": "code",
   "execution_count": 56,
   "id": "b4dd5c34-302a-492f-bb85-eaebcba99a83",
   "metadata": {},
   "outputs": [
    {
     "data": {
      "text/plain": [
       "3×3 Matrix{Float64}:\n",
       " -0.434116  -0.275476  -1.24134\n",
       "  0.0       -0.464314  -0.737998\n",
       "  0.0        0.0       -0.133825"
      ]
     },
     "execution_count": 56,
     "metadata": {},
     "output_type": "execute_result"
    }
   ],
   "source": [
    "# Матрица R:\n",
    "Aqr.R"
   ]
  },
  {
   "cell_type": "code",
   "execution_count": 57,
   "id": "6b11bf10-058d-479f-9026-b5123d7caca6",
   "metadata": {},
   "outputs": [
    {
     "data": {
      "text/plain": [
       "3×3 Matrix{Float64}:\n",
       "  1.0          -2.22045e-16  -1.11022e-16\n",
       " -3.33067e-16   1.0          -2.22045e-16\n",
       " -2.22045e-16  -2.22045e-16   1.0"
      ]
     },
     "execution_count": 57,
     "metadata": {},
     "output_type": "execute_result"
    }
   ],
   "source": [
    "# Проверка, что матрица Q - ортогональная:\n",
    "Aqr.Q'*Aqr.Q"
   ]
  },
  {
   "cell_type": "code",
   "execution_count": 58,
   "id": "a1e023e4-c230-4aa7-90e1-545f2a016eb3",
   "metadata": {},
   "outputs": [
    {
     "data": {
      "text/plain": [
       "3×3 Matrix{Float64}:\n",
       " 0.0696658  0.615854  1.10788\n",
       " 0.615854   0.771323  1.00699\n",
       " 1.10788    1.00699   1.55767"
      ]
     },
     "execution_count": 58,
     "metadata": {},
     "output_type": "execute_result"
    }
   ],
   "source": [
    "# Симметризация матрицы A:\n",
    "Asym = A + A'"
   ]
  },
  {
   "cell_type": "code",
   "execution_count": 60,
   "id": "572b2294-b4d4-49e7-8fa7-5a0e051ada09",
   "metadata": {},
   "outputs": [
    {
     "data": {
      "text/plain": [
       "Eigen{Float64, Float64, Matrix{Float64}, Vector{Float64}}\n",
       "values:\n",
       "3-element Vector{Float64}:\n",
       " -0.5271050689538893\n",
       "  0.10096405928768104\n",
       "  2.8248011466755707\n",
       "vectors:\n",
       "3×3 Matrix{Float64}:\n",
       "  0.896742    0.148064  0.417051\n",
       " -0.0891474  -0.862619  0.497936\n",
       " -0.433482    0.483699  0.760347"
      ]
     },
     "execution_count": 60,
     "metadata": {},
     "output_type": "execute_result"
    }
   ],
   "source": [
    "# Спектральное разложение симметризованной матрицы:\n",
    "AsymEig = eigen(Asym)"
   ]
  },
  {
   "cell_type": "code",
   "execution_count": 61,
   "id": "1634884c-ae49-4cab-bb7f-5f0f1790d3cf",
   "metadata": {},
   "outputs": [
    {
     "data": {
      "text/plain": [
       "3-element Vector{Float64}:\n",
       " -0.5271050689538893\n",
       "  0.10096405928768104\n",
       "  2.8248011466755707"
      ]
     },
     "execution_count": 61,
     "metadata": {},
     "output_type": "execute_result"
    }
   ],
   "source": [
    "# Собственные значения:\n",
    "AsymEig.values"
   ]
  },
  {
   "cell_type": "code",
   "execution_count": 62,
   "id": "60a8b9d7-1c29-4e54-805b-632d0c92ccb6",
   "metadata": {},
   "outputs": [
    {
     "data": {
      "text/plain": [
       "3×3 Matrix{Float64}:\n",
       "  0.896742    0.148064  0.417051\n",
       " -0.0891474  -0.862619  0.497936\n",
       " -0.433482    0.483699  0.760347"
      ]
     },
     "execution_count": 62,
     "metadata": {},
     "output_type": "execute_result"
    }
   ],
   "source": [
    "#Собственные векторы:\n",
    "AsymEig.vectors"
   ]
  },
  {
   "cell_type": "code",
   "execution_count": 63,
   "id": "83d532be-387d-4e82-81b9-14f0ec6bda89",
   "metadata": {},
   "outputs": [
    {
     "data": {
      "text/plain": [
       "3×3 Matrix{Float64}:\n",
       "  1.0          6.66134e-16   8.88178e-16\n",
       " -2.66454e-15  1.0          -8.88178e-16\n",
       "  3.10862e-15  1.77636e-15   1.0"
      ]
     },
     "execution_count": 63,
     "metadata": {},
     "output_type": "execute_result"
    }
   ],
   "source": [
    "# Проверяем, что получится единичная матрица:\n",
    "inv(AsymEig)*Asym"
   ]
  },
  {
   "cell_type": "code",
   "execution_count": 64,
   "id": "dcca3d5b-9566-48e4-82d8-851e728c71a7",
   "metadata": {},
   "outputs": [
    {
     "data": {
      "text/plain": [
       "1000×1000 Matrix{Float64}:\n",
       "  0.498107    0.9932     0.796064     …   2.43722     0.896926   0.797043\n",
       " -0.709661    0.747913   0.13216          0.561194    1.01556   -1.31409\n",
       "  0.333709   -1.53704    0.000913584     -0.913004   -1.06973   -0.468469\n",
       " -0.817681    0.204308   0.447637         0.417627   -0.849512   0.276587\n",
       "  0.0555414  -0.155262  -0.0264407       -2.30275     1.28225    0.354914\n",
       " -1.08131    -1.38695   -0.433169     …  -1.54628    -0.842846  -0.325393\n",
       "  1.21509    -1.31199   -0.44877         -0.8878      0.370637   0.397342\n",
       "  1.23758     0.20494    0.357214        -0.243214    0.619535   0.695569\n",
       "  0.613613    0.799796  -0.561448         0.0820579  -2.15672    0.939634\n",
       "  2.40349    -1.81486    0.777866        -0.701973    1.13344   -0.8857\n",
       " -0.0748372  -1.42705    1.48456      …  -1.24635     0.119686  -1.38236\n",
       "  1.12554     0.723586  -1.02634          1.12104    -0.530914   0.965865\n",
       " -0.992464   -1.27694    0.980392        -0.528843   -1.07314    0.138713\n",
       "  ⋮                                   ⋱                         \n",
       " -2.54637    -0.403786  -0.288332         1.68204    -0.347847   0.250423\n",
       "  1.68207    -1.44007   -0.43385          0.224988   -0.827497   1.51049\n",
       "  1.68128     1.07288    0.0121708    …  -0.0115148   1.56946   -0.476992\n",
       " -0.85565     0.154044  -0.444397        -0.936987    1.24051   -0.459101\n",
       "  0.592794   -1.51185    0.571462         0.103993    1.95511    1.79571\n",
       "  0.764949    1.17072   -1.5557          -0.463202   -0.911406  -0.223246\n",
       "  0.101661   -1.38173   -2.09718          0.745323   -0.738271   0.481961\n",
       "  0.425034    0.764656  -0.217406     …   3.0592      0.788067   0.118298\n",
       " -0.189221    0.772166  -0.96278          2.10753    -1.22823   -0.775684\n",
       " -1.46586     0.394922  -0.696159         1.35604     1.30262   -1.34841\n",
       " -1.34435     0.976551   0.141278         0.842645    0.563847  -0.792648\n",
       "  0.640727    0.617645   0.920624         0.47454     1.02369    0.644452"
      ]
     },
     "execution_count": 64,
     "metadata": {},
     "output_type": "execute_result"
    }
   ],
   "source": [
    "# Матрица 1000 х 1000:\n",
    "n = 1000\n",
    "A = randn(n,n)"
   ]
  },
  {
   "cell_type": "code",
   "execution_count": 65,
   "id": "424cfeac-da85-4a0c-ac82-68f4a4b1d1c6",
   "metadata": {},
   "outputs": [
    {
     "data": {
      "text/plain": [
       "1000×1000 Matrix{Float64}:\n",
       "  0.996213    0.283539     1.12977     …   0.971362   -0.447419    1.43777\n",
       "  0.283539    1.49583     -1.40488         0.956116    1.99211    -0.696444\n",
       "  1.12977    -1.40488      0.00182717     -1.60916    -0.928452    0.452155\n",
       " -1.45611    -0.627718     0.451431       -0.076996   -0.821147    1.59791\n",
       "  0.0947482  -1.53344      1.37936        -2.07791     1.02724     1.90908\n",
       " -0.730386   -1.32822     -2.20476     …  -1.92357    -0.650903   -1.06951\n",
       "  1.23621    -0.925841    -1.24906        -0.509519    1.419      -0.432987\n",
       "  0.453674    1.38397     -1.19458        -0.425132    1.15097     1.46664\n",
       "  1.73515     0.770159     0.355573        1.5781     -3.55494     2.27184\n",
       "  4.2257      0.351436    -0.102623       -0.0838589   3.57209    -0.984116\n",
       " -0.69262    -1.34315      0.678599    …  -0.242718   -0.14411    -2.43056\n",
       "  0.261013    1.26291     -1.4331          0.169766   -0.620269    0.292253\n",
       " -2.32224    -1.75739      0.331915       -1.21986    -0.692971    1.23532\n",
       "  ⋮                                    ⋱                          \n",
       " -2.5122     -2.10925     -2.30527         1.40543    -0.0228593  -0.252643\n",
       "  1.37881    -0.938687    -1.29167         0.943203    0.891665    2.27417\n",
       "  2.3472      1.82195      1.02403     …   1.5486      2.5402     -0.332286\n",
       " -0.0629842   0.110391    -1.81667        -2.96479     0.604692    0.0270358\n",
       "  0.434852   -1.30006     -0.700101        0.870363    2.55923     0.644191\n",
       "  1.43278    -0.00495073  -1.12885        -2.34371    -0.10815     0.701539\n",
       "  1.32908    -0.974994    -1.16158         2.51983    -0.417657   -0.500538\n",
       "  0.825285    0.331957     0.227887    …   2.89779     1.22835     0.500469\n",
       " -1.20368     0.717776    -1.20899         3.13599     0.112528    0.487401\n",
       "  0.971362    0.956116    -1.60916         2.71208     2.14526    -0.873871\n",
       " -0.447419    1.99211     -0.928452        2.14526     1.12769     0.231041\n",
       "  1.43777    -0.696444     0.452155       -0.873871    0.231041    1.2889"
      ]
     },
     "execution_count": 65,
     "metadata": {},
     "output_type": "execute_result"
    }
   ],
   "source": [
    "# Симметризация матрицы:\n",
    "Asym = A + A'"
   ]
  },
  {
   "cell_type": "code",
   "execution_count": 66,
   "id": "c9d672da-2bba-46b3-9532-f01398543683",
   "metadata": {},
   "outputs": [
    {
     "data": {
      "text/plain": [
       "true"
      ]
     },
     "execution_count": 66,
     "metadata": {},
     "output_type": "execute_result"
    }
   ],
   "source": [
    "# Проверка, является ли матрица симметричной:\n",
    "issymmetric(Asym)"
   ]
  },
  {
   "cell_type": "code",
   "execution_count": 67,
   "id": "1036c447-987d-4ac8-a14d-85a5469475bb",
   "metadata": {},
   "outputs": [
    {
     "data": {
      "text/plain": [
       "0.28353865263633393"
      ]
     },
     "execution_count": 67,
     "metadata": {},
     "output_type": "execute_result"
    }
   ],
   "source": [
    "# Добавление шума:\n",
    "Asym_noisy = copy(Asym)\n",
    "Asym_noisy[1,2] += 5eps()"
   ]
  },
  {
   "cell_type": "code",
   "execution_count": 68,
   "id": "aa92c9a1-89b5-48af-b3df-c6982414b585",
   "metadata": {},
   "outputs": [
    {
     "data": {
      "text/plain": [
       "false"
      ]
     },
     "execution_count": 68,
     "metadata": {},
     "output_type": "execute_result"
    }
   ],
   "source": [
    "# Проверка, является ли матрица симметричной:\n",
    "issymmetric(Asym_noisy)"
   ]
  },
  {
   "cell_type": "code",
   "execution_count": 69,
   "id": "c5050cf6-20b3-471d-a447-dc131da22729",
   "metadata": {},
   "outputs": [
    {
     "data": {
      "text/plain": [
       "1000×1000 Symmetric{Float64, Matrix{Float64}}:\n",
       "  0.996213    0.283539     1.12977     …   0.971362   -0.447419    1.43777\n",
       "  0.283539    1.49583     -1.40488         0.956116    1.99211    -0.696444\n",
       "  1.12977    -1.40488      0.00182717     -1.60916    -0.928452    0.452155\n",
       " -1.45611    -0.627718     0.451431       -0.076996   -0.821147    1.59791\n",
       "  0.0947482  -1.53344      1.37936        -2.07791     1.02724     1.90908\n",
       " -0.730386   -1.32822     -2.20476     …  -1.92357    -0.650903   -1.06951\n",
       "  1.23621    -0.925841    -1.24906        -0.509519    1.419      -0.432987\n",
       "  0.453674    1.38397     -1.19458        -0.425132    1.15097     1.46664\n",
       "  1.73515     0.770159     0.355573        1.5781     -3.55494     2.27184\n",
       "  4.2257      0.351436    -0.102623       -0.0838589   3.57209    -0.984116\n",
       " -0.69262    -1.34315      0.678599    …  -0.242718   -0.14411    -2.43056\n",
       "  0.261013    1.26291     -1.4331          0.169766   -0.620269    0.292253\n",
       " -2.32224    -1.75739      0.331915       -1.21986    -0.692971    1.23532\n",
       "  ⋮                                    ⋱                          \n",
       " -2.5122     -2.10925     -2.30527         1.40543    -0.0228593  -0.252643\n",
       "  1.37881    -0.938687    -1.29167         0.943203    0.891665    2.27417\n",
       "  2.3472      1.82195      1.02403     …   1.5486      2.5402     -0.332286\n",
       " -0.0629842   0.110391    -1.81667        -2.96479     0.604692    0.0270358\n",
       "  0.434852   -1.30006     -0.700101        0.870363    2.55923     0.644191\n",
       "  1.43278    -0.00495073  -1.12885        -2.34371    -0.10815     0.701539\n",
       "  1.32908    -0.974994    -1.16158         2.51983    -0.417657   -0.500538\n",
       "  0.825285    0.331957     0.227887    …   2.89779     1.22835     0.500469\n",
       " -1.20368     0.717776    -1.20899         3.13599     0.112528    0.487401\n",
       "  0.971362    0.956116    -1.60916         2.71208     2.14526    -0.873871\n",
       " -0.447419    1.99211     -0.928452        2.14526     1.12769     0.231041\n",
       "  1.43777    -0.696444     0.452155       -0.873871    0.231041    1.2889"
      ]
     },
     "execution_count": 69,
     "metadata": {},
     "output_type": "execute_result"
    }
   ],
   "source": [
    "# Явно указываем, что матрица является симметричной:\n",
    "Asym_explicit = Symmetric(Asym_noisy)"
   ]
  },
  {
   "cell_type": "code",
   "execution_count": 70,
   "id": "583afd17-78c9-4f93-8ed8-c468bebb03f7",
   "metadata": {},
   "outputs": [
    {
     "name": "stderr",
     "output_type": "stream",
     "text": [
      "\u001b[32m\u001b[1m   Resolving\u001b[22m\u001b[39m package versions...\n",
      "\u001b[32m\u001b[1m   Installed\u001b[22m\u001b[39m BenchmarkTools ─ v1.5.0\n",
      "\u001b[32m\u001b[1m    Updating\u001b[22m\u001b[39m `C:\\Users\\dina7\\.julia\\environments\\v1.10\\Project.toml`\n",
      "  \u001b[90m[6e4b80f9] \u001b[39m\u001b[92m+ BenchmarkTools v1.5.0\u001b[39m\n",
      "\u001b[32m\u001b[1m    Updating\u001b[22m\u001b[39m `C:\\Users\\dina7\\.julia\\environments\\v1.10\\Manifest.toml`\n",
      "  \u001b[90m[6e4b80f9] \u001b[39m\u001b[92m+ BenchmarkTools v1.5.0\u001b[39m\n",
      "  \u001b[90m[9abbd945] \u001b[39m\u001b[92m+ Profile\u001b[39m\n",
      "\u001b[32m\u001b[1mPrecompiling\u001b[22m\u001b[39m project...\n",
      "\u001b[32m  ✓ \u001b[39mBenchmarkTools\n",
      "  1 dependency successfully precompiled in 3 seconds. 26 already precompiled. 1 skipped during auto due to previous errors.\n"
     ]
    }
   ],
   "source": [
    "import Pkg\n",
    "Pkg.add(\"BenchmarkTools\")\n",
    "using BenchmarkTools"
   ]
  },
  {
   "cell_type": "code",
   "execution_count": 71,
   "id": "c9e75cb4-e2c3-497d-b9aa-b78c9759a3ad",
   "metadata": {},
   "outputs": [
    {
     "name": "stdout",
     "output_type": "stream",
     "text": [
      "  86.520 ms (11 allocations: 7.99 MiB)\n"
     ]
    }
   ],
   "source": [
    "# Оценка эффективности выполнения операции по нахождению\n",
    "# собственных значений симметризованной матрицы:\n",
    "@btime eigvals(Asym);"
   ]
  },
  {
   "cell_type": "code",
   "execution_count": 72,
   "id": "39f87954-1b87-4c8e-8cd4-46d97de38f0a",
   "metadata": {},
   "outputs": [
    {
     "name": "stdout",
     "output_type": "stream",
     "text": [
      "  638.148 ms (14 allocations: 7.93 MiB)\n"
     ]
    }
   ],
   "source": [
    "# Оценка эффективности выполнения операции по нахождению\n",
    "# собственных значений зашумлённой матрицы:\n",
    "@btime eigvals(Asym_noisy);"
   ]
  },
  {
   "cell_type": "code",
   "execution_count": 74,
   "id": "294b6f3a-f1b0-4aae-afc8-0ec1bd14d25d",
   "metadata": {},
   "outputs": [
    {
     "name": "stdout",
     "output_type": "stream",
     "text": [
      "  87.727 ms (11 allocations: 7.99 MiB)\n"
     ]
    }
   ],
   "source": [
    "# Оценка эффективности выполнения операции по нахождению\n",
    "# собственных значений зашумлённой матрицы,\n",
    "# для которой явно указано, что она симметричная:\n",
    "@btime eigvals(Asym_explicit);"
   ]
  },
  {
   "cell_type": "code",
   "execution_count": 75,
   "id": "0baf76c7-7bf9-4e19-a95b-af9d438e76ba",
   "metadata": {},
   "outputs": [
    {
     "data": {
      "text/plain": [
       "1000000×1000000 SymTridiagonal{Float64, Vector{Float64}}:\n",
       " 0.0530637   0.0323805    ⋅        …    ⋅          ⋅          ⋅ \n",
       " 0.0323805  -0.0628417  -0.670232       ⋅          ⋅          ⋅ \n",
       "  ⋅         -0.670232    1.49639        ⋅          ⋅          ⋅ \n",
       "  ⋅           ⋅          0.276091       ⋅          ⋅          ⋅ \n",
       "  ⋅           ⋅           ⋅             ⋅          ⋅          ⋅ \n",
       "  ⋅           ⋅           ⋅        …    ⋅          ⋅          ⋅ \n",
       "  ⋅           ⋅           ⋅             ⋅          ⋅          ⋅ \n",
       "  ⋅           ⋅           ⋅             ⋅          ⋅          ⋅ \n",
       "  ⋅           ⋅           ⋅             ⋅          ⋅          ⋅ \n",
       "  ⋅           ⋅           ⋅             ⋅          ⋅          ⋅ \n",
       "  ⋅           ⋅           ⋅        …    ⋅          ⋅          ⋅ \n",
       "  ⋅           ⋅           ⋅             ⋅          ⋅          ⋅ \n",
       "  ⋅           ⋅           ⋅             ⋅          ⋅          ⋅ \n",
       " ⋮                                 ⋱                        \n",
       "  ⋅           ⋅           ⋅             ⋅          ⋅          ⋅ \n",
       "  ⋅           ⋅           ⋅             ⋅          ⋅          ⋅ \n",
       "  ⋅           ⋅           ⋅        …    ⋅          ⋅          ⋅ \n",
       "  ⋅           ⋅           ⋅             ⋅          ⋅          ⋅ \n",
       "  ⋅           ⋅           ⋅             ⋅          ⋅          ⋅ \n",
       "  ⋅           ⋅           ⋅             ⋅          ⋅          ⋅ \n",
       "  ⋅           ⋅           ⋅             ⋅          ⋅          ⋅ \n",
       "  ⋅           ⋅           ⋅        …    ⋅          ⋅          ⋅ \n",
       "  ⋅           ⋅           ⋅            0.489876    ⋅          ⋅ \n",
       "  ⋅           ⋅           ⋅           -2.03669   -0.623726    ⋅ \n",
       "  ⋅           ⋅           ⋅           -0.623726   0.193182   0.202363\n",
       "  ⋅           ⋅           ⋅             ⋅         0.202363  -0.252558"
      ]
     },
     "execution_count": 75,
     "metadata": {},
     "output_type": "execute_result"
    }
   ],
   "source": [
    "# Трёхдиагональная матрица 1000000 х 1000000:\n",
    "n = 1000000;\n",
    "A = SymTridiagonal(randn(n), randn(n-1))"
   ]
  },
  {
   "cell_type": "code",
   "execution_count": 76,
   "id": "9abe1a06-2e0a-4297-95c9-8f7defa0cf6a",
   "metadata": {},
   "outputs": [
    {
     "name": "stdout",
     "output_type": "stream",
     "text": [
      "  698.419 ms (17 allocations: 183.11 MiB)\n"
     ]
    },
    {
     "data": {
      "text/plain": [
       "6.230437761663657"
      ]
     },
     "execution_count": 76,
     "metadata": {},
     "output_type": "execute_result"
    }
   ],
   "source": [
    "# Оценка эффективности выполнения операции по нахождению\n",
    "# собственных значений:\n",
    "@btime eigmax(A)"
   ]
  },
  {
   "cell_type": "code",
   "execution_count": 78,
   "id": "4494cbf6-25cb-42ba-9057-4227255d12be",
   "metadata": {},
   "outputs": [
    {
     "ename": "LoadError",
     "evalue": "OutOfMemoryError()",
     "output_type": "error",
     "traceback": [
      "OutOfMemoryError()",
      "",
      "Stacktrace:",
      " [1] Array",
      "   @ .\\boot.jl:479 [inlined]",
      " [2] Matrix{Float64}(M::SymTridiagonal{Float64, Vector{Float64}})",
      "   @ LinearAlgebra c:\\users\\dina7\\appdata\\local\\programs\\julia-1.10.5\\share\\julia\\stdlib\\v1.10\\LinearAlgebra\\src\\tridiag.jl:127",
      " [3] (Matrix)(M::SymTridiagonal{Float64, Vector{Float64}})",
      "   @ LinearAlgebra c:\\users\\dina7\\appdata\\local\\programs\\julia-1.10.5\\share\\julia\\stdlib\\v1.10\\LinearAlgebra\\src\\tridiag.jl:138",
      " [4] top-level scope",
      "   @ In[78]:1"
     ]
    }
   ],
   "source": [
    "B = Matrix(A)"
   ]
  },
  {
   "cell_type": "markdown",
   "id": "d9d7d888-17eb-412e-ae79-a43024f67628",
   "metadata": {},
   "source": [
    "### 4.2.6. Общая линейная алгебра"
   ]
  },
  {
   "cell_type": "code",
   "execution_count": 79,
   "id": "516756f5-6f90-4bc0-b432-ff3b704fbbf1",
   "metadata": {},
   "outputs": [
    {
     "data": {
      "text/plain": [
       "3×3 Matrix{Rational{BigInt}}:\n",
       " 3//10  3//5   1//10\n",
       "  1     4//5   1//5\n",
       " 2//5   3//10  9//10"
      ]
     },
     "execution_count": 79,
     "metadata": {},
     "output_type": "execute_result"
    }
   ],
   "source": [
    "# Матрица с рациональными элементами:\n",
    "Arational = Matrix{Rational{BigInt}}(rand(1:10, 3, 3))/10"
   ]
  },
  {
   "cell_type": "code",
   "execution_count": 80,
   "id": "2881b289-399d-47e6-a643-bd3b7852889f",
   "metadata": {},
   "outputs": [
    {
     "data": {
      "text/plain": [
       "3-element Vector{Int64}:\n",
       " 1\n",
       " 1\n",
       " 1"
      ]
     },
     "execution_count": 80,
     "metadata": {},
     "output_type": "execute_result"
    }
   ],
   "source": [
    "# Единичный вектор:\n",
    "x = fill(1, 3)"
   ]
  },
  {
   "cell_type": "code",
   "execution_count": 81,
   "id": "984d69f0-fa19-4b52-b04f-89157c7f6765",
   "metadata": {},
   "outputs": [
    {
     "data": {
      "text/plain": [
       "3-element Vector{Rational{BigInt}}:\n",
       "  1\n",
       "  2\n",
       " 8//5"
      ]
     },
     "execution_count": 81,
     "metadata": {},
     "output_type": "execute_result"
    }
   ],
   "source": [
    "# Задаём вектор b:\n",
    "b = Arational*x"
   ]
  },
  {
   "cell_type": "code",
   "execution_count": 82,
   "id": "43d8b273-effc-4abc-851f-55d77fd8b1d6",
   "metadata": {},
   "outputs": [
    {
     "data": {
      "text/plain": [
       "3-element Vector{Rational{BigInt}}:\n",
       " 1\n",
       " 1\n",
       " 1"
      ]
     },
     "execution_count": 82,
     "metadata": {},
     "output_type": "execute_result"
    }
   ],
   "source": [
    "# Решение исходного уравнения получаем с помощью функции \\\n",
    "# (убеждаемся, что x - единичный вектор):\n",
    "Arational\\b"
   ]
  },
  {
   "cell_type": "code",
   "execution_count": 83,
   "id": "709d097d-b691-43c0-a49d-980f3b45bffe",
   "metadata": {},
   "outputs": [
    {
     "data": {
      "text/plain": [
       "LU{Rational{BigInt}, Matrix{Rational{BigInt}}, Vector{Int64}}\n",
       "L factor:\n",
       "3×3 Matrix{Rational{BigInt}}:\n",
       "  1       0     0\n",
       " 3//10    1     0\n",
       " 2//5   -1//18  1\n",
       "U factor:\n",
       "3×3 Matrix{Rational{BigInt}}:\n",
       " 1  4//5    1//5\n",
       " 0  9//25   1//25\n",
       " 0   0     37//45"
      ]
     },
     "execution_count": 83,
     "metadata": {},
     "output_type": "execute_result"
    }
   ],
   "source": [
    "# LU-разложение:\n",
    "lu(Arational)"
   ]
  },
  {
   "cell_type": "markdown",
   "id": "b1343e61-7725-4f73-bdb0-3ad52ff9efa9",
   "metadata": {},
   "source": [
    "### 4.4. Задания для самостоятельного выполнения\n",
    "### 4.4.1. Произведение векторов"
   ]
  },
  {
   "cell_type": "code",
   "execution_count": 84,
   "id": "6a0feffd-99db-4afe-8fa4-765d6b786060",
   "metadata": {},
   "outputs": [],
   "source": [
    "### 1. Задайте вектор v. Умножьте вектор v скалярно сам на себя и сохраните результат в dot_v."
   ]
  },
  {
   "cell_type": "code",
   "execution_count": 85,
   "id": "4c664d65-bdc1-4a73-8508-f0195cd60751",
   "metadata": {},
   "outputs": [
    {
     "data": {
      "text/plain": [
       "3-element Vector{Int64}:\n",
       " 1\n",
       " 2\n",
       " 3"
      ]
     },
     "execution_count": 85,
     "metadata": {},
     "output_type": "execute_result"
    }
   ],
   "source": [
    "v = [1, 2, 3]"
   ]
  },
  {
   "cell_type": "code",
   "execution_count": 86,
   "id": "4f22ae47-f452-4a45-aacb-279f1de2c61e",
   "metadata": {},
   "outputs": [
    {
     "data": {
      "text/plain": [
       "14"
      ]
     },
     "execution_count": 86,
     "metadata": {},
     "output_type": "execute_result"
    }
   ],
   "source": [
    "dot_v= dot(v, v)"
   ]
  },
  {
   "cell_type": "code",
   "execution_count": 87,
   "id": "59b891bc-9787-49de-9d7e-49d6a0915adf",
   "metadata": {},
   "outputs": [],
   "source": [
    "### 2. Умножьте v матрично на себя (внешнее произведение), присвоив результат переменной outer_v"
   ]
  },
  {
   "cell_type": "code",
   "execution_count": 88,
   "id": "14fc78a5-1437-4438-abb5-254dd8bd8262",
   "metadata": {},
   "outputs": [
    {
     "data": {
      "text/plain": [
       "3×3 Matrix{Int64}:\n",
       " 1  2  3\n",
       " 2  4  6\n",
       " 3  6  9"
      ]
     },
     "execution_count": 88,
     "metadata": {},
     "output_type": "execute_result"
    }
   ],
   "source": [
    "outer_v = v * transpose(v)"
   ]
  },
  {
   "cell_type": "markdown",
   "id": "8a03e24e-ce79-48d6-995c-eeae4b22326a",
   "metadata": {},
   "source": [
    "### 4.4.2. Системы линейных уравнений"
   ]
  },
  {
   "cell_type": "markdown",
   "id": "29fb41ae-4e7a-48c1-84c7-9dff7f0f57c2",
   "metadata": {},
   "source": [
    "### 1. Решить СЛАУ с двумя неизвестными. Пунтк а)"
   ]
  },
  {
   "cell_type": "code",
   "execution_count": 90,
   "id": "d19bd6b0-3413-477c-b31f-72e2c69fa480",
   "metadata": {},
   "outputs": [
    {
     "data": {
      "text/plain": [
       "2×2 Matrix{Int64}:\n",
       " 1   1\n",
       " 1  -1"
      ]
     },
     "execution_count": 90,
     "metadata": {},
     "output_type": "execute_result"
    }
   ],
   "source": [
    "A = [1 1; 1 -1]"
   ]
  },
  {
   "cell_type": "code",
   "execution_count": 91,
   "id": "975ece98-1f6c-4aff-bafd-73798bfbc4b3",
   "metadata": {},
   "outputs": [
    {
     "data": {
      "text/plain": [
       "2-element Vector{Int64}:\n",
       " 2\n",
       " 3"
      ]
     },
     "execution_count": 91,
     "metadata": {},
     "output_type": "execute_result"
    }
   ],
   "source": [
    "B = [2; 3]"
   ]
  },
  {
   "cell_type": "code",
   "execution_count": 92,
   "id": "4f98047f-47c6-4d13-965b-c5433a01bd3a",
   "metadata": {},
   "outputs": [
    {
     "data": {
      "text/plain": [
       "2-element Vector{Float64}:\n",
       "  2.5\n",
       " -0.5"
      ]
     },
     "execution_count": 92,
     "metadata": {},
     "output_type": "execute_result"
    }
   ],
   "source": [
    "A\\B"
   ]
  },
  {
   "cell_type": "markdown",
   "id": "869754f6-bdea-4822-94f2-1c9ec0d0fc95",
   "metadata": {},
   "source": [
    "### Пункт b) (имеет бесконечно много решений, т.к. второе уравнение линейно зависимо от первого, поэтому выводит ошибку)"
   ]
  },
  {
   "cell_type": "code",
   "execution_count": 105,
   "id": "0894d14b-d7c5-4ed9-9604-a1c28b16d3d6",
   "metadata": {},
   "outputs": [
    {
     "data": {
      "text/plain": [
       "2-element Vector{Int64}:\n",
       " 2\n",
       " 4"
      ]
     },
     "execution_count": 105,
     "metadata": {},
     "output_type": "execute_result"
    }
   ],
   "source": [
    "A = [1 1; 2 2]\n",
    "B = [2; 4]"
   ]
  },
  {
   "cell_type": "code",
   "execution_count": 108,
   "id": "3bd4c68d-85c1-46c4-910c-e080c464be21",
   "metadata": {},
   "outputs": [
    {
     "ename": "LoadError",
     "evalue": "SingularException(2)",
     "output_type": "error",
     "traceback": [
      "SingularException(2)",
      "",
      "Stacktrace:",
      " [1] checknonsingular",
      "   @ c:\\users\\dina7\\appdata\\local\\programs\\julia-1.10.5\\share\\julia\\stdlib\\v1.10\\LinearAlgebra\\src\\factorization.jl:68 [inlined]",
      " [2] checknonsingular",
      "   @ c:\\users\\dina7\\appdata\\local\\programs\\julia-1.10.5\\share\\julia\\stdlib\\v1.10\\LinearAlgebra\\src\\factorization.jl:71 [inlined]",
      " [3] #lu!#158",
      "   @ c:\\users\\dina7\\appdata\\local\\programs\\julia-1.10.5\\share\\julia\\stdlib\\v1.10\\LinearAlgebra\\src\\lu.jl:83 [inlined]",
      " [4] lu!",
      "   @ c:\\users\\dina7\\appdata\\local\\programs\\julia-1.10.5\\share\\julia\\stdlib\\v1.10\\LinearAlgebra\\src\\lu.jl:81 [inlined]",
      " [5] lu(A::Matrix{Int64}, pivot::RowMaximum; check::Bool)",
      "   @ LinearAlgebra c:\\users\\dina7\\appdata\\local\\programs\\julia-1.10.5\\share\\julia\\stdlib\\v1.10\\LinearAlgebra\\src\\lu.jl:300",
      " [6] lu (repeats 2 times)",
      "   @ c:\\users\\dina7\\appdata\\local\\programs\\julia-1.10.5\\share\\julia\\stdlib\\v1.10\\LinearAlgebra\\src\\lu.jl:299 [inlined]",
      " [7] \\(A::Matrix{Int64}, B::Vector{Int64})",
      "   @ LinearAlgebra c:\\users\\dina7\\appdata\\local\\programs\\julia-1.10.5\\share\\julia\\stdlib\\v1.10\\LinearAlgebra\\src\\generic.jl:1124",
      " [8] top-level scope",
      "   @ In[108]:1"
     ]
    }
   ],
   "source": [
    "rez = A\\ B"
   ]
  },
  {
   "cell_type": "markdown",
   "id": "85766c46-d0ee-4188-9161-d199dc94deab",
   "metadata": {},
   "source": [
    "### Пункт с) (система не имеет решений, т.к. система несовместима)"
   ]
  },
  {
   "cell_type": "code",
   "execution_count": 109,
   "id": "a9dd1ab7-966c-4ee8-a3b6-3ba71730e3e2",
   "metadata": {},
   "outputs": [
    {
     "data": {
      "text/plain": [
       "2-element Vector{Int64}:\n",
       " 2\n",
       " 5"
      ]
     },
     "execution_count": 109,
     "metadata": {},
     "output_type": "execute_result"
    }
   ],
   "source": [
    "A = [1 1; 2 2]\n",
    "B = [2; 5]"
   ]
  },
  {
   "cell_type": "code",
   "execution_count": 110,
   "id": "43a83401-8a0c-4235-9b46-5afe68f4d86b",
   "metadata": {},
   "outputs": [
    {
     "ename": "LoadError",
     "evalue": "SingularException(2)",
     "output_type": "error",
     "traceback": [
      "SingularException(2)",
      "",
      "Stacktrace:",
      " [1] checknonsingular",
      "   @ c:\\users\\dina7\\appdata\\local\\programs\\julia-1.10.5\\share\\julia\\stdlib\\v1.10\\LinearAlgebra\\src\\factorization.jl:68 [inlined]",
      " [2] checknonsingular",
      "   @ c:\\users\\dina7\\appdata\\local\\programs\\julia-1.10.5\\share\\julia\\stdlib\\v1.10\\LinearAlgebra\\src\\factorization.jl:71 [inlined]",
      " [3] #lu!#158",
      "   @ c:\\users\\dina7\\appdata\\local\\programs\\julia-1.10.5\\share\\julia\\stdlib\\v1.10\\LinearAlgebra\\src\\lu.jl:83 [inlined]",
      " [4] lu!",
      "   @ c:\\users\\dina7\\appdata\\local\\programs\\julia-1.10.5\\share\\julia\\stdlib\\v1.10\\LinearAlgebra\\src\\lu.jl:81 [inlined]",
      " [5] lu(A::Matrix{Int64}, pivot::RowMaximum; check::Bool)",
      "   @ LinearAlgebra c:\\users\\dina7\\appdata\\local\\programs\\julia-1.10.5\\share\\julia\\stdlib\\v1.10\\LinearAlgebra\\src\\lu.jl:300",
      " [6] lu (repeats 2 times)",
      "   @ c:\\users\\dina7\\appdata\\local\\programs\\julia-1.10.5\\share\\julia\\stdlib\\v1.10\\LinearAlgebra\\src\\lu.jl:299 [inlined]",
      " [7] \\(A::Matrix{Int64}, B::Vector{Int64})",
      "   @ LinearAlgebra c:\\users\\dina7\\appdata\\local\\programs\\julia-1.10.5\\share\\julia\\stdlib\\v1.10\\LinearAlgebra\\src\\generic.jl:1124",
      " [8] top-level scope",
      "   @ In[110]:1"
     ]
    }
   ],
   "source": [
    "rez = A\\ B"
   ]
  },
  {
   "cell_type": "markdown",
   "id": "b81f141a-2f8b-4d1d-b84e-606bc39f1f2f",
   "metadata": {},
   "source": [
    "### Пункт d)"
   ]
  },
  {
   "cell_type": "code",
   "execution_count": 111,
   "id": "ee7637f8-90b1-4b23-8a93-411868a6a224",
   "metadata": {},
   "outputs": [
    {
     "data": {
      "text/plain": [
       "3-element Vector{Int64}:\n",
       " 1\n",
       " 2\n",
       " 3"
      ]
     },
     "execution_count": 111,
     "metadata": {},
     "output_type": "execute_result"
    }
   ],
   "source": [
    "A = [1 1; 2 2; 3 3]\n",
    "B = [1; 2; 3]"
   ]
  },
  {
   "cell_type": "code",
   "execution_count": 112,
   "id": "1543e6eb-c6d9-45eb-a177-24c98420cedb",
   "metadata": {},
   "outputs": [
    {
     "data": {
      "text/plain": [
       "2-element Vector{Float64}:\n",
       " 0.4999999999999999\n",
       " 0.5"
      ]
     },
     "execution_count": 112,
     "metadata": {},
     "output_type": "execute_result"
    }
   ],
   "source": [
    "rez = A\\ B"
   ]
  },
  {
   "cell_type": "markdown",
   "id": "16bc42dd-af0f-4574-b9f0-56b390ad047c",
   "metadata": {},
   "source": [
    "### Пункт е)"
   ]
  },
  {
   "cell_type": "code",
   "execution_count": 113,
   "id": "8484c073-0e1a-4176-aac9-57753b3138f1",
   "metadata": {},
   "outputs": [
    {
     "data": {
      "text/plain": [
       "3-element Vector{Int64}:\n",
       " 2\n",
       " 1\n",
       " 3"
      ]
     },
     "execution_count": 113,
     "metadata": {},
     "output_type": "execute_result"
    }
   ],
   "source": [
    "A = [1 1; 2 1; 1 -1]\n",
    "B = [2; 1; 3]"
   ]
  },
  {
   "cell_type": "code",
   "execution_count": 114,
   "id": "e8d943f9-191b-4645-bf7b-f747924dbbb7",
   "metadata": {},
   "outputs": [
    {
     "data": {
      "text/plain": [
       "2-element Vector{Float64}:\n",
       "  1.5000000000000004\n",
       " -0.9999999999999997"
      ]
     },
     "execution_count": 114,
     "metadata": {},
     "output_type": "execute_result"
    }
   ],
   "source": [
    "rez = A\\ B"
   ]
  },
  {
   "cell_type": "markdown",
   "id": "fd77181b-3cb3-4b21-b580-b8c0baeaddd5",
   "metadata": {},
   "source": [
    "### Пункт f)"
   ]
  },
  {
   "cell_type": "code",
   "execution_count": 115,
   "id": "f011dcf6-b24c-4058-8007-eb403fc51e0c",
   "metadata": {},
   "outputs": [
    {
     "data": {
      "text/plain": [
       "3-element Vector{Int64}:\n",
       " 2\n",
       " 1\n",
       " 3"
      ]
     },
     "execution_count": 115,
     "metadata": {},
     "output_type": "execute_result"
    }
   ],
   "source": [
    "A = [1 1; 2 1; 3 2]\n",
    "B = [2; 1; 3]"
   ]
  },
  {
   "cell_type": "code",
   "execution_count": 116,
   "id": "946184ca-e4e5-4cb2-bc7b-fa6b5e0de895",
   "metadata": {},
   "outputs": [
    {
     "data": {
      "text/plain": [
       "2-element Vector{Float64}:\n",
       " -0.9999999999999989\n",
       "  2.9999999999999982"
      ]
     },
     "execution_count": 116,
     "metadata": {},
     "output_type": "execute_result"
    }
   ],
   "source": [
    "rez = A\\ B"
   ]
  },
  {
   "cell_type": "markdown",
   "id": "566c8ea8-4296-49d1-97a3-84db5e50bab7",
   "metadata": {},
   "source": [
    "### 2. Решить СЛАУ с тремя неизвестными. Пункт a)"
   ]
  },
  {
   "cell_type": "code",
   "execution_count": 117,
   "id": "91701f3a-0aef-4d76-8be0-002837b702dd",
   "metadata": {},
   "outputs": [
    {
     "data": {
      "text/plain": [
       "2-element Vector{Int64}:\n",
       " 2\n",
       " 3"
      ]
     },
     "execution_count": 117,
     "metadata": {},
     "output_type": "execute_result"
    }
   ],
   "source": [
    "A = [1 1 1; 1 -1 -2;]\n",
    "B = [2; 3]"
   ]
  },
  {
   "cell_type": "code",
   "execution_count": 118,
   "id": "322aeed0-b4b6-404d-ae33-898704517563",
   "metadata": {},
   "outputs": [
    {
     "data": {
      "text/plain": [
       "3-element Vector{Float64}:\n",
       "  2.2142857142857144\n",
       "  0.35714285714285704\n",
       " -0.5714285714285712"
      ]
     },
     "execution_count": 118,
     "metadata": {},
     "output_type": "execute_result"
    }
   ],
   "source": [
    "rez = A\\ B"
   ]
  },
  {
   "cell_type": "markdown",
   "id": "86eda96c-8f7c-43ab-b6ec-e4b5182019dc",
   "metadata": {},
   "source": [
    "### Пункт b)"
   ]
  },
  {
   "cell_type": "code",
   "execution_count": 119,
   "id": "c5887568-a148-424c-887d-31ac60bad808",
   "metadata": {},
   "outputs": [
    {
     "data": {
      "text/plain": [
       "3-element Vector{Int64}:\n",
       " 2\n",
       " 4\n",
       " 1"
      ]
     },
     "execution_count": 119,
     "metadata": {},
     "output_type": "execute_result"
    }
   ],
   "source": [
    "A = [1 1 1; 2 2 -3; 3 1 1]\n",
    "B = [2; 4; 1]"
   ]
  },
  {
   "cell_type": "code",
   "execution_count": 120,
   "id": "b6f712d4-7567-4e35-b93b-47b381b5969c",
   "metadata": {},
   "outputs": [
    {
     "data": {
      "text/plain": [
       "3-element Vector{Float64}:\n",
       " -0.5\n",
       "  2.5\n",
       "  0.0"
      ]
     },
     "execution_count": 120,
     "metadata": {},
     "output_type": "execute_result"
    }
   ],
   "source": [
    "rez = A\\ B"
   ]
  },
  {
   "cell_type": "markdown",
   "id": "a2b2d8d9-1802-40d8-90ea-af6c1cf6d9b0",
   "metadata": {},
   "source": [
    "### Пункт c) (система имеет бесконечно много решений)"
   ]
  },
  {
   "cell_type": "code",
   "execution_count": 121,
   "id": "2bc3757e-d429-49a6-9d81-fdd6d0193e70",
   "metadata": {},
   "outputs": [
    {
     "data": {
      "text/plain": [
       "3-element Vector{Int64}:\n",
       " 1\n",
       " 0\n",
       " 1"
      ]
     },
     "execution_count": 121,
     "metadata": {},
     "output_type": "execute_result"
    }
   ],
   "source": [
    "A = [1 1 1; 1 1 2; 2 2 3]\n",
    "B = [1; 0; 1]"
   ]
  },
  {
   "cell_type": "code",
   "execution_count": 122,
   "id": "5cbe232b-361f-4f6a-8c2a-0027edd31f3d",
   "metadata": {},
   "outputs": [
    {
     "ename": "LoadError",
     "evalue": "SingularException(2)",
     "output_type": "error",
     "traceback": [
      "SingularException(2)",
      "",
      "Stacktrace:",
      " [1] checknonsingular",
      "   @ c:\\users\\dina7\\appdata\\local\\programs\\julia-1.10.5\\share\\julia\\stdlib\\v1.10\\LinearAlgebra\\src\\factorization.jl:68 [inlined]",
      " [2] checknonsingular",
      "   @ c:\\users\\dina7\\appdata\\local\\programs\\julia-1.10.5\\share\\julia\\stdlib\\v1.10\\LinearAlgebra\\src\\factorization.jl:71 [inlined]",
      " [3] #lu!#158",
      "   @ c:\\users\\dina7\\appdata\\local\\programs\\julia-1.10.5\\share\\julia\\stdlib\\v1.10\\LinearAlgebra\\src\\lu.jl:83 [inlined]",
      " [4] lu!",
      "   @ c:\\users\\dina7\\appdata\\local\\programs\\julia-1.10.5\\share\\julia\\stdlib\\v1.10\\LinearAlgebra\\src\\lu.jl:81 [inlined]",
      " [5] lu(A::Matrix{Int64}, pivot::RowMaximum; check::Bool)",
      "   @ LinearAlgebra c:\\users\\dina7\\appdata\\local\\programs\\julia-1.10.5\\share\\julia\\stdlib\\v1.10\\LinearAlgebra\\src\\lu.jl:300",
      " [6] lu (repeats 2 times)",
      "   @ c:\\users\\dina7\\appdata\\local\\programs\\julia-1.10.5\\share\\julia\\stdlib\\v1.10\\LinearAlgebra\\src\\lu.jl:299 [inlined]",
      " [7] \\(A::Matrix{Int64}, B::Vector{Int64})",
      "   @ LinearAlgebra c:\\users\\dina7\\appdata\\local\\programs\\julia-1.10.5\\share\\julia\\stdlib\\v1.10\\LinearAlgebra\\src\\generic.jl:1124",
      " [8] top-level scope",
      "   @ In[122]:1"
     ]
    }
   ],
   "source": [
    "rez = A\\ B"
   ]
  },
  {
   "cell_type": "markdown",
   "id": "1a89cde1-a198-4e5f-8545-5ffda6ad6f76",
   "metadata": {},
   "source": [
    "### Пункт d) полностью повторяет пункт с)"
   ]
  },
  {
   "cell_type": "markdown",
   "id": "aadbd08a-984b-4c64-bfd6-414df94747b9",
   "metadata": {},
   "source": [
    "### 4.4.3. Операции с матрицами\n",
    "### 1. Приведите приведённые ниже матрицы к диагональному виду. Пункт а)"
   ]
  },
  {
   "cell_type": "code",
   "execution_count": 126,
   "id": "6c0ba1ef-6452-4e0f-927f-25ba43f598ec",
   "metadata": {},
   "outputs": [
    {
     "name": "stdout",
     "output_type": "stream",
     "text": [
      "Исходная матрица A:\n",
      "[1 -2; -2 1]\n",
      "\n",
      "Диагональная матрица D:\n",
      "[-1.0 0.0; 0.0 3.0]\n",
      "\n",
      "Матрица собственных векторов P:\n",
      "[-0.7071067811865475 -0.7071067811865475; -0.7071067811865475 0.7071067811865475]\n"
     ]
    }
   ],
   "source": [
    "using LinearAlgebra\n",
    "\n",
    "# Исходная матрица\n",
    "A = [1 -2;\n",
    "     -2 1]\n",
    "\n",
    "# Собственные значения и собственные векторы\n",
    "eigen_decomp = eigen(A)\n",
    "\n",
    "# Собственные значения (диагональная матрица)\n",
    "D = Diagonal(eigen_decomp.values)\n",
    "\n",
    "# Матрица собственных векторов\n",
    "P = eigen_decomp.vectors\n",
    "\n",
    "println(\"Исходная матрица A:\")\n",
    "println(A)\n",
    "\n",
    "println(\"\\nДиагональная матрица D:\")\n",
    "println(D)\n",
    "\n",
    "println(\"\\nМатрица собственных векторов P:\")\n",
    "println(P)"
   ]
  },
  {
   "cell_type": "markdown",
   "id": "642d0a93-80d5-4522-ab7f-a01819399583",
   "metadata": {},
   "source": [
    "### Пункт b)"
   ]
  },
  {
   "cell_type": "code",
   "execution_count": 127,
   "id": "6bf43cb3-bc3e-4dab-9f78-6a6e5623aa43",
   "metadata": {},
   "outputs": [
    {
     "name": "stdout",
     "output_type": "stream",
     "text": [
      "Исходная матрица A:\n",
      "[1 -2; -2 3]\n",
      "\n",
      "Диагональная матрица D:\n",
      "[-0.2360679774997897 0.0; 0.0 4.23606797749979]\n",
      "\n",
      "Матрица собственных векторов P:\n",
      "[-0.8506508083520399 -0.5257311121191335; -0.5257311121191335 0.8506508083520399]\n"
     ]
    }
   ],
   "source": [
    "using LinearAlgebra\n",
    "\n",
    "# Исходная матрица\n",
    "A = [1 -2;\n",
    "     -2 3]\n",
    "\n",
    "# Собственные значения и собственные векторы\n",
    "eigen_decomp = eigen(A)\n",
    "\n",
    "# Собственные значения (диагональная матрица)\n",
    "D = Diagonal(eigen_decomp.values)\n",
    "\n",
    "# Матрица собственных векторов\n",
    "P = eigen_decomp.vectors\n",
    "\n",
    "println(\"Исходная матрица A:\")\n",
    "println(A)\n",
    "\n",
    "println(\"\\nДиагональная матрица D:\")\n",
    "println(D)\n",
    "\n",
    "println(\"\\nМатрица собственных векторов P:\")\n",
    "println(P)"
   ]
  },
  {
   "cell_type": "markdown",
   "id": "9c96dc6b-a815-471b-ae02-920fd10c2454",
   "metadata": {},
   "source": [
    "### Пункт с)"
   ]
  },
  {
   "cell_type": "code",
   "execution_count": 128,
   "id": "2fc8ebd5-57da-4c3d-ba31-701e8bd13dd8",
   "metadata": {},
   "outputs": [
    {
     "name": "stdout",
     "output_type": "stream",
     "text": [
      "Исходная матрица A:\n",
      "[1 -2 0; -2 1 2; 0 2 0]\n",
      "\n",
      "Диагональная матрица D:\n",
      "[-2.1413361156553594 0.0 0.0; 0.0 0.5151380471280724 0.0; 0.0 0.0 3.6261980685272936]\n",
      "\n",
      "Матрица собственных векторов P:\n",
      "[0.42185900708160906 0.7170934621298328 0.5548080250994653; 0.6626004673299842 0.17384566821998124 -0.7285178819598287; -0.6188663820552912 0.6749478870341014 -0.4018081021457835]\n"
     ]
    }
   ],
   "source": [
    "using LinearAlgebra\n",
    "\n",
    "# Исходная матрица\n",
    "A = [1 -2 0; -2 1 2; 0 2 0]\n",
    "\n",
    "# Собственные значения и собственные векторы\n",
    "eigen_decomp = eigen(A)\n",
    "\n",
    "# Собственные значения (диагональная матрица)\n",
    "D = Diagonal(eigen_decomp.values)\n",
    "\n",
    "# Матрица собственных векторов\n",
    "P = eigen_decomp.vectors\n",
    "\n",
    "println(\"Исходная матрица A:\")\n",
    "println(A)\n",
    "\n",
    "println(\"\\nДиагональная матрица D:\")\n",
    "println(D)\n",
    "\n",
    "println(\"\\nМатрица собственных векторов P:\")\n",
    "println(P)"
   ]
  },
  {
   "cell_type": "markdown",
   "id": "cf7f6791-0602-4fc7-a863-63f0ccf977a9",
   "metadata": {},
   "source": [
    "### 2. Вычислите. Пункт а)"
   ]
  },
  {
   "cell_type": "code",
   "execution_count": 129,
   "id": "66e61c41-5cb1-4692-b269-c7d24dbd31cc",
   "metadata": {},
   "outputs": [
    {
     "name": "stdout",
     "output_type": "stream",
     "text": [
      "Матрица A^10:\n",
      "[29525.0 -29524.0; -29524.0 29525.0]\n"
     ]
    }
   ],
   "source": [
    "using LinearAlgebra\n",
    "\n",
    "# Исходная матрица\n",
    "A = [1 -2; \n",
    "     -2 1]\n",
    "\n",
    "# Собственные значения и векторы\n",
    "eigen_decomp = eigen(A)\n",
    "P = eigen_decomp.vectors  # Матрица собственных векторов\n",
    "D = Diagonal(eigen_decomp.values)  # Диагональная матрица собственных значений\n",
    "\n",
    "# Возводим диагональную матрицу в 10-ю степень\n",
    "D_10 = D.^10\n",
    "\n",
    "# Вычисляем A^10\n",
    "A_10 = P * D_10 * inv(P)\n",
    "\n",
    "println(\"Матрица A^10:\")\n",
    "println(A_10)\n"
   ]
  },
  {
   "cell_type": "markdown",
   "id": "e83b3d88-53e3-4976-a5d3-d8b754997e84",
   "metadata": {},
   "source": [
    "### Пункт b)"
   ]
  },
  {
   "cell_type": "code",
   "execution_count": 131,
   "id": "22c82f5c-8401-45b9-ba67-cb42f61c3b87",
   "metadata": {},
   "outputs": [
    {
     "name": "stdout",
     "output_type": "stream",
     "text": [
      "Исходная матрица A:\n",
      "[5 -2; -2 5]\n",
      "\n",
      "Квадратный корень матрицы sqrt(A):\n",
      "[2.188901059316734 -0.45685025174785676; -0.45685025174785676 2.188901059316734]\n",
      "\n",
      "Проверка: sqrt(A)^2:\n",
      "[5.000000000000002 -2.000000000000001; -2.000000000000001 5.000000000000002]\n"
     ]
    }
   ],
   "source": [
    "using LinearAlgebra\n",
    "\n",
    "# Исходная матрица\n",
    "A = [5 -2;\n",
    "     -2 5]\n",
    "\n",
    "# Собственные значения и векторы\n",
    "eigen_decomp = eigen(A)\n",
    "eigenvalues = eigen_decomp.values\n",
    "eigenvectors = eigen_decomp.vectors\n",
    "\n",
    "# Проверяем, что собственные значения неотрицательные\n",
    "if all(eigenvalues .>= 0)\n",
    "    # Диагональная матрица с квадратными корнями собственных значений\n",
    "    sqrt_D = Diagonal(sqrt.(eigenvalues))\n",
    "\n",
    "    # Квадратный корень матрицы\n",
    "    sqrt_A = eigenvectors * sqrt_D * inv(eigenvectors)\n",
    "\n",
    "    println(\"Исходная матрица A:\")\n",
    "    println(A)\n",
    "\n",
    "    println(\"\\nКвадратный корень матрицы sqrt(A):\")\n",
    "    println(sqrt_A)\n",
    "\n",
    "    # Проверка, что sqrt(A)^2 = A\n",
    "    println(\"\\nПроверка: sqrt(A)^2:\")\n",
    "    println(sqrt_A * sqrt_A)\n",
    "else\n",
    "    println(\"Матрица A имеет отрицательные собственные значения, квадратный корень не определён.\")\n",
    "end\n"
   ]
  },
  {
   "cell_type": "markdown",
   "id": "31cb06ce-2632-4686-ae04-dbab069418ed",
   "metadata": {},
   "source": [
    "### Пункт c)"
   ]
  },
  {
   "cell_type": "code",
   "execution_count": 134,
   "id": "d997fcb7-0337-4ce3-8002-2bbcd41c7384",
   "metadata": {},
   "outputs": [
    {
     "name": "stdout",
     "output_type": "stream",
     "text": [
      "Исходная матрица A:\n",
      "[1 -2; -2 1]\n",
      "\n",
      "Кубический корень матрицы 3√(A):\n",
      "ComplexF64[0.971124785153704 + 0.4330127018922193im -0.47112478515370404 + 0.4330127018922193im; -0.47112478515370404 + 0.4330127018922193im 0.971124785153704 + 0.4330127018922193im]\n",
      "\n",
      "Проверка: (3√(A))^3:\n",
      "ComplexF64[0.9999999999999991 + 0.0im -1.9999999999999991 + 5.551115123125783e-17im; -1.9999999999999991 + 5.551115123125783e-17im 0.9999999999999991 + 0.0im]\n"
     ]
    }
   ],
   "source": [
    "using LinearAlgebra\n",
    "\n",
    "# Исходная матрица\n",
    "A = [1 -2;\n",
    "     -2 1]\n",
    "\n",
    "# Собственные значения и векторы\n",
    "eigen_decomp = eigen(A)\n",
    "eigenvalues = eigen_decomp.values\n",
    "eigenvectors = eigen_decomp.vectors\n",
    "\n",
    "# Преобразуем собственные значения в комплексные для вычисления кубического корня\n",
    "complex_eigenvalues = Complex.(eigenvalues)\n",
    "cube_root_D = Diagonal(complex_eigenvalues .^ (1/3))\n",
    "\n",
    "# Кубический корень матрицы\n",
    "cube_root_A = eigenvectors * cube_root_D * inv(eigenvectors)\n",
    "\n",
    "println(\"Исходная матрица A:\")\n",
    "println(A)\n",
    "\n",
    "println(\"\\nКубический корень матрицы 3√(A):\")\n",
    "println(cube_root_A)\n",
    "\n",
    "# Проверка: (3√(A))^3 = A\n",
    "println(\"\\nПроверка: (3√(A))^3:\")\n",
    "println(cube_root_A * cube_root_A * cube_root_A)\n"
   ]
  },
  {
   "cell_type": "markdown",
   "id": "02eeabb7-c91e-40de-889e-5e86ce96a08e",
   "metadata": {},
   "source": [
    "### 3. Найдите собственные значения матрицы 𝐴. \n",
    "### Создайте диагональную матрицу из собственных значений матрицы 𝐴. Создайте нижнедиагональную матрицу из матрица 𝐴. Оцените эффективность выполняемых операций."
   ]
  },
  {
   "cell_type": "code",
   "execution_count": 140,
   "id": "efbc3126-72b9-4c97-9094-4ac567e4cd23",
   "metadata": {},
   "outputs": [
    {
     "name": "stdout",
     "output_type": "stream",
     "text": [
      "  8.367 μs (11 allocations: 3.00 KiB)\n",
      "Собственные значения матрицы A:\n",
      "[-0.2360679774997897, 4.23606797749979]\n",
      "\n",
      "Диагональная матрица из собственных значений:\n",
      "[-0.2360679774997897 0.0; 0.0 4.23606797749979]\n",
      "\n",
      "Нижнедиагональная матрица из A:\n",
      "[140 0 0 0 0; 97 106 0 0 0; 74 89 152 0 0; 168 131 144 54 0; 131 36 71 142 36]\n",
      "\n",
      "Эффективность выполнения операций:\n",
      "  8.400 μs (11 allocations: 3.00 KiB)\n",
      "  291.188 ns (1 allocation: 16 bytes)\n",
      "  277.891 ns (1 allocation: 16 bytes)\n"
     ]
    },
    {
     "data": {
      "text/plain": [
       "5×5 LowerTriangular{Int64, Matrix{Int64}}:\n",
       " 140    ⋅    ⋅    ⋅   ⋅\n",
       "  97  106    ⋅    ⋅   ⋅\n",
       "  74   89  152    ⋅   ⋅\n",
       " 168  131  144   54   ⋅\n",
       " 131   36   71  142  36"
      ]
     },
     "execution_count": 140,
     "metadata": {},
     "output_type": "execute_result"
    }
   ],
   "source": [
    "using LinearAlgebra\n",
    "using BenchmarkTools  # Для оценки времени выполнения\n",
    "\n",
    "# Исходная матрица A\n",
    "A = [\n",
    "    140  97  74 168 131;\n",
    "     97 106  89 131  36;\n",
    "     74  89 152 144  71;\n",
    "    168 131 144  54 142;\n",
    "    131  36  71 142  36\n",
    "]\n",
    "\n",
    "# 1. Нахождение собственных значений и векторов\n",
    "@btime eigen_decomp = eigen(A)\n",
    "eigenvalues = eigen_decomp.values\n",
    "eigenvectors = eigen_decomp.vectors\n",
    "\n",
    "println(\"Собственные значения матрицы A:\")\n",
    "println(eigenvalues)\n",
    "\n",
    "# 2. Создание диагональной матрицы из собственных значений\n",
    "# Прямое создание переменной и вывод без использования @btime\n",
    "diag_matrix = Diagonal(eigenvalues)\n",
    "\n",
    "println(\"\\nДиагональная матрица из собственных значений:\")\n",
    "println(Matrix(diag_matrix))  # Преобразуем в стандартный массив для вывода\n",
    "\n",
    "# 3. Создание нижнедиагональной матрицы из A\n",
    "lower_triangular = LowerTriangular(A)\n",
    "\n",
    "println(\"\\nНижнедиагональная матрица из A:\")\n",
    "println(Matrix(lower_triangular))\n",
    "\n",
    "# 4. Оценка эффективности\n",
    "println(\"\\nЭффективность выполнения операций:\")\n",
    "@btime eigen(A)\n",
    "@btime Diagonal(eigenvalues)\n",
    "@btime LowerTriangular(A)"
   ]
  },
  {
   "cell_type": "markdown",
   "id": "7d8c7e8d-b083-4556-a499-3924c394604d",
   "metadata": {},
   "source": [
    "### 4.4.4. Линейные модели экономики"
   ]
  },
  {
   "cell_type": "markdown",
   "id": "fe858c23-0c5e-49e7-9a03-56324337d301",
   "metadata": {},
   "source": [
    "### 1. Матрица 𝐴 называется продуктивной, если решение 𝑥 системы при любой неотрицательной правой части 𝑦 имеет только неотрицательные элементы 𝑥_𝑖. Используя это определение, проверьте, являются ли матрицы продуктивными.\n",
    "### Пункт а)"
   ]
  },
  {
   "cell_type": "code",
   "execution_count": 145,
   "id": "f3b5cfe3-f457-4a50-a5e3-00ebdd3d1837",
   "metadata": {},
   "outputs": [
    {
     "name": "stdout",
     "output_type": "stream",
     "text": [
      "Определитель матрицы I - A: -6.0\n",
      "Матрица I - A обратима, система имеет единственное решение.\n"
     ]
    }
   ],
   "source": [
    "using LinearAlgebra\n",
    "\n",
    "# Исходная матрица A\n",
    "A = [1 2; 3 4]\n",
    "\n",
    "# Создаем единичную матрицу I (например, с использованием Matrix{Float64})\n",
    "I_matrix = I(2)  # Единичная матрица размера 2x2\n",
    "\n",
    "# Матрица I - A\n",
    "I_minus_A = I_matrix - A\n",
    "\n",
    "# Проверяем, является ли матрица I - A невырожденной (обратимой)\n",
    "det_I_minus_A = det(I_minus_A)\n",
    "println(\"Определитель матрицы I - A: \", det_I_minus_A)\n",
    "\n",
    "# Если определитель ненулевой, то матрица I - A обратима, и система имеет единственное решение\n",
    "if det_I_minus_A != 0\n",
    "    println(\"Матрица I - A обратима, система имеет единственное решение.\")\n",
    "else\n",
    "    println(\"Матрица I - A вырождена, система не имеет единственного решения.\")\n",
    "end\n"
   ]
  },
  {
   "cell_type": "markdown",
   "id": "96ab1dfb-cac6-4fab-b204-a3a7886b6a1d",
   "metadata": {},
   "source": [
    "### Пункт b)"
   ]
  },
  {
   "cell_type": "code",
   "execution_count": 146,
   "id": "4debdacf-9566-49a8-8026-ced3acaed593",
   "metadata": {},
   "outputs": [
    {
     "name": "stdout",
     "output_type": "stream",
     "text": [
      "Определитель матрицы I - (1/2) * A: -2.0\n",
      "Матрица I - (1/2) * A обратима, система имеет единственное решение.\n"
     ]
    }
   ],
   "source": [
    "using LinearAlgebra\n",
    "\n",
    "# Исходная матрица A\n",
    "A = [1 2; 3 4]\n",
    "\n",
    "# Создаем матрицу I - (1/2) * A\n",
    "I_matrix = I(2)  # Единичная матрица размером 2x2\n",
    "half_A = 0.5 * A\n",
    "I_minus_half_A = I_matrix - half_A\n",
    "\n",
    "# Проверяем, является ли матрица I - (1/2) * A невырожденной (обратимой)\n",
    "det_I_minus_half_A = det(I_minus_half_A)\n",
    "println(\"Определитель матрицы I - (1/2) * A: \", det_I_minus_half_A)\n",
    "\n",
    "# Если определитель ненулевой, то матрица I - (1/2) * A обратима, и система имеет единственное решение\n",
    "if det_I_minus_half_A != 0\n",
    "    println(\"Матрица I - (1/2) * A обратима, система имеет единственное решение.\")\n",
    "else\n",
    "    println(\"Матрица I - (1/2) * A вырождена, система не имеет единственного решения.\")\n",
    "end"
   ]
  },
  {
   "cell_type": "markdown",
   "id": "66b90b72-ef71-4fa9-96d2-747a5cff8c6e",
   "metadata": {},
   "source": [
    "### Пункт с)"
   ]
  },
  {
   "cell_type": "code",
   "execution_count": 147,
   "id": "65114741-ce7e-432a-a2c2-c6758b4f9302",
   "metadata": {},
   "outputs": [
    {
     "name": "stdout",
     "output_type": "stream",
     "text": [
      "Определитель матрицы I - (1/10) * A: 0.48\n",
      "Матрица I - (1/10) * A обратима, система имеет единственное решение.\n"
     ]
    }
   ],
   "source": [
    "using LinearAlgebra\n",
    "\n",
    "# Исходная матрица A\n",
    "A = [1 2; 3 4]\n",
    "\n",
    "# Создаем матрицу I - (1/10) * A\n",
    "I_matrix = I(2)  # Единичная матрица размером 2x2\n",
    "tenth_A = 0.1 * A\n",
    "I_minus_tenth_A = I_matrix - tenth_A\n",
    "\n",
    "# Проверяем, является ли матрица I - (1/10) * A невырожденной (обратимой)\n",
    "det_I_minus_tenth_A = det(I_minus_tenth_A)\n",
    "println(\"Определитель матрицы I - (1/10) * A: \", det_I_minus_tenth_A)\n",
    "\n",
    "# Если определитель ненулевой, то матрица I - (1/10) * A обратима, и система имеет единственное решение\n",
    "if det_I_minus_tenth_A != 0\n",
    "    println(\"Матрица I - (1/10) * A обратима, система имеет единственное решение.\")\n",
    "else\n",
    "    println(\"Матрица I - (1/10) * A вырождена, система не имеет единственного решения.\")\n",
    "end"
   ]
  },
  {
   "cell_type": "markdown",
   "id": "ea3a8c0d-c2cf-45c3-a55c-cb85d111153b",
   "metadata": {},
   "source": [
    "### 2. Критерий продуктивности: матрица 𝐴 является продуктивной тогда и только тогда, когда все элементы матрица (𝐸 − 𝐴)−1 являются неотрицательными числами. Используя этот критерий, проверьте, являются ли матрицы продуктивными."
   ]
  },
  {
   "cell_type": "markdown",
   "id": "49b17501-12ff-4d29-9b76-4bdca89d8bb9",
   "metadata": {},
   "source": [
    "### Пункт а)"
   ]
  },
  {
   "cell_type": "code",
   "execution_count": 148,
   "id": "760410c3-1474-4e7b-82f5-836a5018d6dc",
   "metadata": {},
   "outputs": [
    {
     "name": "stdout",
     "output_type": "stream",
     "text": [
      "Матрица A не является продуктивной.\n"
     ]
    }
   ],
   "source": [
    "using LinearAlgebra\n",
    "\n",
    "# Исходная матрица A\n",
    "A = [1 2; 3 1]\n",
    "\n",
    "# Единичная матрица E размером 2x2\n",
    "E = I(2)\n",
    "\n",
    "# Матрица E - A\n",
    "E_minus_A = E - A\n",
    "\n",
    "# Проверяем, существует ли обратная матрица\n",
    "if det(E_minus_A) != 0\n",
    "    # Находим обратную матрицу (E - A)^-1\n",
    "    inv_E_minus_A = inv(E_minus_A)\n",
    "    \n",
    "    # Проверяем, являются ли все элементы матрицы обратной матрицы неотрицательными\n",
    "    if all(x -> x >= 0, inv_E_minus_A)\n",
    "        println(\"Матрица A является продуктивной.\")\n",
    "    else\n",
    "        println(\"Матрица A не является продуктивной.\")\n",
    "    end\n",
    "else\n",
    "    println(\"Матрица E - A вырождена, не существует обратной матрицы.\")\n",
    "end"
   ]
  },
  {
   "cell_type": "markdown",
   "id": "1c4b3b3d-d503-42c1-acb0-949189165d7f",
   "metadata": {},
   "source": [
    "### Пункт b)"
   ]
  },
  {
   "cell_type": "code",
   "execution_count": 149,
   "id": "1dd949a3-867c-4f55-80c4-14ca1a558578",
   "metadata": {},
   "outputs": [
    {
     "name": "stdout",
     "output_type": "stream",
     "text": [
      "Матрица A не является продуктивной.\n"
     ]
    }
   ],
   "source": [
    "using LinearAlgebra\n",
    "\n",
    "# Исходная матрица A\n",
    "A = [1 2; 3 1]\n",
    "\n",
    "# Создаем матрицу (1/2) * A\n",
    "half_A = 0.5 * A\n",
    "\n",
    "# Единичная матрица E размером 2x2\n",
    "E = I(2)\n",
    "\n",
    "# Матрица E - (1/2) * A\n",
    "E_minus_half_A = E - half_A\n",
    "\n",
    "# Проверяем, существует ли обратная матрица\n",
    "if det(E_minus_half_A) != 0\n",
    "    # Находим обратную матрицу (E - (1/2) * A)^-1\n",
    "    inv_E_minus_half_A = inv(E_minus_half_A)\n",
    "    \n",
    "    # Проверяем, являются ли все элементы матрицы обратной матрицы неотрицательными\n",
    "    if all(x -> x >= 0, inv_E_minus_half_A)\n",
    "        println(\"Матрица A является продуктивной.\")\n",
    "    else\n",
    "        println(\"Матрица A не является продуктивной.\")\n",
    "    end\n",
    "else\n",
    "    println(\"Матрица E - (1/2) * A вырождена, не существует обратной матрицы.\")\n",
    "end"
   ]
  },
  {
   "cell_type": "markdown",
   "id": "75d054f8-022a-48bf-9042-53456019ec6e",
   "metadata": {},
   "source": [
    "### Пункт с)"
   ]
  },
  {
   "cell_type": "code",
   "execution_count": 151,
   "id": "8a830ed7-4379-4c27-8a70-39e2d6e7d13d",
   "metadata": {},
   "outputs": [
    {
     "name": "stdout",
     "output_type": "stream",
     "text": [
      "Матрица A является продуктивной.\n"
     ]
    }
   ],
   "source": [
    "using LinearAlgebra\n",
    "\n",
    "# Исходная матрица A\n",
    "A = [1 2; 3 1]\n",
    "\n",
    "# Создаем матрицу (1/10) * A\n",
    "tenth_A = 0.1 * A\n",
    "\n",
    "# Единичная матрица E размером 2x2\n",
    "E = I(2)\n",
    "\n",
    "# Матрица E - (1/10) * A\n",
    "E_minus_tenth_A = E - tenth_A\n",
    "\n",
    "# Проверяем, существует ли обратная матрица\n",
    "if det(E_minus_tenth_A) != 0\n",
    "    # Находим обратную матрицу (E - (1/10) * A)^-1\n",
    "    inv_E_minus_tenth_A = inv(E_minus_tenth_A)\n",
    "    \n",
    "    # Проверяем, являются ли все элементы матрицы обратной матрицы неотрицательными\n",
    "    if all(x -> x >= 0, inv_E_minus_tenth_A)\n",
    "        println(\"Матрица A является продуктивной.\")\n",
    "    else\n",
    "        println(\"Матрица A не является продуктивной.\")\n",
    "    end\n",
    "else\n",
    "    println(\"Матрица E - (1/10) * A вырождена, не существует обратной матрицы.\")\n",
    "end"
   ]
  },
  {
   "cell_type": "markdown",
   "id": "977e7434-d558-4117-a36c-bd4a866a1b28",
   "metadata": {},
   "source": [
    "### 3. Спектральный критерий продуктивности: матрица 𝐴 является продуктивной тогда и только тогда, когда все её собственные значения по модулю меньше 1. Используя этот критерий, проверьте, являются ли матрицы продуктивными."
   ]
  },
  {
   "cell_type": "markdown",
   "id": "214dadeb-a649-4cb1-8223-b321740bf427",
   "metadata": {},
   "source": [
    "### Пункт а)"
   ]
  },
  {
   "cell_type": "code",
   "execution_count": 152,
   "id": "8ab85f66-3480-4cae-bef6-e54cef1cece3",
   "metadata": {},
   "outputs": [
    {
     "name": "stdout",
     "output_type": "stream",
     "text": [
      "Матрица A не является продуктивной.\n"
     ]
    }
   ],
   "source": [
    "using LinearAlgebra\n",
    "\n",
    "# Исходная матрица A\n",
    "A = [1 2; 3 1]\n",
    "\n",
    "# Находим собственные значения матрицы A\n",
    "eigenvalues_A = eigen(A).values\n",
    "\n",
    "# Проверяем, что все собственные значения по модулю меньше 1\n",
    "if all(abs(eigenvalue) < 1 for eigenvalue in eigenvalues_A)\n",
    "    println(\"Матрица A является продуктивной.\")\n",
    "else\n",
    "    println(\"Матрица A не является продуктивной.\")\n",
    "end"
   ]
  },
  {
   "cell_type": "markdown",
   "id": "f31f5ac3-c33a-45a8-88c2-734d4ac1a54f",
   "metadata": {},
   "source": [
    "### Пункт b)"
   ]
  },
  {
   "cell_type": "code",
   "execution_count": 154,
   "id": "48140fb1-9b87-45c4-8e3e-f61cfcb31041",
   "metadata": {},
   "outputs": [
    {
     "name": "stdout",
     "output_type": "stream",
     "text": [
      "Матрица (1/2) * A не является продуктивной.\n"
     ]
    }
   ],
   "source": [
    "using LinearAlgebra\n",
    "\n",
    "# Исходная матрица A\n",
    "A = [1 2; 3 1]\n",
    "\n",
    "# Создаем матрицу (1/2) * A\n",
    "half_A = 0.5 * A\n",
    "\n",
    "# Находим собственные значения матрицы (1/2) * A\n",
    "eigenvalues_half_A = eigen(half_A).values\n",
    "\n",
    "# Проверяем, что все собственные значения по модулю меньше 1\n",
    "if all(abs(eigenvalue) < 1 for eigenvalue in eigenvalues_half_A)\n",
    "    println(\"Матрица (1/2) * A является продуктивной.\")\n",
    "else\n",
    "    println(\"Матрица (1/2) * A не является продуктивной.\")\n",
    "end"
   ]
  },
  {
   "cell_type": "code",
   "execution_count": 155,
   "id": "8cae1d93-60af-4e19-b891-5e018aa1fd41",
   "metadata": {},
   "outputs": [
    {
     "name": "stdout",
     "output_type": "stream",
     "text": [
      "Матрица (1/10) * A является продуктивной.\n"
     ]
    }
   ],
   "source": [
    "using LinearAlgebra\n",
    "\n",
    "# Исходная матрица A\n",
    "A = [1 2; 3 1]\n",
    "\n",
    "# Создаем матрицу (1/10) * A\n",
    "tenth_A = 0.1 * A\n",
    "\n",
    "# Находим собственные значения матрицы (1/10) * A\n",
    "eigenvalues_tenth_A = eigen(tenth_A).values\n",
    "\n",
    "# Проверяем, что все собственные значения по модулю меньше 1\n",
    "if all(abs(eigenvalue) < 1 for eigenvalue in eigenvalues_tenth_A)\n",
    "    println(\"Матрица (1/10) * A является продуктивной.\")\n",
    "else\n",
    "    println(\"Матрица (1/10) * A не является продуктивной.\")\n",
    "end"
   ]
  },
  {
   "cell_type": "code",
   "execution_count": 156,
   "id": "0ff0a57c-0422-4efe-9f2b-a461a29899fa",
   "metadata": {},
   "outputs": [
    {
     "name": "stdout",
     "output_type": "stream",
     "text": [
      "Матрица A является продуктивной.\n"
     ]
    }
   ],
   "source": [
    "using LinearAlgebra\n",
    "\n",
    "# Исходная матрица A\n",
    "A = [0.1 0.2 0.3; 0 0.1 0.2; 0 0.1 0.3]\n",
    "\n",
    "# Находим собственные значения матрицы A\n",
    "eigenvalues_A = eigen(A).values\n",
    "\n",
    "# Проверяем, что все собственные значения по модулю меньше 1\n",
    "if all(abs(eigenvalue) < 1 for eigenvalue in eigenvalues_A)\n",
    "    println(\"Матрица A является продуктивной.\")\n",
    "else\n",
    "    println(\"Матрица A не является продуктивной.\")\n",
    "end"
   ]
  }
 ],
 "metadata": {
  "kernelspec": {
   "display_name": "Julia 1.10.5",
   "language": "julia",
   "name": "julia-1.10"
  },
  "language_info": {
   "file_extension": ".jl",
   "mimetype": "application/julia",
   "name": "julia",
   "version": "1.10.5"
  }
 },
 "nbformat": 4,
 "nbformat_minor": 5
}
