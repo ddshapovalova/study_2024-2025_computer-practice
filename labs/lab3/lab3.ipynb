{
 "cells": [
  {
   "cell_type": "markdown",
   "id": "427d1e43-7f45-49c6-81cf-3c424ff85adc",
   "metadata": {},
   "source": [
    "## Шаповалова Диана Дмитриевна. 1032211220"
   ]
  },
  {
   "cell_type": "markdown",
   "id": "d022f4d0-0e59-47ce-a6da-16a6f0758e90",
   "metadata": {},
   "source": [
    "## Лаб №3. Управляющие структуры"
   ]
  },
  {
   "cell_type": "markdown",
   "id": "dc8b2a61-a8e6-40ff-891c-09b1e041e098",
   "metadata": {},
   "source": [
    "### 3.2.1 Циклы while и for"
   ]
  },
  {
   "cell_type": "code",
   "execution_count": 1,
   "id": "c379e092-3b28-4705-8598-6580e6cbbffa",
   "metadata": {},
   "outputs": [
    {
     "name": "stdout",
     "output_type": "stream",
     "text": [
      "1\n",
      "2\n",
      "3\n",
      "4\n",
      "5\n",
      "6\n",
      "7\n",
      "8\n",
      "9\n",
      "10\n"
     ]
    }
   ],
   "source": [
    "# пока n<10 прибавить к n единицу и распечатать значение:\n",
    "n = 0\n",
    "while n < 10\n",
    "n += 1\n",
    "println(n)\n",
    "end"
   ]
  },
  {
   "cell_type": "code",
   "execution_count": 2,
   "id": "90c77f0a-ff2f-41e2-a7ca-55959fbe2db0",
   "metadata": {},
   "outputs": [
    {
     "name": "stdout",
     "output_type": "stream",
     "text": [
      "Hi Ted, it's great to see you!\n",
      "Hi Robyn, it's great to see you!\n",
      "Hi Barney, it's great to see you!\n",
      "Hi Lily, it's great to see you!\n",
      "Hi Marshall, it's great to see you!\n"
     ]
    }
   ],
   "source": [
    "myfriends = [\"Ted\", \"Robyn\", \"Barney\", \"Lily\", \"Marshall\"]\n",
    "i = 1\n",
    "while i <= length(myfriends)\n",
    "friend = myfriends[i]\n",
    "println(\"Hi $friend, it's great to see you!\")\n",
    "i += 1\n",
    "end\n"
   ]
  },
  {
   "cell_type": "code",
   "execution_count": 3,
   "id": "3b16ae42-5839-4af0-9d8d-53275afcdbce",
   "metadata": {},
   "outputs": [
    {
     "name": "stdout",
     "output_type": "stream",
     "text": [
      "1\n",
      "3\n",
      "5\n",
      "7\n",
      "9\n",
      "Hi Ted, it's great to see you!\n",
      "Hi Robyn, it's great to see you!\n",
      "Hi Barney, it's great to see you!\n",
      "Hi Lily, it's great to see you!\n",
      "Hi Marshall, it's great to see you!\n"
     ]
    }
   ],
   "source": [
    "for n in 1:2:10\n",
    "println(n)\n",
    "end\n",
    "myfriends = [\"Ted\", \"Robyn\", \"Barney\", \"Lily\", \"Marshall\"]\n",
    "for friend in myfriends\n",
    "println(\"Hi $friend, it's great to see you!\")\n",
    "end"
   ]
  },
  {
   "cell_type": "code",
   "execution_count": 5,
   "id": "40994646-bed5-489c-90ec-9a5f828dbb07",
   "metadata": {},
   "outputs": [],
   "source": [
    "# инициализация массива m x n из нулей:\n",
    "m, n = 5, 5\n",
    "A = fill(0, (m, n))\n",
    "# формирование массива, в котором значение каждой записи\n",
    "# является суммой индексов строки и столбца:\n",
    "for i in 1:m\n",
    "    for j in 1:n\n",
    "        A[i, j] = i + j\n",
    "    end\n",
    "end"
   ]
  },
  {
   "cell_type": "markdown",
   "id": "e455ee95-527f-44eb-9c98-bc65393e513e",
   "metadata": {},
   "source": [
    "### 3.2.2. Условные выражения"
   ]
  },
  {
   "cell_type": "code",
   "execution_count": 8,
   "id": "bbf8405c-183d-4b24-903b-0eb5f41d7bfc",
   "metadata": {},
   "outputs": [
    {
     "name": "stdout",
     "output_type": "stream",
     "text": [
      "Fizz\n"
     ]
    }
   ],
   "source": [
    "N = 3\n",
    "# используем `&&` для реализации операции \"AND\"\n",
    "# операция % вычисляет остаток от деления\n",
    "if (N % 3 == 0) && (N % 5 == 0)\n",
    "println(\"FizzBuzz\")\n",
    "elseif N % 3 == 0\n",
    "println(\"Fizz\")\n",
    "elseif N % 5 == 0\n",
    "println(\"Buzz\")\n",
    "else\n",
    "println(N)\n",
    "end"
   ]
  },
  {
   "cell_type": "markdown",
   "id": "55c59a67-9b5d-456a-88fe-fd81c40fc66d",
   "metadata": {},
   "source": [
    "### 3.2.3. Функции"
   ]
  },
  {
   "cell_type": "code",
   "execution_count": 9,
   "id": "23c19a54-c360-4ef6-b149-0a391b600620",
   "metadata": {},
   "outputs": [
    {
     "data": {
      "text/plain": [
       "3×3 Matrix{Int64}:\n",
       " 1  2  3\n",
       " 4  5  6\n",
       " 7  8  9"
      ]
     },
     "execution_count": 9,
     "metadata": {},
     "output_type": "execute_result"
    }
   ],
   "source": [
    "# Задаём матрицу A:\n",
    "A = [i + 3*j for j in 0:2, i in 1:3]"
   ]
  },
  {
   "cell_type": "code",
   "execution_count": 13,
   "id": "bf3b0afd-9e93-4b5c-a642-ca17daaf79ff",
   "metadata": {},
   "outputs": [
    {
     "data": {
      "text/plain": [
       "3×3 Matrix{Int64}:\n",
       "  30   36   42\n",
       "  66   81   96\n",
       " 102  126  150"
      ]
     },
     "execution_count": 13,
     "metadata": {},
     "output_type": "execute_result"
    }
   ],
   "source": [
    "# Вызываем функцию f возведения в квадрат\n",
    "f(x) = x^2\n",
    "f(A)"
   ]
  },
  {
   "cell_type": "code",
   "execution_count": 14,
   "id": "ebe9fc10-92b3-4c01-8d33-b17520c1065e",
   "metadata": {},
   "outputs": [
    {
     "data": {
      "text/plain": [
       "3×3 Matrix{Int64}:\n",
       "  1   4   9\n",
       " 16  25  36\n",
       " 49  64  81"
      ]
     },
     "execution_count": 14,
     "metadata": {},
     "output_type": "execute_result"
    }
   ],
   "source": [
    "B = f.(A)"
   ]
  },
  {
   "cell_type": "code",
   "execution_count": 35,
   "id": "0d80839e-75fd-414a-a75b-96a5d8ab609c",
   "metadata": {},
   "outputs": [
    {
     "data": {
      "image/svg+xml": [
       "<?xml version=\"1.0\" encoding=\"UTF-8\"?>\n",
       "<!DOCTYPE svg PUBLIC \"-//W3C//DTD SVG 1.1//EN\"\n",
       " \"http://www.w3.org/Graphics/SVG/1.1/DTD/svg11.dtd\">\n",
       "<svg xmlns=\"http://www.w3.org/2000/svg\" version=\"1.1\"\n",
       "     width=\"75mm\" height=\"75mm\"\n",
       "     viewBox=\"0 0 3 3\" preserveAspectRatio=\"none\"\n",
       "     shape-rendering=\"crispEdges\" stroke=\"none\">\n",
       "<rect width=\".96\" height=\".96\" x=\"0\" y=\"0\" fill=\"#00CDAD\" />\n",
       "<rect width=\".96\" height=\".96\" x=\"1\" y=\"0\" fill=\"#00D3FF\" />\n",
       "<rect width=\".96\" height=\".96\" x=\"2\" y=\"0\" fill=\"#9E9E77\" />\n",
       "<rect width=\".96\" height=\".96\" x=\"0\" y=\"1\" fill=\"#00CDAD\" />\n",
       "<rect width=\".96\" height=\".96\" x=\"1\" y=\"1\" fill=\"#C40000\" />\n",
       "<rect width=\".96\" height=\".96\" x=\"2\" y=\"1\" fill=\"#9E5100\" />\n",
       "<rect width=\".96\" height=\".96\" x=\"0\" y=\"2\" fill=\"#007E00\" />\n",
       "<rect width=\".96\" height=\".96\" x=\"1\" y=\"2\" fill=\"#44005C\" />\n",
       "<rect width=\".96\" height=\".96\" x=\"2\" y=\"2\" fill=\"#FFFF74\" />\n",
       "</svg>"
      ],
      "text/plain": [
       "3×3 Matrix{RGB{FixedPointNumbers.N0f8}}:\n",
       " RGB(0.0, 0.804, 0.678)  RGB(0.0, 0.827, 1.0)    RGB(0.62, 0.62, 0.467)\n",
       " RGB(0.0, 0.804, 0.678)  RGB(0.769, 0.0, 0.0)    RGB(0.62, 0.318, 0.0)\n",
       " RGB(0.0, 0.494, 0.0)    RGB(0.267, 0.0, 0.361)  RGB(1.0, 1.0, 0.455)"
      ]
     },
     "execution_count": 35,
     "metadata": {},
     "output_type": "execute_result"
    }
   ],
   "source": [
    "using Colors\n",
    "palette = distinguishable_colors(100)\n",
    "rand(palette, 3, 3)"
   ]
  },
  {
   "cell_type": "markdown",
   "id": "16e3c642-38e0-41cc-8bb6-388c0f6e559b",
   "metadata": {},
   "source": [
    "### 3.4. Задания для самостоятельного выполнения"
   ]
  },
  {
   "cell_type": "markdown",
   "id": "ac3b4255-bce9-445d-987d-c8d8f725696a",
   "metadata": {},
   "source": [
    "#### 1. Используя циклы while и for: \n",
    "#### – выведите на экран целые числа от 1 до 100 и напечатайте их квадраты;"
   ]
  },
  {
   "cell_type": "code",
   "execution_count": 37,
   "id": "ed8e1566-b1db-4385-bfad-b0bc27a856f1",
   "metadata": {},
   "outputs": [
    {
     "name": "stdout",
     "output_type": "stream",
     "text": [
      "Число: 1, Квадрат: 1\n",
      "Число: 2, Квадрат: 4\n",
      "Число: 3, Квадрат: 9\n",
      "Число: 4, Квадрат: 16\n",
      "Число: 5, Квадрат: 25\n",
      "Число: 6, Квадрат: 36\n",
      "Число: 7, Квадрат: 49\n",
      "Число: 8, Квадрат: 64\n",
      "Число: 9, Квадрат: 81\n",
      "Число: 10, Квадрат: 100\n",
      "Число: 11, Квадрат: 121\n",
      "Число: 12, Квадрат: 144\n",
      "Число: 13, Квадрат: 169\n",
      "Число: 14, Квадрат: 196\n",
      "Число: 15, Квадрат: 225\n",
      "Число: 16, Квадрат: 256\n",
      "Число: 17, Квадрат: 289\n",
      "Число: 18, Квадрат: 324\n",
      "Число: 19, Квадрат: 361\n",
      "Число: 20, Квадрат: 400\n",
      "Число: 21, Квадрат: 441\n",
      "Число: 22, Квадрат: 484\n",
      "Число: 23, Квадрат: 529\n",
      "Число: 24, Квадрат: 576\n",
      "Число: 25, Квадрат: 625\n",
      "Число: 26, Квадрат: 676\n",
      "Число: 27, Квадрат: 729\n",
      "Число: 28, Квадрат: 784\n",
      "Число: 29, Квадрат: 841\n",
      "Число: 30, Квадрат: 900\n",
      "Число: 31, Квадрат: 961\n",
      "Число: 32, Квадрат: 1024\n",
      "Число: 33, Квадрат: 1089\n",
      "Число: 34, Квадрат: 1156\n",
      "Число: 35, Квадрат: 1225\n",
      "Число: 36, Квадрат: 1296\n",
      "Число: 37, Квадрат: 1369\n",
      "Число: 38, Квадрат: 1444\n",
      "Число: 39, Квадрат: 1521\n",
      "Число: 40, Квадрат: 1600\n",
      "Число: 41, Квадрат: 1681\n",
      "Число: 42, Квадрат: 1764\n",
      "Число: 43, Квадрат: 1849\n",
      "Число: 44, Квадрат: 1936\n",
      "Число: 45, Квадрат: 2025\n",
      "Число: 46, Квадрат: 2116\n",
      "Число: 47, Квадрат: 2209\n",
      "Число: 48, Квадрат: 2304\n",
      "Число: 49, Квадрат: 2401\n",
      "Число: 50, Квадрат: 2500\n",
      "Число: 51, Квадрат: 2601\n",
      "Число: 52, Квадрат: 2704\n",
      "Число: 53, Квадрат: 2809\n",
      "Число: 54, Квадрат: 2916\n",
      "Число: 55, Квадрат: 3025\n",
      "Число: 56, Квадрат: 3136\n",
      "Число: 57, Квадрат: 3249\n",
      "Число: 58, Квадрат: 3364\n",
      "Число: 59, Квадрат: 3481\n",
      "Число: 60, Квадрат: 3600\n",
      "Число: 61, Квадрат: 3721\n",
      "Число: 62, Квадрат: 3844\n",
      "Число: 63, Квадрат: 3969\n",
      "Число: 64, Квадрат: 4096\n",
      "Число: 65, Квадрат: 4225\n",
      "Число: 66, Квадрат: 4356\n",
      "Число: 67, Квадрат: 4489\n",
      "Число: 68, Квадрат: 4624\n",
      "Число: 69, Квадрат: 4761\n",
      "Число: 70, Квадрат: 4900\n",
      "Число: 71, Квадрат: 5041\n",
      "Число: 72, Квадрат: 5184\n",
      "Число: 73, Квадрат: 5329\n",
      "Число: 74, Квадрат: 5476\n",
      "Число: 75, Квадрат: 5625\n",
      "Число: 76, Квадрат: 5776\n",
      "Число: 77, Квадрат: 5929\n",
      "Число: 78, Квадрат: 6084\n",
      "Число: 79, Квадрат: 6241\n",
      "Число: 80, Квадрат: 6400\n",
      "Число: 81, Квадрат: 6561\n",
      "Число: 82, Квадрат: 6724\n",
      "Число: 83, Квадрат: 6889\n",
      "Число: 84, Квадрат: 7056\n",
      "Число: 85, Квадрат: 7225\n",
      "Число: 86, Квадрат: 7396\n",
      "Число: 87, Квадрат: 7569\n",
      "Число: 88, Квадрат: 7744\n",
      "Число: 89, Квадрат: 7921\n",
      "Число: 90, Квадрат: 8100\n",
      "Число: 91, Квадрат: 8281\n",
      "Число: 92, Квадрат: 8464\n",
      "Число: 93, Квадрат: 8649\n",
      "Число: 94, Квадрат: 8836\n",
      "Число: 95, Квадрат: 9025\n",
      "Число: 96, Квадрат: 9216\n",
      "Число: 97, Квадрат: 9409\n",
      "Число: 98, Квадрат: 9604\n",
      "Число: 99, Квадрат: 9801\n",
      "Число: 100, Квадрат: 10000\n"
     ]
    }
   ],
   "source": [
    "for i in 1:100\n",
    "    println(\"Число: $i, Квадрат: $(i^2)\")\n",
    "end"
   ]
  },
  {
   "cell_type": "markdown",
   "id": "eb94c3dc-8dd5-4de2-b5cc-046a9d311452",
   "metadata": {},
   "source": [
    "#### – создайте словарь squares, который будет содержать целые числа в качестве ключей и квадраты в качестве их пар-значений;"
   ]
  },
  {
   "cell_type": "code",
   "execution_count": 38,
   "id": "9dabb955-0954-480e-93ee-6fb3980d985f",
   "metadata": {},
   "outputs": [
    {
     "name": "stdout",
     "output_type": "stream",
     "text": [
      "Dict{Any, Any}(5 => 25, 56 => 3136, 35 => 1225, 55 => 3025, 60 => 3600, 30 => 900, 32 => 1024, 6 => 36, 67 => 4489, 45 => 2025, 73 => 5329, 64 => 4096, 90 => 8100, 4 => 16, 13 => 169, 54 => 2916, 63 => 3969, 86 => 7396, 91 => 8281, 62 => 3844, 58 => 3364, 52 => 2704, 12 => 144, 28 => 784, 75 => 5625, 23 => 529, 92 => 8464, 41 => 1681, 43 => 1849, 11 => 121, 36 => 1296, 68 => 4624, 69 => 4761, 98 => 9604, 82 => 6724, 85 => 7225, 39 => 1521, 84 => 7056, 77 => 5929, 7 => 49, 25 => 625, 95 => 9025, 71 => 5041, 66 => 4356, 76 => 5776, 34 => 1156, 50 => 2500, 59 => 3481, 93 => 8649, 2 => 4, 10 => 100, 18 => 324, 26 => 676, 27 => 729, 42 => 1764, 87 => 7569, 100 => 10000, 79 => 6241, 16 => 256, 20 => 400, 81 => 6561, 19 => 361, 49 => 2401, 44 => 1936, 9 => 81, 31 => 961, 74 => 5476, 61 => 3721, 29 => 841, 94 => 8836, 46 => 2116, 57 => 3249, 70 => 4900, 21 => 441, 38 => 1444, 88 => 7744, 78 => 6084, 72 => 5184, 24 => 576, 8 => 64, 17 => 289, 37 => 1369, 1 => 1, 53 => 2809, 22 => 484, 47 => 2209, 83 => 6889, 99 => 9801, 89 => 7921, 14 => 196, 3 => 9, 80 => 6400, 96 => 9216, 51 => 2601, 33 => 1089, 40 => 1600, 48 => 2304, 15 => 225, 65 => 4225, 97 => 9409)\n"
     ]
    }
   ],
   "source": [
    "squares = Dict()\n",
    "for i in 1:100\n",
    "    squares[i] = i^2\n",
    "end\n",
    "println(squares)"
   ]
  },
  {
   "cell_type": "markdown",
   "id": "71ca2d30-5b97-41bd-8936-63a4b8973965",
   "metadata": {},
   "source": [
    "#### – создайте массив squares_arr, содержащий квадраты всех чисел от 1 до 100."
   ]
  },
  {
   "cell_type": "code",
   "execution_count": 40,
   "id": "b1c995e3-34fe-4734-9e40-0bab48a591de",
   "metadata": {},
   "outputs": [
    {
     "name": "stdout",
     "output_type": "stream",
     "text": [
      "Any[1, 4, 9, 16, 25, 36, 49, 64, 81, 100, 121, 144, 169, 196, 225, 256, 289, 324, 361, 400, 441, 484, 529, 576, 625, 676, 729, 784, 841, 900, 961, 1024, 1089, 1156, 1225, 1296, 1369, 1444, 1521, 1600, 1681, 1764, 1849, 1936, 2025, 2116, 2209, 2304, 2401, 2500, 2601, 2704, 2809, 2916, 3025, 3136, 3249, 3364, 3481, 3600, 3721, 3844, 3969, 4096, 4225, 4356, 4489, 4624, 4761, 4900, 5041, 5184, 5329, 5476, 5625, 5776, 5929, 6084, 6241, 6400, 6561, 6724, 6889, 7056, 7225, 7396, 7569, 7744, 7921, 8100, 8281, 8464, 8649, 8836, 9025, 9216, 9409, 9604, 9801, 10000]\n"
     ]
    }
   ],
   "source": [
    "squares_arr = []\n",
    "i = 1\n",
    "while i <= 100\n",
    "    push!(squares_arr, i^2)\n",
    "    i += 1\n",
    "end\n",
    "println(squares_arr)"
   ]
  },
  {
   "cell_type": "markdown",
   "id": "26ae23a7-bb76-43d3-b6d6-cd9f5285f678",
   "metadata": {},
   "source": [
    "#### 2. Напишите условный оператор, который печатает число, если число чётное, и строку «нечётное», если число нечётное. Перепишите код, используя тернарный оператор."
   ]
  },
  {
   "cell_type": "code",
   "execution_count": 42,
   "id": "716f95b2-3ddd-46bd-88af-ccb22766d5c3",
   "metadata": {},
   "outputs": [
    {
     "name": "stdout",
     "output_type": "stream",
     "text": [
      "Нечетное\n",
      "4\n"
     ]
    }
   ],
   "source": [
    "function even_odd(n)\n",
    "    if n % 2 == 0\n",
    "        println(n)\n",
    "    else\n",
    "        println(\"Нечетное\")\n",
    "    end\n",
    "end\n",
    "even_odd(3)\n",
    "even_odd(4)"
   ]
  },
  {
   "cell_type": "code",
   "execution_count": 44,
   "id": "50623821-8ada-4f00-979a-42060891a76d",
   "metadata": {},
   "outputs": [
    {
     "name": "stdout",
     "output_type": "stream",
     "text": [
      "Нечетное\n",
      "4\n"
     ]
    }
   ],
   "source": [
    "function even_odd_ternary(n)\n",
    "    println(n % 2 == 0 ? n : \"нечётное\")\n",
    "end\n",
    "even_odd(3)\n",
    "even_odd(4)"
   ]
  },
  {
   "cell_type": "markdown",
   "id": "321db873-df16-4194-b6fe-4616b97b9a23",
   "metadata": {},
   "source": [
    "#### 3. Напишите функцию add_one, которая добавляет 1 к своему входу"
   ]
  },
  {
   "cell_type": "code",
   "execution_count": 49,
   "id": "506d807e-32ab-4adf-8a30-a19771c98e1a",
   "metadata": {},
   "outputs": [
    {
     "name": "stdout",
     "output_type": "stream",
     "text": [
      "0\n",
      "4\n"
     ]
    }
   ],
   "source": [
    "function add_one(x)\n",
    "    return x+1\n",
    "end\n",
    "println(add_one(-1))\n",
    "println(add_one(3))"
   ]
  },
  {
   "cell_type": "markdown",
   "id": "aa760eeb-97bd-4de9-afc3-1d37d94ac4a8",
   "metadata": {},
   "source": [
    "#### 4. Используйте map() или broadcast() для задания матрицы 𝐴, каждый элемент которой увеличивается на единицу по сравнению с предыдущим."
   ]
  },
  {
   "cell_type": "code",
   "execution_count": 57,
   "id": "fab56780-c829-4d5d-8a8d-67ab388b8fed",
   "metadata": {},
   "outputs": [
    {
     "name": "stdout",
     "output_type": "stream",
     "text": [
      "Матрица A:\n",
      "[1 4 7; 2 5 8; 3 6 9]\n",
      "Матрица a:\n",
      "[2 5 8; 3 6 9; 4 7 10]\n"
     ]
    }
   ],
   "source": [
    "add_one(x) = x+1\n",
    "A = reshape(1:9, 3, 3)\n",
    "a = map(add_one, A)\n",
    "println(\"Матрица A:\")\n",
    "println(A)\n",
    "println(\"Матрица a:\")\n",
    "println(a)"
   ]
  },
  {
   "cell_type": "markdown",
   "id": "ea378480-b0ef-4694-ad99-683f17d4a859",
   "metadata": {},
   "source": [
    "#### 5. Задайте матрицу 𝐴 следующего вида: [1 1 3; 5 2 6; -2 -1 -3]\n",
    "#### – Найдите 𝐴^3"
   ]
  },
  {
   "cell_type": "code",
   "execution_count": 67,
   "id": "0b917675-b358-4688-9763-16b19c527f4a",
   "metadata": {},
   "outputs": [
    {
     "name": "stdout",
     "output_type": "stream",
     "text": [
      "Матрица A:\n",
      "[1 1 3; 5 2 6; -2 -1 -3]\n",
      "Матрица A^3:\n",
      "[0 0 0; 0 0 0; 0 0 0]\n"
     ]
    }
   ],
   "source": [
    "A = [1 1 3; 5 2 6; -2 -1 -3]\n",
    "f(x) = x^3\n",
    "println(\"Матрица A:\")\n",
    "println(A)\n",
    "println(\"Матрица A^3:\")\n",
    "println(f(A))"
   ]
  },
  {
   "cell_type": "markdown",
   "id": "5abceddc-9275-4a70-a503-eee80c99c296",
   "metadata": {},
   "source": [
    "#### – Замените третий столбец матрицы 𝐴 на сумму второго и третьего столбцов"
   ]
  },
  {
   "cell_type": "code",
   "execution_count": 70,
   "id": "74cab635-3da4-45b9-bb5f-d5ce3287023e",
   "metadata": {},
   "outputs": [
    {
     "name": "stdout",
     "output_type": "stream",
     "text": [
      "[1 1 6; 5 2 12; -2 -1 -6]\n"
     ]
    }
   ],
   "source": [
    "A[:, 3]= A[:,2] + A[:,3]\n",
    "println(A)"
   ]
  },
  {
   "cell_type": "markdown",
   "id": "618207c7-8bcd-4770-b118-2c0eac3459f1",
   "metadata": {},
   "source": [
    "#### 6. Создайте матрицу 𝐵 с элементами 𝐵_𝑖1 = 10, 𝐵_𝑖2 = −10, 𝐵_𝑖3 = 10, 𝑖 = 1, 2, … , 15.\n",
    "#### Вычислите матрицу 𝐶 = (𝐵^𝑇)*𝐵"
   ]
  },
  {
   "cell_type": "code",
   "execution_count": 73,
   "id": "8aed1f4e-2206-4863-bc2c-35dffae79837",
   "metadata": {},
   "outputs": [
    {
     "data": {
      "text/plain": [
       "15×3 Matrix{Int64}:\n",
       " 10  -10  10\n",
       " 10  -10  10\n",
       " 10  -10  10\n",
       " 10  -10  10\n",
       " 10  -10  10\n",
       " 10  -10  10\n",
       " 10  -10  10\n",
       " 10  -10  10\n",
       " 10  -10  10\n",
       " 10  -10  10\n",
       " 10  -10  10\n",
       " 10  -10  10\n",
       " 10  -10  10\n",
       " 10  -10  10\n",
       " 10  -10  10"
      ]
     },
     "execution_count": 73,
     "metadata": {},
     "output_type": "execute_result"
    }
   ],
   "source": [
    "B = repeat([10 -10 10], 15, 1)"
   ]
  },
  {
   "cell_type": "code",
   "execution_count": 74,
   "id": "e173cc2d-f4ba-4bc8-8244-e0a4787c45f2",
   "metadata": {},
   "outputs": [
    {
     "data": {
      "text/plain": [
       "3×3 Matrix{Int64}:\n",
       "  1500  -1500   1500\n",
       " -1500   1500  -1500\n",
       "  1500  -1500   1500"
      ]
     },
     "execution_count": 74,
     "metadata": {},
     "output_type": "execute_result"
    }
   ],
   "source": [
    "C = B' * B"
   ]
  },
  {
   "cell_type": "markdown",
   "id": "0d1a7fad-3bab-4a74-9e4b-ba75ad390c33",
   "metadata": {},
   "source": [
    "#### 7. Создайте матрицу 𝑍 размерности 6 × 6, все элементы которой равны нулю, и матрицу 𝐸, все элементы которой равны 1. Используя цикл while или for и закономерности расположения элементов, создайте следующие матрицы размерности 6 × 6:"
   ]
  },
  {
   "cell_type": "code",
   "execution_count": 1,
   "id": "2c6dcc3d-98f7-48f5-accc-760101fa1ab9",
   "metadata": {},
   "outputs": [
    {
     "name": "stdout",
     "output_type": "stream",
     "text": [
      "Матрица Z:\n",
      "[0, 0, 0, 0, 0, 0]\n",
      "[0, 0, 0, 0, 0, 0]\n",
      "[0, 0, 0, 0, 0, 0]\n",
      "[0, 0, 0, 0, 0, 0]\n",
      "[0, 0, 0, 0, 0, 0]\n",
      "[0, 0, 0, 0, 0, 0]\n",
      "\n",
      "Матрица Z_1:\n",
      "[0, 1, 0, 0, 0, 0]\n",
      "[1, 0, 1, 0, 0, 0]\n",
      "[0, 1, 0, 1, 0, 0]\n",
      "[0, 0, 1, 0, 1, 0]\n",
      "[0, 0, 0, 1, 0, 1]\n",
      "[0, 0, 0, 0, 1, 0]\n",
      "\n",
      "Матрица Z_4:\n",
      "[1, 0, 1, 0, 1, 0]\n",
      "[0, 1, 0, 1, 0, 1]\n",
      "[1, 0, 1, 0, 1, 0]\n",
      "[0, 1, 0, 1, 0, 1]\n",
      "[1, 0, 1, 0, 1, 0]\n",
      "[0, 1, 0, 1, 0, 1]\n",
      "\n"
     ]
    }
   ],
   "source": [
    "# Функция для красивого вывода матриц\n",
    "function print_matrix(mat)\n",
    "    for row in eachrow(mat)\n",
    "        println(row)\n",
    "    end\n",
    "    println()\n",
    "end\n",
    "\n",
    "Z = zeros(Int, 6, 6)  # Матрица Z размерности 6x6, все элементы равны нулю\n",
    "\n",
    "# Функция для создания матрицы Z_1\n",
    "function create_Z1()\n",
    "    Z1 = copy(Z)  # Копируем матрицу Z\n",
    "    for i in 1:6\n",
    "        for j in 1:6\n",
    "            if abs(i - j) == 1 || i == j\n",
    "                Z1[i, j] = 1\n",
    "            end\n",
    "        end\n",
    "    end\n",
    "    return Z1\n",
    "end\n",
    "\n",
    "# Матрица Z1\n",
    "Z1 = copy(Z)\n",
    "for i in 1:6\n",
    "    for j in 1:6\n",
    "        if abs(i - j) == 1  \n",
    "            Z1[i, j] = 1\n",
    "        end\n",
    "    end\n",
    "end\n",
    "\n",
    "# Матрица Z4\n",
    "Z4 = copy(Z)  \n",
    "for i in 1:6\n",
    "    for j in 1:6\n",
    "        if (i + j) % 2 == 0  \n",
    "            Z4[i, j] = 1\n",
    "        end\n",
    "    end\n",
    "end\n",
    "\n",
    "\n",
    "println(\"Матрица Z:\")\n",
    "print_matrix(Z)\n",
    "\n",
    "println(\"Матрица Z_1:\")\n",
    "print_matrix(Z1)\n",
    "\n",
    "println(\"Матрица Z_4:\")\n",
    "print_matrix(Z4)"
   ]
  },
  {
   "cell_type": "markdown",
   "id": "7b713c52-37ae-4fa7-88ef-326b8353bb79",
   "metadata": {},
   "source": [
    "#### №8. В языке R есть функция outer(). Фактически, это матричное умножение с возможностью изменить применяемую операцию (например, заменить произведение на сложение или возведение в степень):\n",
    "#### 8.1) Напишите свою функцию, аналогичную функции outer() языка R. Функция должна иметь следующий интерфейс: outer(x,y,operation):"
   ]
  },
  {
   "cell_type": "code",
   "execution_count": 2,
   "id": "7d0801e6-5e26-4bd0-a0a2-40a267221add",
   "metadata": {},
   "outputs": [
    {
     "data": {
      "text/plain": [
       "outer (generic function with 1 method)"
      ]
     },
     "execution_count": 2,
     "metadata": {},
     "output_type": "execute_result"
    }
   ],
   "source": [
    "function outer(x, y, operation)\n",
    "    return [operation(xi, yj) for xi in x, yj in y]\n",
    "end"
   ]
  },
  {
   "cell_type": "markdown",
   "id": "5579705c-fb08-4058-9170-32544a11835f",
   "metadata": {},
   "source": [
    "#### 8.2) Используя написанную вами функцию outer(), создайте матрицы следующей структуры:"
   ]
  },
  {
   "cell_type": "code",
   "execution_count": 3,
   "id": "c708204d-f20f-4021-b23b-df6d47cf1e20",
   "metadata": {},
   "outputs": [
    {
     "name": "stdout",
     "output_type": "stream",
     "text": [
      "\n",
      "Матрица A1:\n",
      "[0, 1, 2, 3, 4]\n",
      "[1, 2, 3, 4, 5]\n",
      "[2, 3, 4, 5, 6]\n",
      "[3, 4, 5, 6, 7]\n",
      "[4, 5, 6, 7, 8]\n",
      "\n",
      "Матрица A2:\n",
      "[0, 0, 0, 0, 0]\n",
      "[1, 1, 1, 1, 1]\n",
      "[2, 4, 8, 16, 32]\n",
      "[3, 9, 27, 81, 243]\n",
      "[4, 16, 64, 256, 1024]\n",
      "\n",
      "Матрица A3:\n",
      "[0, 1, 2, 3, 4]\n",
      "[1, 2, 3, 4, 0]\n",
      "[2, 3, 4, 0, 1]\n",
      "[3, 4, 0, 1, 2]\n",
      "[4, 0, 1, 2, 3]\n",
      "\n",
      "Матрица A4:\n",
      "[0, 1, 2, 3, 4, 5, 6, 7, 8, 9]\n",
      "[1, 2, 3, 4, 5, 6, 7, 8, 9, 0]\n",
      "[2, 3, 4, 5, 6, 7, 8, 9, 0, 1]\n",
      "[3, 4, 5, 6, 7, 8, 9, 0, 1, 2]\n",
      "[4, 5, 6, 7, 8, 9, 0, 1, 2, 3]\n",
      "[5, 6, 7, 8, 9, 0, 1, 2, 3, 4]\n",
      "[6, 7, 8, 9, 0, 1, 2, 3, 4, 5]\n",
      "[7, 8, 9, 0, 1, 2, 3, 4, 5, 6]\n",
      "[8, 9, 0, 1, 2, 3, 4, 5, 6, 7]\n",
      "[9, 0, 1, 2, 3, 4, 5, 6, 7, 8]\n",
      "\n",
      "Матрица A5:\n",
      "[0, 8, 7, 6, 5, 4, 3, 2, 1]\n",
      "[1, 0, 8, 7, 6, 5, 4, 3, 2]\n",
      "[2, 1, 0, 8, 7, 6, 5, 4, 3]\n",
      "[3, 2, 1, 0, 8, 7, 6, 5, 4]\n",
      "[4, 3, 2, 1, 0, 8, 7, 6, 5]\n",
      "[5, 4, 3, 2, 1, 0, 8, 7, 6]\n",
      "[6, 5, 4, 3, 2, 1, 0, 8, 7]\n",
      "[7, 6, 5, 4, 3, 2, 1, 0, 8]\n",
      "[8, 7, 6, 5, 4, 3, 2, 1, 0]\n"
     ]
    }
   ],
   "source": [
    "# Матрица A1: сложение элементов\n",
    "A1 = outer(0:4, 0:4, +)\n",
    "\n",
    "# Матрица A2: возведение в степень (если 0^0, принимаем как 0)\n",
    "function safe_pow(x, y)\n",
    "    x == 0 && y == 0 ? 0 : x^y\n",
    "end\n",
    "\n",
    "# Матрица A2: с пропуском первого элемента в каждой строке\n",
    "A2 = [j == 1 ? i : safe_pow(i, j) for i in 0:4, j in 1:5]\n",
    "\n",
    "# Матрица A3: циклический сдвиг по модулю 5\n",
    "A3 = outer(0:4, 0:4, (x, y) -> mod(x + y, 5))\n",
    "\n",
    "# Матрица A4: циклический сдвиг по модулю 10\n",
    "A4 = outer(0:9, 0:9, (x, y) -> mod(x + y, 10))\n",
    "\n",
    "# Матрица A5: разница по модулю 9\n",
    "A5 = outer(0:8, 0:8, (x, y) -> mod(x - y, 9))\n",
    "\n",
    "# Функция для красивого вывода матриц\n",
    "function print_matrix(name, mat)\n",
    "    println(\"\\nМатрица $name:\")\n",
    "    for row in eachrow(mat)\n",
    "        println(row)\n",
    "    end\n",
    "end\n",
    "\n",
    "# Печатаем все матрицы\n",
    "print_matrix(\"A1\", A1)\n",
    "print_matrix(\"A2\", A2)\n",
    "print_matrix(\"A3\", A3)\n",
    "print_matrix(\"A4\", A4)\n",
    "print_matrix(\"A5\", A5)"
   ]
  },
  {
   "cell_type": "markdown",
   "id": "550f7a56-daf2-4b20-bbda-504bea6371d7",
   "metadata": {},
   "source": [
    "#### 9.Решите следующую систему линейных уравнений с 5 неизвестными:\n",
    "#### 𝑥1 + 2𝑥2 + 3𝑥3 + 4𝑥4 + 5𝑥5 = 7,\n",
    "#### 2𝑥1 + 𝑥2 + 2𝑥3 + 3𝑥4 + 4𝑥5 = −1,\n",
    "#### 3𝑥1 + 2𝑥2 + 𝑥3 + 2𝑥4 + 3𝑥5 = −3,\n",
    "#### 4𝑥1 + 3𝑥2 + 2𝑥3 + 𝑥4 + 2𝑥5 = 5,\n",
    "#### 5𝑥1 + 4𝑥2 + 3𝑥3 + 2𝑥4 + 𝑥5 = 17"
   ]
  },
  {
   "cell_type": "code",
   "execution_count": 83,
   "id": "448b236b-bc0e-4668-8147-0f8ab0c687c3",
   "metadata": {},
   "outputs": [
    {
     "name": "stdout",
     "output_type": "stream",
     "text": [
      "[-2.0000000000000036, 3.0000000000000058, 4.999999999999998, 1.9999999999999991, -3.999999999999999]\n"
     ]
    }
   ],
   "source": [
    "A = [1 2 3 4 5; 2 1 2 3 4; 3 2 1 2 3; 4 3 2 1 2; 5 4 3 2 1]\n",
    "y = [7; -1; -3; 5; 17]\n",
    "x = A \\ y\n",
    "println(x)"
   ]
  },
  {
   "cell_type": "markdown",
   "id": "c95791d9-ac38-47ad-9a69-633cfcb81e67",
   "metadata": {},
   "source": [
    "#### 10. Создайте матрицу 𝑀 размерности 6 × 10, элементами которой являются целые числа, выбранные случайным образом с повторениями из совокупности 1, 2, … , 10.\n",
    "#### – Найдите число элементов в каждой строке матрицы 𝑀, которые больше числа 𝑁 (например, 𝑁 = 4)."
   ]
  },
  {
   "cell_type": "code",
   "execution_count": 84,
   "id": "3465ae79-e408-4091-a12a-3f9e70571846",
   "metadata": {},
   "outputs": [
    {
     "data": {
      "text/plain": [
       "6×10 Matrix{Int64}:\n",
       "  4  1  3  3   5  10  9  8  4  10\n",
       "  2  5  1  4   6   4  3  5  1   7\n",
       "  2  9  6  1  10   8  3  9  5   4\n",
       "  8  5  5  7   4   6  3  9  7   6\n",
       "  5  1  2  6   4   6  2  5  1   6\n",
       " 10  8  9  3   3   4  7  7  1   5"
      ]
     },
     "execution_count": 84,
     "metadata": {},
     "output_type": "execute_result"
    }
   ],
   "source": [
    "M = rand(1:10, 6, 10)"
   ]
  },
  {
   "cell_type": "code",
   "execution_count": 88,
   "id": "e2f2ca6e-1bd5-44e2-b671-94541b2b4686",
   "metadata": {},
   "outputs": [
    {
     "name": "stdout",
     "output_type": "stream",
     "text": [
      "[5, 4, 6, 8, 5, 6]\n"
     ]
    }
   ],
   "source": [
    "N = 4\n",
    "count = [sum(M[i, :] .> N) for i in 1:6]\n",
    "println(count)"
   ]
  },
  {
   "cell_type": "markdown",
   "id": "d0aefb0f-2238-41cc-b28d-75dad970e1fb",
   "metadata": {},
   "source": [
    "#### – Определите, в каких строках матрицы 𝑀 число 𝑀(например,𝑀 = 7) встречается ровно 2 раза?"
   ]
  },
  {
   "cell_type": "code",
   "execution_count": 89,
   "id": "3ffa48de-32b7-4ddb-8997-f3713ea05cdc",
   "metadata": {},
   "outputs": [
    {
     "name": "stdout",
     "output_type": "stream",
     "text": [
      "[4, 6]\n"
     ]
    }
   ],
   "source": [
    "two_M = [i for i in 1:6 if sum(M[i,:] .== 7) == 2]\n",
    "println(two_M)"
   ]
  },
  {
   "cell_type": "markdown",
   "id": "797e7929-7b0f-4a9e-b468-91afac3020ee",
   "metadata": {},
   "source": [
    "#### – Определите все пары столбцов матрицы 𝑀, сумма элементов которых больше 𝐾 (например, 𝐾 = 75)"
   ]
  },
  {
   "cell_type": "code",
   "execution_count": 93,
   "id": "aade8751-9cdc-467e-9457-e989ed003ed0",
   "metadata": {},
   "outputs": [
    {
     "name": "stdout",
     "output_type": "stream",
     "text": [
      "Any[(6, 8), (6, 10), (8, 10)]\n"
     ]
    }
   ],
   "source": [
    "column_pairs = []\n",
    "K = 75\n",
    "for i in 1:10\n",
    "    for j in i+1:10\n",
    "        sum_columns = sum(M[:, i]) + sum(M[:, j])  # сумма элементов пары столбцов\n",
    "        if sum_columns > K\n",
    "            push!(column_pairs, (i, j))\n",
    "        end\n",
    "    end\n",
    "end\n",
    "println(column_pairs)"
   ]
  },
  {
   "cell_type": "markdown",
   "id": "b50dc7e5-1e36-4a0f-8e95-cef1e9e6c194",
   "metadata": {},
   "source": [
    "#### 11. Вычислите: ∑_{𝑖=1}^20 ∑_{j=1}^5 𝑖^4/(3 + 𝑗)"
   ]
  },
  {
   "cell_type": "code",
   "execution_count": 95,
   "id": "3820ffe2-d420-4ef4-82bb-029e3a3db6c1",
   "metadata": {},
   "outputs": [
    {
     "name": "stdout",
     "output_type": "stream",
     "text": [
      "639215.2833333334\n"
     ]
    }
   ],
   "source": [
    "sum_res= 0\n",
    "for i in 1:20\n",
    "    inner_sum = 0\n",
    "    for j in 1:5\n",
    "        inner_sum += i^4 / (3+j)\n",
    "    end\n",
    "    sum_res += inner_sum\n",
    "end\n",
    "println(sum_res)"
   ]
  },
  {
   "cell_type": "markdown",
   "id": "fcc39b43-d22e-4146-8110-c71bbcf16cf1",
   "metadata": {},
   "source": [
    "####  ∑_{𝑖=1}^20 ∑_{j=1}^5 𝑖^4/(3 + i𝑗)"
   ]
  },
  {
   "cell_type": "code",
   "execution_count": 96,
   "id": "d8e1a2ad-47fd-4992-b504-26821d133408",
   "metadata": {},
   "outputs": [
    {
     "name": "stdout",
     "output_type": "stream",
     "text": [
      "89912.02146097136\n"
     ]
    }
   ],
   "source": [
    "sum_res= 0\n",
    "for i in 1:20\n",
    "    inner_sum = 0\n",
    "    for j in 1:5\n",
    "        inner_sum += i^4 / (3+i*j)\n",
    "    end\n",
    "    sum_res += inner_sum\n",
    "end\n",
    "println(sum_res)"
   ]
  },
  {
   "cell_type": "code",
   "execution_count": null,
   "id": "9e905cd2-2b9e-4a85-a626-f665b585711a",
   "metadata": {},
   "outputs": [],
   "source": []
  }
 ],
 "metadata": {
  "kernelspec": {
   "display_name": "Julia 1.10.5",
   "language": "julia",
   "name": "julia-1.10"
  },
  "language_info": {
   "file_extension": ".jl",
   "mimetype": "application/julia",
   "name": "julia",
   "version": "1.10.5"
  }
 },
 "nbformat": 4,
 "nbformat_minor": 5
}
