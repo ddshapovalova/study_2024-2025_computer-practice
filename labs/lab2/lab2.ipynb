{
 "cells": [
  {
   "cell_type": "markdown",
   "id": "316e6dac-73f3-4457-b331-aa7ece01d605",
   "metadata": {},
   "source": [
    "## Лаб №2. Структуры данных"
   ]
  },
  {
   "cell_type": "markdown",
   "id": "bccc0ba7-ad85-4561-bd4f-a5238559a2bf",
   "metadata": {},
   "source": [
    "### Кортежи"
   ]
  },
  {
   "cell_type": "code",
   "execution_count": 2,
   "id": "295a5da5-74da-4431-8d92-878e76c6af19",
   "metadata": {},
   "outputs": [
    {
     "data": {
      "text/plain": [
       "(\"Python\", \"Julia\", \"R\")"
      ]
     },
     "execution_count": 2,
     "metadata": {},
     "output_type": "execute_result"
    }
   ],
   "source": [
    "favoritelang = (\"Python\",\"Julia\",\"R\")"
   ]
  },
  {
   "cell_type": "code",
   "execution_count": 3,
   "id": "e2b4883a-28c1-40ef-b3d1-897c3d02169b",
   "metadata": {},
   "outputs": [
    {
     "data": {
      "text/plain": [
       "(1, 2, 3)"
      ]
     },
     "execution_count": 3,
     "metadata": {},
     "output_type": "execute_result"
    }
   ],
   "source": [
    "x1 = (1, 2, 3)"
   ]
  },
  {
   "cell_type": "code",
   "execution_count": 5,
   "id": "cf8a809b-a6b3-48e5-bac6-199c1b2513cc",
   "metadata": {},
   "outputs": [
    {
     "data": {
      "text/plain": [
       "(1, 2.0, \"tmp\")"
      ]
     },
     "execution_count": 5,
     "metadata": {},
     "output_type": "execute_result"
    }
   ],
   "source": [
    "x2 = (1, 2.0, \"tmp\")"
   ]
  },
  {
   "cell_type": "code",
   "execution_count": 6,
   "id": "25f23ca3-2291-486e-8107-18f83f0f8b01",
   "metadata": {},
   "outputs": [
    {
     "data": {
      "text/plain": [
       "(a = 2, b = 3)"
      ]
     },
     "execution_count": 6,
     "metadata": {},
     "output_type": "execute_result"
    }
   ],
   "source": [
    "x3 = (a=2, b=1+2)"
   ]
  },
  {
   "cell_type": "code",
   "execution_count": 7,
   "id": "e2bb50b9-4edf-4d05-978d-728a0c35d026",
   "metadata": {},
   "outputs": [
    {
     "data": {
      "text/plain": [
       "3"
      ]
     },
     "execution_count": 7,
     "metadata": {},
     "output_type": "execute_result"
    }
   ],
   "source": [
    "length(x2)"
   ]
  },
  {
   "cell_type": "code",
   "execution_count": 8,
   "id": "57550a3f-5a52-4c5c-a89e-017cc2c04f13",
   "metadata": {},
   "outputs": [
    {
     "data": {
      "text/plain": [
       "(1, 2.0, \"tmp\")"
      ]
     },
     "execution_count": 8,
     "metadata": {},
     "output_type": "execute_result"
    }
   ],
   "source": [
    "x2[1], x2[2], x2[3]"
   ]
  },
  {
   "cell_type": "code",
   "execution_count": 9,
   "id": "7cbab327-60fc-4f2f-8c93-2abe092a58d4",
   "metadata": {},
   "outputs": [
    {
     "data": {
      "text/plain": [
       "5"
      ]
     },
     "execution_count": 9,
     "metadata": {},
     "output_type": "execute_result"
    }
   ],
   "source": [
    "с = x1[2] + x1[3]"
   ]
  },
  {
   "cell_type": "code",
   "execution_count": 10,
   "id": "4f2c5a3c-589e-40c4-9423-3dd0860009e0",
   "metadata": {},
   "outputs": [
    {
     "data": {
      "text/plain": [
       "(2, 3, 3)"
      ]
     },
     "execution_count": 10,
     "metadata": {},
     "output_type": "execute_result"
    }
   ],
   "source": [
    "x3.a, x3.b, x3[2]"
   ]
  },
  {
   "cell_type": "code",
   "execution_count": 11,
   "id": "d2948420-b91a-455d-bf54-f264b8edb2f4",
   "metadata": {},
   "outputs": [
    {
     "data": {
      "text/plain": [
       "(true, false)"
      ]
     },
     "execution_count": 11,
     "metadata": {},
     "output_type": "execute_result"
    }
   ],
   "source": [
    "in(\"tmp\", x2), 0 in x2"
   ]
  },
  {
   "cell_type": "markdown",
   "id": "98309cb3-bc81-44b2-8d3d-3830af330df9",
   "metadata": {},
   "source": [
    "### Словари"
   ]
  },
  {
   "cell_type": "code",
   "execution_count": 13,
   "id": "77378d79-6e4f-4fb5-b9b3-a515e34b3e65",
   "metadata": {},
   "outputs": [
    {
     "data": {
      "text/plain": [
       "Dict{String, Any} with 2 entries:\n",
       "  \"Бухгалтерия\" => \"555-2368\"\n",
       "  \"Иванов И.И.\" => (\"867-5309\", \"333-5544\")"
      ]
     },
     "execution_count": 13,
     "metadata": {},
     "output_type": "execute_result"
    }
   ],
   "source": [
    "phonebook = Dict(\"Иванов И.И.\" => (\"867-5309\",\"333-5544\"), \"Бухгалтерия\" => \"555-2368\")"
   ]
  },
  {
   "cell_type": "code",
   "execution_count": 14,
   "id": "70873c22-4825-4946-a44d-f5f6f207e55a",
   "metadata": {},
   "outputs": [
    {
     "data": {
      "text/plain": [
       "KeySet for a Dict{String, Any} with 2 entries. Keys:\n",
       "  \"Бухгалтерия\"\n",
       "  \"Иванов И.И.\""
      ]
     },
     "execution_count": 14,
     "metadata": {},
     "output_type": "execute_result"
    }
   ],
   "source": [
    "keys(phonebook)"
   ]
  },
  {
   "cell_type": "code",
   "execution_count": 15,
   "id": "3181dc66-39ca-4cbd-b509-6d5e18c7d3b3",
   "metadata": {},
   "outputs": [
    {
     "data": {
      "text/plain": [
       "ValueIterator for a Dict{String, Any} with 2 entries. Values:\n",
       "  \"555-2368\"\n",
       "  (\"867-5309\", \"333-5544\")"
      ]
     },
     "execution_count": 15,
     "metadata": {},
     "output_type": "execute_result"
    }
   ],
   "source": [
    "values(phonebook)"
   ]
  },
  {
   "cell_type": "code",
   "execution_count": 16,
   "id": "d0a87ccc-30da-4ba7-a0f8-0da588a5de0e",
   "metadata": {},
   "outputs": [
    {
     "data": {
      "text/plain": [
       "Dict{String, Any} with 2 entries:\n",
       "  \"Бухгалтерия\" => \"555-2368\"\n",
       "  \"Иванов И.И.\" => (\"867-5309\", \"333-5544\")"
      ]
     },
     "execution_count": 16,
     "metadata": {},
     "output_type": "execute_result"
    }
   ],
   "source": [
    "pairs(phonebook)"
   ]
  },
  {
   "cell_type": "code",
   "execution_count": 17,
   "id": "ac28854e-e772-406b-bced-ded83ed23c41",
   "metadata": {},
   "outputs": [
    {
     "data": {
      "text/plain": [
       "true"
      ]
     },
     "execution_count": 17,
     "metadata": {},
     "output_type": "execute_result"
    }
   ],
   "source": [
    "haskey(phonebook, \"Иванов И.И.\")"
   ]
  },
  {
   "cell_type": "code",
   "execution_count": 18,
   "id": "456cacb8-6cf1-4355-acd7-8d7080e03ad0",
   "metadata": {},
   "outputs": [
    {
     "data": {
      "text/plain": [
       "\"555-3344\""
      ]
     },
     "execution_count": 18,
     "metadata": {},
     "output_type": "execute_result"
    }
   ],
   "source": [
    "phonebook[\"Сидоров П.С.\"] = \"555-3344\""
   ]
  },
  {
   "cell_type": "code",
   "execution_count": 19,
   "id": "0aab5f96-7b13-45bc-8986-270d05aa1a54",
   "metadata": {},
   "outputs": [
    {
     "data": {
      "text/plain": [
       "(\"867-5309\", \"333-5544\")"
      ]
     },
     "execution_count": 19,
     "metadata": {},
     "output_type": "execute_result"
    }
   ],
   "source": [
    "pop!(phonebook, \"Иванов И.И.\")"
   ]
  },
  {
   "cell_type": "code",
   "execution_count": 20,
   "id": "d3bc6f8a-22f9-4697-b567-b7d072d3d807",
   "metadata": {},
   "outputs": [
    {
     "data": {
      "text/plain": [
       "(Dict{String, Real}(\"bar\" => 13.0, \"baz\" => 17, \"foo\" => 0.0), Dict{String, Real}(\"bar\" => 42.0, \"baz\" => 17, \"foo\" => 0.0))"
      ]
     },
     "execution_count": 20,
     "metadata": {},
     "output_type": "execute_result"
    }
   ],
   "source": [
    "a = Dict(\"foo\" => 0.0, \"bar\" => 42.0);\n",
    "b = Dict(\"baz\" => 17, \"bar\" => 13.0);\n",
    "merge(a, b), merge(b,a)"
   ]
  },
  {
   "cell_type": "markdown",
   "id": "3bf39c79-0caa-440e-8a71-7c7126da334e",
   "metadata": {},
   "source": [
    "### Множества"
   ]
  },
  {
   "cell_type": "code",
   "execution_count": 21,
   "id": "0ef58740-e7be-4dae-8a6c-0aa06bdae7a2",
   "metadata": {},
   "outputs": [
    {
     "data": {
      "text/plain": [
       "Set{Int64} with 4 elements:\n",
       "  5\n",
       "  4\n",
       "  3\n",
       "  1"
      ]
     },
     "execution_count": 21,
     "metadata": {},
     "output_type": "execute_result"
    }
   ],
   "source": [
    "A = Set([1, 3, 4, 5])"
   ]
  },
  {
   "cell_type": "code",
   "execution_count": 22,
   "id": "9fc72162-7545-494c-b701-f46c4234d33f",
   "metadata": {},
   "outputs": [
    {
     "data": {
      "text/plain": [
       "Set{Char} with 5 elements:\n",
       "  'a'\n",
       "  'd'\n",
       "  'r'\n",
       "  'k'\n",
       "  'b'"
      ]
     },
     "execution_count": 22,
     "metadata": {},
     "output_type": "execute_result"
    }
   ],
   "source": [
    "B = Set(\"abrakadabra\")"
   ]
  },
  {
   "cell_type": "code",
   "execution_count": 23,
   "id": "dea6b2cd-c490-43e7-be95-0cafc75c3e0e",
   "metadata": {},
   "outputs": [
    {
     "data": {
      "text/plain": [
       "false"
      ]
     },
     "execution_count": 23,
     "metadata": {},
     "output_type": "execute_result"
    }
   ],
   "source": [
    "S1 = Set([1,2]);\n",
    "S2 = Set([3,4]);\n",
    "issetequal(S1,S2)"
   ]
  },
  {
   "cell_type": "code",
   "execution_count": 24,
   "id": "a135638a-df65-49e7-8adb-1632b47f9677",
   "metadata": {},
   "outputs": [
    {
     "data": {
      "text/plain": [
       "true"
      ]
     },
     "execution_count": 24,
     "metadata": {},
     "output_type": "execute_result"
    }
   ],
   "source": [
    "S3 = Set([1,2,2,3,1,2,3,2,1]);\n",
    "S4 = Set([2,3,1]);\n",
    "issetequal(S3,S4)"
   ]
  },
  {
   "cell_type": "code",
   "execution_count": 25,
   "id": "00a2ac69-67e6-4bb4-9e6c-54dd03ca8821",
   "metadata": {},
   "outputs": [
    {
     "data": {
      "text/plain": [
       "Set{Int64} with 4 elements:\n",
       "  4\n",
       "  2\n",
       "  3\n",
       "  1"
      ]
     },
     "execution_count": 25,
     "metadata": {},
     "output_type": "execute_result"
    }
   ],
   "source": [
    "C=union(S1,S2)"
   ]
  },
  {
   "cell_type": "code",
   "execution_count": 26,
   "id": "92d9e6a6-0576-4a3a-939a-81d7f24fce1c",
   "metadata": {},
   "outputs": [
    {
     "data": {
      "text/plain": [
       "Set{Int64} with 2 elements:\n",
       "  2\n",
       "  1"
      ]
     },
     "execution_count": 26,
     "metadata": {},
     "output_type": "execute_result"
    }
   ],
   "source": [
    "D = intersect(S1,S3)"
   ]
  },
  {
   "cell_type": "code",
   "execution_count": 27,
   "id": "7ac79f29-a5ac-48f9-aa2d-477db55eb43c",
   "metadata": {},
   "outputs": [
    {
     "data": {
      "text/plain": [
       "Set{Int64} with 1 element:\n",
       "  3"
      ]
     },
     "execution_count": 27,
     "metadata": {},
     "output_type": "execute_result"
    }
   ],
   "source": [
    "E = setdiff(S3,S1)"
   ]
  },
  {
   "cell_type": "code",
   "execution_count": 28,
   "id": "3f01cb43-7d9a-4691-b7dd-1e8d714923b6",
   "metadata": {},
   "outputs": [
    {
     "data": {
      "text/plain": [
       "true"
      ]
     },
     "execution_count": 28,
     "metadata": {},
     "output_type": "execute_result"
    }
   ],
   "source": [
    "issubset(S1,S4)"
   ]
  },
  {
   "cell_type": "code",
   "execution_count": 29,
   "id": "aa464544-9cd8-4de5-b1d8-4da0275bca85",
   "metadata": {},
   "outputs": [
    {
     "data": {
      "text/plain": [
       "Set{Int64} with 4 elements:\n",
       "  2\n",
       "  99\n",
       "  3\n",
       "  1"
      ]
     },
     "execution_count": 29,
     "metadata": {},
     "output_type": "execute_result"
    }
   ],
   "source": [
    "push!(S4, 99)"
   ]
  },
  {
   "cell_type": "code",
   "execution_count": 30,
   "id": "f1c1da6a-f240-47a7-b2b3-fdd5c6f4f87e",
   "metadata": {},
   "outputs": [
    {
     "data": {
      "text/plain": [
       "2"
      ]
     },
     "execution_count": 30,
     "metadata": {},
     "output_type": "execute_result"
    }
   ],
   "source": [
    "pop!(S4)"
   ]
  },
  {
   "cell_type": "code",
   "execution_count": 31,
   "id": "09b887f9-8a19-4f91-af81-40c00a5f5a43",
   "metadata": {},
   "outputs": [
    {
     "data": {
      "text/plain": [
       "Set{Int64} with 3 elements:\n",
       "  99\n",
       "  3\n",
       "  1"
      ]
     },
     "execution_count": 31,
     "metadata": {},
     "output_type": "execute_result"
    }
   ],
   "source": [
    "S4"
   ]
  },
  {
   "cell_type": "markdown",
   "id": "08901a2f-7e04-4ea6-beb9-f000b3aeb782",
   "metadata": {},
   "source": [
    "### Массивы"
   ]
  },
  {
   "cell_type": "code",
   "execution_count": 32,
   "id": "9c3bfae2-f975-4d8c-a715-57799b6480cd",
   "metadata": {},
   "outputs": [
    {
     "data": {
      "text/plain": [
       "Any[]"
      ]
     },
     "execution_count": 32,
     "metadata": {},
     "output_type": "execute_result"
    }
   ],
   "source": [
    "empty_array_1 = []"
   ]
  },
  {
   "cell_type": "code",
   "execution_count": 33,
   "id": "9dfad0fc-75cb-4dc8-95f5-48e51f3cae21",
   "metadata": {},
   "outputs": [
    {
     "data": {
      "text/plain": [
       "Int64[]"
      ]
     },
     "execution_count": 33,
     "metadata": {},
     "output_type": "execute_result"
    }
   ],
   "source": [
    "empty_array_2 = (Int64)[]"
   ]
  },
  {
   "cell_type": "code",
   "execution_count": 34,
   "id": "a4e0cf7a-e84e-4e54-b0f2-baad2200efe5",
   "metadata": {},
   "outputs": [
    {
     "data": {
      "text/plain": [
       "Float64[]"
      ]
     },
     "execution_count": 34,
     "metadata": {},
     "output_type": "execute_result"
    }
   ],
   "source": [
    "empty_array_3 = (Float64)[]"
   ]
  },
  {
   "cell_type": "code",
   "execution_count": 35,
   "id": "ee5dfc80-8373-4e1c-a13e-495044331702",
   "metadata": {},
   "outputs": [
    {
     "data": {
      "text/plain": [
       "3-element Vector{Int64}:\n",
       " 1\n",
       " 2\n",
       " 3"
      ]
     },
     "execution_count": 35,
     "metadata": {},
     "output_type": "execute_result"
    }
   ],
   "source": [
    "a = [1, 2, 3]"
   ]
  },
  {
   "cell_type": "code",
   "execution_count": 36,
   "id": "6fd2c967-19b5-40ba-b924-7838887397a7",
   "metadata": {},
   "outputs": [
    {
     "data": {
      "text/plain": [
       "1×3 Matrix{Int64}:\n",
       " 1  2  3"
      ]
     },
     "execution_count": 36,
     "metadata": {},
     "output_type": "execute_result"
    }
   ],
   "source": [
    "b = [1 2 3]"
   ]
  },
  {
   "cell_type": "code",
   "execution_count": 37,
   "id": "06f7c357-8ee6-4bd3-8fd5-d22a0226049e",
   "metadata": {},
   "outputs": [
    {
     "data": {
      "text/plain": [
       "3×3 Matrix{Int64}:\n",
       " 1  2  3\n",
       " 4  5  6\n",
       " 7  8  9"
      ]
     },
     "execution_count": 37,
     "metadata": {},
     "output_type": "execute_result"
    }
   ],
   "source": [
    "A = [[1, 2, 3] [4, 5, 6] [7, 8, 9]]\n",
    "B = [[1 2 3]; [4 5 6]; [7 8 9]]"
   ]
  },
  {
   "cell_type": "code",
   "execution_count": 38,
   "id": "162b5d7f-4be3-41eb-b097-fd2286654971",
   "metadata": {},
   "outputs": [
    {
     "data": {
      "text/plain": [
       "3×3 Matrix{Int64}:\n",
       " 1  4  7\n",
       " 2  5  8\n",
       " 3  6  9"
      ]
     },
     "execution_count": 38,
     "metadata": {},
     "output_type": "execute_result"
    }
   ],
   "source": [
    "A"
   ]
  },
  {
   "cell_type": "code",
   "execution_count": 39,
   "id": "4ffc2862-8f59-4e14-9860-b1114f501267",
   "metadata": {},
   "outputs": [
    {
     "data": {
      "text/plain": [
       "1×8 Matrix{Float64}:\n",
       " 0.755904  0.343243  0.448709  0.184376  …  0.0159201  0.413771  0.276552"
      ]
     },
     "execution_count": 39,
     "metadata": {},
     "output_type": "execute_result"
    }
   ],
   "source": [
    "c = rand(1,8)"
   ]
  },
  {
   "cell_type": "code",
   "execution_count": 42,
   "id": "50ca038d-4417-420b-89b6-465415cfe0a8",
   "metadata": {},
   "outputs": [
    {
     "data": {
      "text/plain": [
       "2×3 Matrix{Float64}:\n",
       " 0.955118  0.735152  0.00377529\n",
       " 0.626661  0.757855  0.212966"
      ]
     },
     "execution_count": 42,
     "metadata": {},
     "output_type": "execute_result"
    }
   ],
   "source": [
    "C = rand(2,3)"
   ]
  },
  {
   "cell_type": "code",
   "execution_count": 43,
   "id": "329cd8fd-61da-49af-9ae2-eebaa6e531f6",
   "metadata": {},
   "outputs": [
    {
     "data": {
      "text/plain": [
       "4×3×2 Array{Float64, 3}:\n",
       "[:, :, 1] =\n",
       " 0.316232  0.00373946  0.0663314\n",
       " 0.183437  0.925484    0.152789\n",
       " 0.274061  0.25607     0.0235033\n",
       " 0.87386   0.99287     0.941415\n",
       "\n",
       "[:, :, 2] =\n",
       " 0.843512  0.78107   0.487427\n",
       " 0.726634  0.303547  0.425791\n",
       " 0.878806  0.418001  0.545936\n",
       " 0.399024  0.322113  0.159552"
      ]
     },
     "execution_count": 43,
     "metadata": {},
     "output_type": "execute_result"
    }
   ],
   "source": [
    "D = rand(4, 3, 2)"
   ]
  },
  {
   "cell_type": "code",
   "execution_count": 44,
   "id": "801a23e6-d187-44b1-8e74-b0e9ea3e654d",
   "metadata": {},
   "outputs": [
    {
     "data": {
      "text/plain": [
       "10-element Vector{Float64}:\n",
       " 1.0\n",
       " 1.4142135623730951\n",
       " 1.7320508075688772\n",
       " 2.0\n",
       " 2.23606797749979\n",
       " 2.449489742783178\n",
       " 2.6457513110645907\n",
       " 2.8284271247461903\n",
       " 3.0\n",
       " 3.1622776601683795"
      ]
     },
     "execution_count": 44,
     "metadata": {},
     "output_type": "execute_result"
    }
   ],
   "source": [
    "roots = [sqrt(i) for i in 1:10]"
   ]
  },
  {
   "cell_type": "code",
   "execution_count": 45,
   "id": "bb973709-d936-4b74-b1a2-7e2e020e32a1",
   "metadata": {},
   "outputs": [
    {
     "data": {
      "text/plain": [
       "5-element Vector{Int64}:\n",
       "   3\n",
       "  27\n",
       "  75\n",
       " 147\n",
       " 243"
      ]
     },
     "execution_count": 45,
     "metadata": {},
     "output_type": "execute_result"
    }
   ],
   "source": [
    "ar_1 = [3*i^2 for i in 1:2:9]"
   ]
  },
  {
   "cell_type": "code",
   "execution_count": 46,
   "id": "0dab4c82-ac75-471b-be9c-b5a415469c54",
   "metadata": {},
   "outputs": [
    {
     "data": {
      "text/plain": [
       "4-element Vector{Int64}:\n",
       "  1\n",
       "  9\n",
       " 49\n",
       " 81"
      ]
     },
     "execution_count": 46,
     "metadata": {},
     "output_type": "execute_result"
    }
   ],
   "source": [
    "ar_2=[i^2 for i=1:10 if (i^2%5!=0 && i^2%4!=0)]"
   ]
  },
  {
   "cell_type": "code",
   "execution_count": 48,
   "id": "d9640a7b-7006-449a-96a7-979a6acba49c",
   "metadata": {},
   "outputs": [
    {
     "data": {
      "text/plain": [
       "5-element Vector{Float64}:\n",
       " 1.0\n",
       " 1.0\n",
       " 1.0\n",
       " 1.0\n",
       " 1.0"
      ]
     },
     "execution_count": 48,
     "metadata": {},
     "output_type": "execute_result"
    }
   ],
   "source": [
    "ones(5)"
   ]
  },
  {
   "cell_type": "code",
   "execution_count": 49,
   "id": "24c1d4d4-b6e7-4835-ba04-7d123ec97230",
   "metadata": {},
   "outputs": [
    {
     "data": {
      "text/plain": [
       "2×3 Matrix{Float64}:\n",
       " 1.0  1.0  1.0\n",
       " 1.0  1.0  1.0"
      ]
     },
     "execution_count": 49,
     "metadata": {},
     "output_type": "execute_result"
    }
   ],
   "source": [
    "ones(2,3)"
   ]
  },
  {
   "cell_type": "code",
   "execution_count": 50,
   "id": "a1391d94-0412-4e13-8302-0c5108ddf8ba",
   "metadata": {},
   "outputs": [
    {
     "data": {
      "text/plain": [
       "4-element Vector{Float64}:\n",
       " 0.0\n",
       " 0.0\n",
       " 0.0\n",
       " 0.0"
      ]
     },
     "execution_count": 50,
     "metadata": {},
     "output_type": "execute_result"
    }
   ],
   "source": [
    "zeros(4)"
   ]
  },
  {
   "cell_type": "code",
   "execution_count": 51,
   "id": "3e03be81-ed46-4e09-8efc-deac7335ef48",
   "metadata": {},
   "outputs": [
    {
     "data": {
      "text/plain": [
       "3×2 Matrix{Float64}:\n",
       " 3.5  3.5\n",
       " 3.5  3.5\n",
       " 3.5  3.5"
      ]
     },
     "execution_count": 51,
     "metadata": {},
     "output_type": "execute_result"
    }
   ],
   "source": [
    "fill(3.5,(3,2))"
   ]
  },
  {
   "cell_type": "code",
   "execution_count": 52,
   "id": "1b6655ca-2a27-4249-9ca8-61adea800a39",
   "metadata": {},
   "outputs": [
    {
     "data": {
      "text/plain": [
       "6×3 Matrix{Int64}:\n",
       " 1  1  1\n",
       " 2  2  2\n",
       " 1  1  1\n",
       " 2  2  2\n",
       " 1  1  1\n",
       " 2  2  2"
      ]
     },
     "execution_count": 52,
     "metadata": {},
     "output_type": "execute_result"
    }
   ],
   "source": [
    "repeat([1,2],3,3)"
   ]
  },
  {
   "cell_type": "code",
   "execution_count": 53,
   "id": "05d9e58e-e665-4606-b05e-8dc8cc7ab6db",
   "metadata": {},
   "outputs": [
    {
     "data": {
      "text/plain": [
       "3×6 Matrix{Int64}:\n",
       " 1  2  1  2  1  2\n",
       " 1  2  1  2  1  2\n",
       " 1  2  1  2  1  2"
      ]
     },
     "execution_count": 53,
     "metadata": {},
     "output_type": "execute_result"
    }
   ],
   "source": [
    "repeat([1 2],3,3)"
   ]
  },
  {
   "cell_type": "code",
   "execution_count": 54,
   "id": "e18a5934-d66c-4f02-99ec-881daf7268e6",
   "metadata": {},
   "outputs": [
    {
     "data": {
      "text/plain": [
       "12-element Vector{Int64}:\n",
       "  1\n",
       "  2\n",
       "  3\n",
       "  4\n",
       "  5\n",
       "  6\n",
       "  7\n",
       "  8\n",
       "  9\n",
       " 10\n",
       " 11\n",
       " 12"
      ]
     },
     "execution_count": 54,
     "metadata": {},
     "output_type": "execute_result"
    }
   ],
   "source": [
    "a = collect(1:12)"
   ]
  },
  {
   "cell_type": "code",
   "execution_count": 56,
   "id": "bbdbe5c3-7ae6-4d33-bb41-94cf6997ad89",
   "metadata": {},
   "outputs": [
    {
     "data": {
      "text/plain": [
       "2×6 Matrix{Int64}:\n",
       " 1  3  5  7   9  11\n",
       " 2  4  6  8  10  12"
      ]
     },
     "execution_count": 56,
     "metadata": {},
     "output_type": "execute_result"
    }
   ],
   "source": [
    "b = reshape(a,(2,6))"
   ]
  },
  {
   "cell_type": "code",
   "execution_count": 57,
   "id": "a2bb4b6d-e8db-4f2b-a482-957b25b0412a",
   "metadata": {},
   "outputs": [
    {
     "data": {
      "text/plain": [
       "6×2 adjoint(::Matrix{Int64}) with eltype Int64:\n",
       "  1   2\n",
       "  3   4\n",
       "  5   6\n",
       "  7   8\n",
       "  9  10\n",
       " 11  12"
      ]
     },
     "execution_count": 57,
     "metadata": {},
     "output_type": "execute_result"
    }
   ],
   "source": [
    "b'"
   ]
  },
  {
   "cell_type": "code",
   "execution_count": 58,
   "id": "6f962aaf-3f7a-4f2a-89e4-cc0dd877b0e2",
   "metadata": {},
   "outputs": [
    {
     "data": {
      "text/plain": [
       "6×2 transpose(::Matrix{Int64}) with eltype Int64:\n",
       "  1   2\n",
       "  3   4\n",
       "  5   6\n",
       "  7   8\n",
       "  9  10\n",
       " 11  12"
      ]
     },
     "execution_count": 58,
     "metadata": {},
     "output_type": "execute_result"
    }
   ],
   "source": [
    "с = transpose(b)"
   ]
  },
  {
   "cell_type": "code",
   "execution_count": 59,
   "id": "b15911e8-e2db-4766-b72a-9dfbf18c40bf",
   "metadata": {},
   "outputs": [
    {
     "data": {
      "text/plain": [
       "10×5 Matrix{Int64}:\n",
       " 15  10  15  15  13\n",
       " 16  12  11  12  13\n",
       " 10  11  15  12  16\n",
       " 17  14  13  13  17\n",
       " 10  12  13  11  19\n",
       " 13  16  15  14  10\n",
       " 20  18  10  15  19\n",
       " 19  14  15  16  17\n",
       " 12  15  11  20  18\n",
       " 15  20  13  13  20"
      ]
     },
     "execution_count": 59,
     "metadata": {},
     "output_type": "execute_result"
    }
   ],
   "source": [
    "ar = rand(10:20, 10, 5)"
   ]
  },
  {
   "cell_type": "code",
   "execution_count": 60,
   "id": "8bc42a58-0507-473c-ba4c-1b4b611d9786",
   "metadata": {},
   "outputs": [
    {
     "data": {
      "text/plain": [
       "10-element Vector{Int64}:\n",
       " 10\n",
       " 12\n",
       " 11\n",
       " 14\n",
       " 12\n",
       " 16\n",
       " 18\n",
       " 14\n",
       " 15\n",
       " 20"
      ]
     },
     "execution_count": 60,
     "metadata": {},
     "output_type": "execute_result"
    }
   ],
   "source": [
    "ar[:, 2]"
   ]
  },
  {
   "cell_type": "code",
   "execution_count": 61,
   "id": "d0ba722c-af83-414f-9e19-97392bd02036",
   "metadata": {},
   "outputs": [
    {
     "data": {
      "text/plain": [
       "10×2 Matrix{Int64}:\n",
       " 10  13\n",
       " 12  13\n",
       " 11  16\n",
       " 14  17\n",
       " 12  19\n",
       " 16  10\n",
       " 18  19\n",
       " 14  17\n",
       " 15  18\n",
       " 20  20"
      ]
     },
     "execution_count": 61,
     "metadata": {},
     "output_type": "execute_result"
    }
   ],
   "source": [
    "ar[:, [2, 5]]"
   ]
  },
  {
   "cell_type": "code",
   "execution_count": 62,
   "id": "3e1587a7-1399-4492-9916-44a73234082c",
   "metadata": {},
   "outputs": [
    {
     "data": {
      "text/plain": [
       "10×3 Matrix{Int64}:\n",
       " 10  15  15\n",
       " 12  11  12\n",
       " 11  15  12\n",
       " 14  13  13\n",
       " 12  13  11\n",
       " 16  15  14\n",
       " 18  10  15\n",
       " 14  15  16\n",
       " 15  11  20\n",
       " 20  13  13"
      ]
     },
     "execution_count": 62,
     "metadata": {},
     "output_type": "execute_result"
    }
   ],
   "source": [
    "ar[:, 2:4]"
   ]
  },
  {
   "cell_type": "code",
   "execution_count": 63,
   "id": "95366da5-30c7-405d-bb2d-c76ea14ba752",
   "metadata": {},
   "outputs": [
    {
     "data": {
      "text/plain": [
       "3×2 Matrix{Int64}:\n",
       " 16  13\n",
       " 17  17\n",
       " 13  10"
      ]
     },
     "execution_count": 63,
     "metadata": {},
     "output_type": "execute_result"
    }
   ],
   "source": [
    "ar[[2, 4, 6], [1, 5]]"
   ]
  },
  {
   "cell_type": "code",
   "execution_count": 64,
   "id": "80f8c109-3ec6-485f-b5d6-b4754856240d",
   "metadata": {},
   "outputs": [
    {
     "data": {
      "text/plain": [
       "3-element Vector{Int64}:\n",
       " 15\n",
       " 15\n",
       " 13"
      ]
     },
     "execution_count": 64,
     "metadata": {},
     "output_type": "execute_result"
    }
   ],
   "source": [
    "ar[1, 3:end]"
   ]
  },
  {
   "cell_type": "code",
   "execution_count": 65,
   "id": "ce15560b-8bce-473d-8e93-a1c9e168f479",
   "metadata": {},
   "outputs": [
    {
     "data": {
      "text/plain": [
       "10×5 Matrix{Int64}:\n",
       " 10  10  10  11  10\n",
       " 10  11  11  12  13\n",
       " 12  12  11  12  13\n",
       " 13  12  13  13  16\n",
       " 15  14  13  13  17\n",
       " 15  14  13  14  17\n",
       " 16  15  15  15  18\n",
       " 17  16  15  15  19\n",
       " 19  18  15  16  19\n",
       " 20  20  15  20  20"
      ]
     },
     "execution_count": 65,
     "metadata": {},
     "output_type": "execute_result"
    }
   ],
   "source": [
    "sort(ar,dims=1)"
   ]
  },
  {
   "cell_type": "code",
   "execution_count": 66,
   "id": "a18df1e9-68f7-4752-97f0-55630650f30b",
   "metadata": {},
   "outputs": [
    {
     "data": {
      "text/plain": [
       "10×5 Matrix{Int64}:\n",
       " 10  13  15  15  15\n",
       " 11  12  12  13  16\n",
       " 10  11  12  15  16\n",
       " 13  13  14  17  17\n",
       " 10  11  12  13  19\n",
       " 10  13  14  15  16\n",
       " 10  15  18  19  20\n",
       " 14  15  16  17  19\n",
       " 11  12  15  18  20\n",
       " 13  13  15  20  20"
      ]
     },
     "execution_count": 66,
     "metadata": {},
     "output_type": "execute_result"
    }
   ],
   "source": [
    "sort(ar,dims=2)"
   ]
  },
  {
   "cell_type": "code",
   "execution_count": 67,
   "id": "3c45aae2-46ce-48ff-8d7a-8382a319dd35",
   "metadata": {},
   "outputs": [
    {
     "data": {
      "text/plain": [
       "10×5 BitMatrix:\n",
       " 1  0  1  1  0\n",
       " 1  0  0  0  0\n",
       " 0  0  1  0  1\n",
       " 1  0  0  0  1\n",
       " 0  0  0  0  1\n",
       " 0  1  1  0  0\n",
       " 1  1  0  1  1\n",
       " 1  0  1  1  1\n",
       " 0  1  0  1  1\n",
       " 1  1  0  0  1"
      ]
     },
     "execution_count": 67,
     "metadata": {},
     "output_type": "execute_result"
    }
   ],
   "source": [
    "ar .> 14"
   ]
  },
  {
   "cell_type": "code",
   "execution_count": 68,
   "id": "71bfed29-9477-49b5-9596-c0599d09c413",
   "metadata": {},
   "outputs": [
    {
     "data": {
      "text/plain": [
       "25-element Vector{CartesianIndex{2}}:\n",
       " CartesianIndex(1, 1)\n",
       " CartesianIndex(2, 1)\n",
       " CartesianIndex(4, 1)\n",
       " CartesianIndex(7, 1)\n",
       " CartesianIndex(8, 1)\n",
       " CartesianIndex(10, 1)\n",
       " CartesianIndex(6, 2)\n",
       " CartesianIndex(7, 2)\n",
       " CartesianIndex(9, 2)\n",
       " CartesianIndex(10, 2)\n",
       " CartesianIndex(1, 3)\n",
       " CartesianIndex(3, 3)\n",
       " CartesianIndex(6, 3)\n",
       " CartesianIndex(8, 3)\n",
       " CartesianIndex(1, 4)\n",
       " CartesianIndex(7, 4)\n",
       " CartesianIndex(8, 4)\n",
       " CartesianIndex(9, 4)\n",
       " CartesianIndex(3, 5)\n",
       " CartesianIndex(4, 5)\n",
       " CartesianIndex(5, 5)\n",
       " CartesianIndex(7, 5)\n",
       " CartesianIndex(8, 5)\n",
       " CartesianIndex(9, 5)\n",
       " CartesianIndex(10, 5)"
      ]
     },
     "execution_count": 68,
     "metadata": {},
     "output_type": "execute_result"
    }
   ],
   "source": [
    "findall(ar .> 14)"
   ]
  },
  {
   "cell_type": "markdown",
   "id": "32c8a0ca-fc6c-40f0-8ecb-aca14605f02b",
   "metadata": {},
   "source": [
    "### Самостоятельная работа"
   ]
  },
  {
   "cell_type": "markdown",
   "id": "67f9223b-b27c-4207-aba3-4b1aef6a9511",
   "metadata": {},
   "source": [
    "#### 1. Даны множества: 𝐴 = {0, 3, 4, 9}, 𝐵 = {1, 3, 4, 7}, 𝐶 = {0, 1, 2, 4, 7, 8, 9}. Найти 𝑃 = 𝐴 ∩ 𝐵 ∪ 𝐴 ∩ 𝐵 ∪ 𝐴 ∩ 𝐶 ∪ 𝐵 ∩ 𝐶."
   ]
  },
  {
   "cell_type": "code",
   "execution_count": 69,
   "id": "c67e6860-fcdb-4b62-9605-f569135dc120",
   "metadata": {},
   "outputs": [
    {
     "data": {
      "text/plain": [
       "Set{Int64} with 4 elements:\n",
       "  0\n",
       "  4\n",
       "  9\n",
       "  3"
      ]
     },
     "execution_count": 69,
     "metadata": {},
     "output_type": "execute_result"
    }
   ],
   "source": [
    "A = Set([0,3,4,9])"
   ]
  },
  {
   "cell_type": "code",
   "execution_count": 70,
   "id": "fe3dc747-f203-484b-ab69-a2f797ed1662",
   "metadata": {},
   "outputs": [
    {
     "data": {
      "text/plain": [
       "Set{Int64} with 4 elements:\n",
       "  4\n",
       "  7\n",
       "  3\n",
       "  1"
      ]
     },
     "execution_count": 70,
     "metadata": {},
     "output_type": "execute_result"
    }
   ],
   "source": [
    "B = Set([1,3,4,7])"
   ]
  },
  {
   "cell_type": "code",
   "execution_count": 71,
   "id": "acbcd684-db6a-4366-befa-1daa301d5936",
   "metadata": {},
   "outputs": [
    {
     "data": {
      "text/plain": [
       "Set{Int64} with 7 elements:\n",
       "  0\n",
       "  4\n",
       "  7\n",
       "  2\n",
       "  9\n",
       "  8\n",
       "  1"
      ]
     },
     "execution_count": 71,
     "metadata": {},
     "output_type": "execute_result"
    }
   ],
   "source": [
    "C = Set([0,1,2,4,7,8,9])"
   ]
  },
  {
   "cell_type": "code",
   "execution_count": 74,
   "id": "62a93c96-5053-42db-9bd9-16aeb15fb3bf",
   "metadata": {},
   "outputs": [
    {
     "data": {
      "text/plain": [
       "Set{Int64} with 2 elements:\n",
       "  4\n",
       "  3"
      ]
     },
     "execution_count": 74,
     "metadata": {},
     "output_type": "execute_result"
    }
   ],
   "source": [
    "A_intersect_B = intersect(A,B)"
   ]
  },
  {
   "cell_type": "code",
   "execution_count": 75,
   "id": "578c76a9-7b74-4a6b-904c-0b1adbf92861",
   "metadata": {},
   "outputs": [
    {
     "data": {
      "text/plain": [
       "Set{Int64} with 3 elements:\n",
       "  0\n",
       "  4\n",
       "  9"
      ]
     },
     "execution_count": 75,
     "metadata": {},
     "output_type": "execute_result"
    }
   ],
   "source": [
    "A_intersect_C = intersect(A,C)"
   ]
  },
  {
   "cell_type": "code",
   "execution_count": 76,
   "id": "72ddee46-74a9-4a54-b415-67a2696dd894",
   "metadata": {},
   "outputs": [
    {
     "data": {
      "text/plain": [
       "Set{Int64} with 3 elements:\n",
       "  4\n",
       "  7\n",
       "  1"
      ]
     },
     "execution_count": 76,
     "metadata": {},
     "output_type": "execute_result"
    }
   ],
   "source": [
    "B_intersect_C = intersect(B,C)"
   ]
  },
  {
   "cell_type": "code",
   "execution_count": 77,
   "id": "216acbe9-9d95-4b3f-9484-b63405bd73e9",
   "metadata": {},
   "outputs": [
    {
     "data": {
      "text/plain": [
       "Set{Int64} with 6 elements:\n",
       "  0\n",
       "  4\n",
       "  7\n",
       "  9\n",
       "  3\n",
       "  1"
      ]
     },
     "execution_count": 77,
     "metadata": {},
     "output_type": "execute_result"
    }
   ],
   "source": [
    "P=union(A_intersect_B, A_intersect_C, B_intersect_C)"
   ]
  },
  {
   "cell_type": "markdown",
   "id": "8f007aed-013d-42bd-a7eb-5c22b8135162",
   "metadata": {},
   "source": [
    "#### 2. Приведите свои примеры с выполнением операций над множествами элементов разных типов."
   ]
  },
  {
   "cell_type": "code",
   "execution_count": 78,
   "id": "4b393809-12c8-4027-b793-bffe1afc02ea",
   "metadata": {},
   "outputs": [
    {
     "data": {
      "text/plain": [
       "3-element Vector{Any}:\n",
       "   \"apple\"\n",
       " 40\n",
       "  3.14"
      ]
     },
     "execution_count": 78,
     "metadata": {},
     "output_type": "execute_result"
    }
   ],
   "source": [
    "x = [\"apple\", 40, 3.14]"
   ]
  },
  {
   "cell_type": "code",
   "execution_count": 79,
   "id": "d76c3d7b-916f-475b-a139-11aaee3ef355",
   "metadata": {},
   "outputs": [
    {
     "data": {
      "text/plain": [
       "3-element Vector{Any}:\n",
       " 40\n",
       "   \"banana\"\n",
       "  2.17"
      ]
     },
     "execution_count": 79,
     "metadata": {},
     "output_type": "execute_result"
    }
   ],
   "source": [
    "y = [40, \"banana\", 2.17]"
   ]
  },
  {
   "cell_type": "code",
   "execution_count": 80,
   "id": "a5fc39e0-ad1b-4b93-a941-3e297001348d",
   "metadata": {},
   "outputs": [
    {
     "data": {
      "text/plain": [
       "3-element Vector{Any}:\n",
       " 3.14\n",
       "  \"apple\"\n",
       "  \"banana\""
      ]
     },
     "execution_count": 80,
     "metadata": {},
     "output_type": "execute_result"
    }
   ],
   "source": [
    "z = [3.14, \"apple\", \"banana\"]"
   ]
  },
  {
   "cell_type": "code",
   "execution_count": 81,
   "id": "70976f67-ccd5-45d5-9a29-fa8fcca203ef",
   "metadata": {},
   "outputs": [],
   "source": [
    "# разность множеств"
   ]
  },
  {
   "cell_type": "code",
   "execution_count": 82,
   "id": "ffcc00d5-c2e4-4236-a49a-c81692c6629d",
   "metadata": {},
   "outputs": [
    {
     "data": {
      "text/plain": [
       "2-element Vector{Any}:\n",
       "  \"apple\"\n",
       " 3.14"
      ]
     },
     "execution_count": 82,
     "metadata": {},
     "output_type": "execute_result"
    }
   ],
   "source": [
    "x_minus_y = setdiff(x,y)"
   ]
  },
  {
   "cell_type": "code",
   "execution_count": 83,
   "id": "35ae0ae9-8433-4aac-876d-168ea35fdfe5",
   "metadata": {},
   "outputs": [
    {
     "data": {
      "text/plain": [
       "1-element Vector{Any}:\n",
       " 40"
      ]
     },
     "execution_count": 83,
     "metadata": {},
     "output_type": "execute_result"
    }
   ],
   "source": [
    "x_minus_z = setdiff(x,z)"
   ]
  },
  {
   "cell_type": "code",
   "execution_count": 84,
   "id": "20e4f6ab-a465-42de-9aaf-ed9e784581f8",
   "metadata": {},
   "outputs": [
    {
     "data": {
      "text/plain": [
       "2-element Vector{Any}:\n",
       " 3.14\n",
       "  \"apple\""
      ]
     },
     "execution_count": 84,
     "metadata": {},
     "output_type": "execute_result"
    }
   ],
   "source": [
    "z_minus_y = setdiff(z,y)"
   ]
  },
  {
   "cell_type": "code",
   "execution_count": 87,
   "id": "c10cda40-8b01-48aa-a674-053018bb8157",
   "metadata": {},
   "outputs": [],
   "source": [
    "# симметрическая разность (элементы, присутствующие только в одном из множеств)"
   ]
  },
  {
   "cell_type": "code",
   "execution_count": 86,
   "id": "f0501753-4998-453a-b9dd-c09e999f7bd1",
   "metadata": {},
   "outputs": [
    {
     "data": {
      "text/plain": [
       "4-element Vector{Any}:\n",
       "  \"apple\"\n",
       " 3.14\n",
       "  \"banana\"\n",
       " 2.17"
      ]
     },
     "execution_count": 86,
     "metadata": {},
     "output_type": "execute_result"
    }
   ],
   "source": [
    "x_symm_y = symdiff(x,y)"
   ]
  },
  {
   "cell_type": "markdown",
   "id": "8dfd7b50-6a50-46c7-bce9-721041f6a42a",
   "metadata": {},
   "source": [
    "#### 3. Создайте разными способами:"
   ]
  },
  {
   "cell_type": "markdown",
   "id": "931c4484-405c-4491-8257-c9152e5054e5",
   "metadata": {},
   "source": [
    "#### 3.1) массив (1, 2, 3, … 𝑁 − 1, 𝑁 ), 𝑁 выберите больше 20;"
   ]
  },
  {
   "cell_type": "code",
   "execution_count": 88,
   "id": "aae37ad3-1726-49b7-a1bc-4d43bc24cb74",
   "metadata": {},
   "outputs": [
    {
     "data": {
      "text/plain": [
       "25"
      ]
     },
     "execution_count": 88,
     "metadata": {},
     "output_type": "execute_result"
    }
   ],
   "source": [
    "N = 25"
   ]
  },
  {
   "cell_type": "code",
   "execution_count": 91,
   "id": "1275aa47-c77b-42be-bac9-81d3e827cefc",
   "metadata": {},
   "outputs": [
    {
     "data": {
      "text/plain": [
       "25-element Vector{Int64}:\n",
       "  1\n",
       "  2\n",
       "  3\n",
       "  4\n",
       "  5\n",
       "  6\n",
       "  7\n",
       "  8\n",
       "  9\n",
       " 10\n",
       " 11\n",
       " 12\n",
       " 13\n",
       " 14\n",
       " 15\n",
       " 16\n",
       " 17\n",
       " 18\n",
       " 19\n",
       " 20\n",
       " 21\n",
       " 22\n",
       " 23\n",
       " 24\n",
       " 25"
      ]
     },
     "execution_count": 91,
     "metadata": {},
     "output_type": "execute_result"
    }
   ],
   "source": [
    "arr1 = collect(1:N)"
   ]
  },
  {
   "cell_type": "code",
   "execution_count": 92,
   "id": "ae65f079-d5f3-48a3-9b8d-27980c621b7a",
   "metadata": {},
   "outputs": [
    {
     "data": {
      "text/plain": [
       "25-element Vector{Int64}:\n",
       "  1\n",
       "  2\n",
       "  3\n",
       "  4\n",
       "  5\n",
       "  6\n",
       "  7\n",
       "  8\n",
       "  9\n",
       " 10\n",
       " 11\n",
       " 12\n",
       " 13\n",
       " 14\n",
       " 15\n",
       " 16\n",
       " 17\n",
       " 18\n",
       " 19\n",
       " 20\n",
       " 21\n",
       " 22\n",
       " 23\n",
       " 24\n",
       " 25"
      ]
     },
     "execution_count": 92,
     "metadata": {},
     "output_type": "execute_result"
    }
   ],
   "source": [
    "arr2 = [i for i in 1:N]"
   ]
  },
  {
   "cell_type": "markdown",
   "id": "748541c4-c966-4e2a-96c6-11d20ca5dbd8",
   "metadata": {},
   "source": [
    "#### 3.2) массив (𝑁, 𝑁 − 1 … , 2, 1), 𝑁 выберите больше 20;"
   ]
  },
  {
   "cell_type": "code",
   "execution_count": 94,
   "id": "314edaeb-1ea7-463d-8fdf-04183647e712",
   "metadata": {},
   "outputs": [
    {
     "data": {
      "text/plain": [
       "25-element Vector{Int64}:\n",
       " 25\n",
       " 24\n",
       " 23\n",
       " 22\n",
       " 21\n",
       " 20\n",
       " 19\n",
       " 18\n",
       " 17\n",
       " 16\n",
       " 15\n",
       " 14\n",
       " 13\n",
       " 12\n",
       " 11\n",
       " 10\n",
       "  9\n",
       "  8\n",
       "  7\n",
       "  6\n",
       "  5\n",
       "  4\n",
       "  3\n",
       "  2\n",
       "  1"
      ]
     },
     "execution_count": 94,
     "metadata": {},
     "output_type": "execute_result"
    }
   ],
   "source": [
    "arr3 = collect(N:-1:1)"
   ]
  },
  {
   "cell_type": "code",
   "execution_count": 95,
   "id": "f98e82e3-9bfe-4def-8d90-fa69f2be41bc",
   "metadata": {},
   "outputs": [
    {
     "data": {
      "text/plain": [
       "25-element Vector{Int64}:\n",
       " 25\n",
       " 24\n",
       " 23\n",
       " 22\n",
       " 21\n",
       " 20\n",
       " 19\n",
       " 18\n",
       " 17\n",
       " 16\n",
       " 15\n",
       " 14\n",
       " 13\n",
       " 12\n",
       " 11\n",
       " 10\n",
       "  9\n",
       "  8\n",
       "  7\n",
       "  6\n",
       "  5\n",
       "  4\n",
       "  3\n",
       "  2\n",
       "  1"
      ]
     },
     "execution_count": 95,
     "metadata": {},
     "output_type": "execute_result"
    }
   ],
   "source": [
    "arr4 = [i for i in N:-1:1]"
   ]
  },
  {
   "cell_type": "markdown",
   "id": "2cf64807-3ae4-4cd5-b2fa-ef206c4b4f26",
   "metadata": {},
   "source": [
    "#### 3.3) массив (1, 2, 3, … , 𝑁 − 1, 𝑁, 𝑁 − 1, … , 2, 1), 𝑁 выберите больше 20;\n"
   ]
  },
  {
   "cell_type": "code",
   "execution_count": 100,
   "id": "3056cd3b-c7d1-4deb-9c0a-6e925df3153a",
   "metadata": {},
   "outputs": [
    {
     "data": {
      "text/plain": [
       "50-element Vector{Int64}:\n",
       "  1\n",
       "  2\n",
       "  3\n",
       "  4\n",
       "  5\n",
       "  6\n",
       "  7\n",
       "  8\n",
       "  9\n",
       " 10\n",
       " 11\n",
       " 12\n",
       " 13\n",
       "  ⋮\n",
       " 12\n",
       " 11\n",
       " 10\n",
       "  9\n",
       "  8\n",
       "  7\n",
       "  6\n",
       "  5\n",
       "  4\n",
       "  3\n",
       "  2\n",
       "  1"
      ]
     },
     "execution_count": 100,
     "metadata": {},
     "output_type": "execute_result"
    }
   ],
   "source": [
    "arr5 = [1:N; N:-1:1]"
   ]
  },
  {
   "cell_type": "markdown",
   "id": "2e47a0f7-9701-43a7-85ce-c71057a5bc5e",
   "metadata": {},
   "source": [
    "#### 3.4) массив с именем tmp вида (4, 6, 3);"
   ]
  },
  {
   "cell_type": "code",
   "execution_count": 101,
   "id": "d68b48f2-edf4-4c4e-bbe9-d72cb2accf58",
   "metadata": {},
   "outputs": [
    {
     "data": {
      "text/plain": [
       "3-element Vector{Int64}:\n",
       " 4\n",
       " 6\n",
       " 3"
      ]
     },
     "execution_count": 101,
     "metadata": {},
     "output_type": "execute_result"
    }
   ],
   "source": [
    "tmp = [4,6,3]"
   ]
  },
  {
   "cell_type": "code",
   "execution_count": 103,
   "id": "544b6bd6-9cb6-4515-a9b8-1b08dfaaa9f2",
   "metadata": {},
   "outputs": [
    {
     "data": {
      "text/plain": [
       "3-element Vector{Int64}:\n",
       " 4\n",
       " 6\n",
       " 3"
      ]
     },
     "execution_count": 103,
     "metadata": {},
     "output_type": "execute_result"
    }
   ],
   "source": [
    "tmp = collect([4,6,3])"
   ]
  },
  {
   "cell_type": "markdown",
   "id": "d87e1b99-4ec2-4326-9156-a96d7a094b91",
   "metadata": {},
   "source": [
    "#### 3.5) массив, в котором первый элемент массива tmp повторяется 10 раз;"
   ]
  },
  {
   "cell_type": "code",
   "execution_count": 105,
   "id": "944dc219-e6e9-473e-bd91-7e233db1c8a1",
   "metadata": {},
   "outputs": [
    {
     "data": {
      "text/plain": [
       "10-element Vector{Int64}:\n",
       " 4\n",
       " 4\n",
       " 4\n",
       " 4\n",
       " 4\n",
       " 4\n",
       " 4\n",
       " 4\n",
       " 4\n",
       " 4"
      ]
     },
     "execution_count": 105,
     "metadata": {},
     "output_type": "execute_result"
    }
   ],
   "source": [
    "rep_tmp1 = fill(tmp[1],10)"
   ]
  },
  {
   "cell_type": "code",
   "execution_count": 107,
   "id": "6a83b053-2034-49c0-9e3d-d327825bee3d",
   "metadata": {},
   "outputs": [
    {
     "data": {
      "text/plain": [
       "10-element Vector{Int64}:\n",
       " 4\n",
       " 4\n",
       " 4\n",
       " 4\n",
       " 4\n",
       " 4\n",
       " 4\n",
       " 4\n",
       " 4\n",
       " 4"
      ]
     },
     "execution_count": 107,
     "metadata": {},
     "output_type": "execute_result"
    }
   ],
   "source": [
    "rep_tmp2 = repeat([tmp[1]],10)"
   ]
  },
  {
   "cell_type": "markdown",
   "id": "bca56b66-16c9-4696-8cc0-52460f3d388b",
   "metadata": {},
   "source": [
    "#### 3.6) массив, в котором все элементы массива tmp повторяются 10 раз;"
   ]
  },
  {
   "cell_type": "code",
   "execution_count": 108,
   "id": "262055de-d08a-4e07-a8ac-b0efdb2de9a3",
   "metadata": {},
   "outputs": [
    {
     "data": {
      "text/plain": [
       "30-element Vector{Int64}:\n",
       " 4\n",
       " 6\n",
       " 3\n",
       " 4\n",
       " 6\n",
       " 3\n",
       " 4\n",
       " 6\n",
       " 3\n",
       " 4\n",
       " 6\n",
       " 3\n",
       " 4\n",
       " ⋮\n",
       " 4\n",
       " 6\n",
       " 3\n",
       " 4\n",
       " 6\n",
       " 3\n",
       " 4\n",
       " 6\n",
       " 3\n",
       " 4\n",
       " 6\n",
       " 3"
      ]
     },
     "execution_count": 108,
     "metadata": {},
     "output_type": "execute_result"
    }
   ],
   "source": [
    "rep_tmp3 = repeat(tmp, 10)"
   ]
  },
  {
   "cell_type": "markdown",
   "id": "8bca8c51-3d48-4a22-9bd2-0e0a3193dee5",
   "metadata": {},
   "source": [
    "#### 3.7) массив, в котором первый элемент массива tmp встречается 11 раз, второй элемент — 10 раз, третий элемент — 10 раз;"
   ]
  },
  {
   "cell_type": "code",
   "execution_count": 109,
   "id": "afb05a8b-8b7a-4ab7-930d-e33e2c3b3499",
   "metadata": {},
   "outputs": [
    {
     "data": {
      "text/plain": [
       "31-element Vector{Int64}:\n",
       " 4\n",
       " 4\n",
       " 4\n",
       " 4\n",
       " 4\n",
       " 4\n",
       " 4\n",
       " 4\n",
       " 4\n",
       " 4\n",
       " 4\n",
       " 6\n",
       " 6\n",
       " ⋮\n",
       " 6\n",
       " 6\n",
       " 3\n",
       " 3\n",
       " 3\n",
       " 3\n",
       " 3\n",
       " 3\n",
       " 3\n",
       " 3\n",
       " 3\n",
       " 3"
      ]
     },
     "execution_count": 109,
     "metadata": {},
     "output_type": "execute_result"
    }
   ],
   "source": [
    "rep_tmp4 = vcat(fill(tmp[1], 11), fill(tmp[2], 10), fill(tmp[3], 10))"
   ]
  },
  {
   "cell_type": "code",
   "execution_count": 113,
   "id": "0c989486-e5ac-456f-88fc-69205cbeec99",
   "metadata": {},
   "outputs": [
    {
     "data": {
      "text/plain": [
       "31-element Vector{Int64}:\n",
       " 4\n",
       " 4\n",
       " 4\n",
       " 4\n",
       " 4\n",
       " 4\n",
       " 4\n",
       " 4\n",
       " 4\n",
       " 4\n",
       " 4\n",
       " 6\n",
       " 6\n",
       " ⋮\n",
       " 6\n",
       " 6\n",
       " 3\n",
       " 3\n",
       " 3\n",
       " 3\n",
       " 3\n",
       " 3\n",
       " 3\n",
       " 3\n",
       " 3\n",
       " 3"
      ]
     },
     "execution_count": 113,
     "metadata": {},
     "output_type": "execute_result"
    }
   ],
   "source": [
    "rep_tmp5 = vcat(repeat([tmp[1]], 11), repeat([tmp[2]], 10), repeat([tmp[3]], 10))"
   ]
  },
  {
   "cell_type": "markdown",
   "id": "0ff80906-1cee-4c6f-9649-c8c73e68382a",
   "metadata": {},
   "source": [
    "#### 3.8) массив, в котором первый элемент массива tmp встречается 10 раз подряд, второй элемент — 20 раз подряд, третий элемент — 30 раз подряд;"
   ]
  },
  {
   "cell_type": "code",
   "execution_count": 114,
   "id": "f52394dc-c35d-477f-ad3c-27fc9b1443b6",
   "metadata": {},
   "outputs": [
    {
     "data": {
      "text/plain": [
       "60-element Vector{Int64}:\n",
       " 4\n",
       " 4\n",
       " 4\n",
       " 4\n",
       " 4\n",
       " 4\n",
       " 4\n",
       " 4\n",
       " 4\n",
       " 4\n",
       " 6\n",
       " 6\n",
       " 6\n",
       " ⋮\n",
       " 3\n",
       " 3\n",
       " 3\n",
       " 3\n",
       " 3\n",
       " 3\n",
       " 3\n",
       " 3\n",
       " 3\n",
       " 3\n",
       " 3\n",
       " 3"
      ]
     },
     "execution_count": 114,
     "metadata": {},
     "output_type": "execute_result"
    }
   ],
   "source": [
    "rep_tmp6 = vcat(fill(tmp[1], 10), fill(tmp[2], 20), fill(tmp[3], 30))"
   ]
  },
  {
   "cell_type": "code",
   "execution_count": 117,
   "id": "e7ef8704-1918-4913-b647-6a6834a94879",
   "metadata": {},
   "outputs": [
    {
     "data": {
      "text/plain": [
       "60-element Vector{Int64}:\n",
       " 4\n",
       " 4\n",
       " 4\n",
       " 4\n",
       " 4\n",
       " 4\n",
       " 4\n",
       " 4\n",
       " 4\n",
       " 4\n",
       " 6\n",
       " 6\n",
       " 6\n",
       " ⋮\n",
       " 3\n",
       " 3\n",
       " 3\n",
       " 3\n",
       " 3\n",
       " 3\n",
       " 3\n",
       " 3\n",
       " 3\n",
       " 3\n",
       " 3\n",
       " 3"
      ]
     },
     "execution_count": 117,
     "metadata": {},
     "output_type": "execute_result"
    }
   ],
   "source": [
    "rep_tmp7 = vcat(repeat([tmp[1]], 10), repeat([tmp[2]], 20), repeat([tmp[3]], 30))"
   ]
  },
  {
   "cell_type": "markdown",
   "id": "da9ad6f3-ca87-4ec9-b740-d6d0df8072fc",
   "metadata": {},
   "source": [
    "#### 3.9) массив из элементов вида 2^𝑡𝑚𝑝[𝑖], 𝑖 = 1, 2, 3, где элемент 2^𝑡𝑚𝑝[3] встречается 4 раза; посчитайте в полученном векторе, сколько раз встречается цифра 6, и выведите это значение на экран;"
   ]
  },
  {
   "cell_type": "code",
   "execution_count": 119,
   "id": "3d2cb592-3696-4ecf-9953-791addbe0a21",
   "metadata": {},
   "outputs": [
    {
     "data": {
      "text/plain": [
       "3-element Vector{Int64}:\n",
       " 4\n",
       " 5\n",
       " 6"
      ]
     },
     "execution_count": 119,
     "metadata": {},
     "output_type": "execute_result"
    }
   ],
   "source": [
    "tmp = [4,5,6]"
   ]
  },
  {
   "cell_type": "code",
   "execution_count": 122,
   "id": "f79d83b7-a61a-47f1-bb19-b8f56775bafb",
   "metadata": {},
   "outputs": [
    {
     "data": {
      "text/plain": [
       "3-element Vector{Int64}:\n",
       " 16\n",
       " 32\n",
       " 64"
      ]
     },
     "execution_count": 122,
     "metadata": {},
     "output_type": "execute_result"
    }
   ],
   "source": [
    "array = [2^tmp[i] for i in 1:3]"
   ]
  },
  {
   "cell_type": "code",
   "execution_count": 123,
   "id": "1a44ea78-ef57-4690-97d4-79d7fd82eaca",
   "metadata": {},
   "outputs": [
    {
     "data": {
      "text/plain": [
       "7-element Vector{Int64}:\n",
       " 16\n",
       " 32\n",
       " 64\n",
       " 64\n",
       " 64\n",
       " 64\n",
       " 64"
      ]
     },
     "execution_count": 123,
     "metadata": {},
     "output_type": "execute_result"
    }
   ],
   "source": [
    "array = vcat(array, fill(2^tmp[3],4))"
   ]
  },
  {
   "cell_type": "code",
   "execution_count": 126,
   "id": "b57235a5-ff2a-4111-a89b-24078efe506d",
   "metadata": {},
   "outputs": [
    {
     "data": {
      "text/plain": [
       "7-element Vector{String}:\n",
       " \"16\"\n",
       " \"32\"\n",
       " \"64\"\n",
       " \"64\"\n",
       " \"64\"\n",
       " \"64\"\n",
       " \"64\""
      ]
     },
     "execution_count": 126,
     "metadata": {},
     "output_type": "execute_result"
    }
   ],
   "source": [
    "array_str = string.(array) #преобразуем элементы в строковое значение"
   ]
  },
  {
   "cell_type": "code",
   "execution_count": 127,
   "id": "0e3327a2-4a92-4a1c-bc88-964cd8b5714c",
   "metadata": {},
   "outputs": [
    {
     "data": {
      "text/plain": [
       "6"
      ]
     },
     "execution_count": 127,
     "metadata": {},
     "output_type": "execute_result"
    }
   ],
   "source": [
    "count_6 = sum(count(c -> c == '6', s) for s in array_str)"
   ]
  },
  {
   "cell_type": "markdown",
   "id": "17e04831-e0a3-47d0-bc97-04d170cf0b8d",
   "metadata": {},
   "source": [
    "#### 3.10) вектор значений 𝑦 = 𝑒^𝑥 cos(𝑥) в точках 𝑥 = 3, 3.1, 3.2, … , 6, найдите среднее значение 𝑦;"
   ]
  },
  {
   "cell_type": "code",
   "execution_count": 132,
   "id": "11004386-dcdf-45dd-afe6-6625d2d0c1ea",
   "metadata": {},
   "outputs": [
    {
     "data": {
      "text/plain": [
       "31-element Vector{Float64}:\n",
       " 3.0\n",
       " 3.1\n",
       " 3.2\n",
       " 3.3\n",
       " 3.4\n",
       " 3.5\n",
       " 3.6\n",
       " 3.7\n",
       " 3.8\n",
       " 3.9\n",
       " 4.0\n",
       " 4.1\n",
       " 4.2\n",
       " ⋮\n",
       " 4.9\n",
       " 5.0\n",
       " 5.1\n",
       " 5.2\n",
       " 5.3\n",
       " 5.4\n",
       " 5.5\n",
       " 5.6\n",
       " 5.7\n",
       " 5.8\n",
       " 5.9\n",
       " 6.0"
      ]
     },
     "execution_count": 132,
     "metadata": {},
     "output_type": "execute_result"
    }
   ],
   "source": [
    "x_arr = collect(3:+0.1:6)"
   ]
  },
  {
   "cell_type": "code",
   "execution_count": 135,
   "id": "7f3bf846-4bac-4f42-bcc0-ee0ae233c8c9",
   "metadata": {},
   "outputs": [
    {
     "data": {
      "text/plain": [
       "31-element Vector{Float64}:\n",
       " -19.884530844146987\n",
       " -22.178753389342127\n",
       " -24.490696732801293\n",
       " -26.77318244299338\n",
       " -28.969237768093574\n",
       " -31.011186439374516\n",
       " -32.819774760338504\n",
       " -34.30336011037369\n",
       " -35.35719361853035\n",
       " -35.86283371230767\n",
       " -35.68773248011913\n",
       " -34.68504225166807\n",
       " -32.693695428321746\n",
       "   ⋮\n",
       "  25.046704998273004\n",
       "  42.09920106253839\n",
       "  61.99663027669454\n",
       "  84.92906736250268\n",
       " 111.0615860420258\n",
       " 140.5250750527875\n",
       " 173.40577640857734\n",
       " 209.73349424783467\n",
       " 249.46844055885668\n",
       " 292.4867067371223\n",
       " 338.5643778585117\n",
       " 387.36034029093076"
      ]
     },
     "execution_count": 135,
     "metadata": {},
     "output_type": "execute_result"
    }
   ],
   "source": [
    "y_arr = exp.(x_arr) .* cos.(x_arr) # вычисляем значение функции у для каждого х"
   ]
  },
  {
   "cell_type": "code",
   "execution_count": 145,
   "id": "7c0ae8fe-c5bb-4a5b-8d8a-eb7123c03f97",
   "metadata": {},
   "outputs": [
    {
     "name": "stderr",
     "output_type": "stream",
     "text": [
      "\u001b[36m\u001b[1m[ \u001b[22m\u001b[39m\u001b[36m\u001b[1mInfo: \u001b[22m\u001b[39mPrecompiling Statistics [10745b16-79ce-11e8-11f9-7d13ad32a3b2]\n"
     ]
    },
    {
     "data": {
      "text/plain": [
       "53.11374594642971"
      ]
     },
     "execution_count": 145,
     "metadata": {},
     "output_type": "execute_result"
    }
   ],
   "source": [
    "using Statistics\n",
    "mean_y = mean(y_arr) # среднее значение у"
   ]
  },
  {
   "cell_type": "markdown",
   "id": "6f7f6631-804d-4833-80be-ca718d663cc4",
   "metadata": {},
   "source": [
    "#### 3.11) вектор вида (𝑥^𝑖, 𝑦^𝑗), 𝑥 = 0.1, 𝑖 = 3, 6, 9, … , 36, 𝑦 = 0.2, 𝑗 = 1, 4, 7, … , 34;\n"
   ]
  },
  {
   "cell_type": "code",
   "execution_count": 146,
   "id": "9e61a27b-ff70-4e0f-bad6-c2766cf6ecb8",
   "metadata": {},
   "outputs": [
    {
     "data": {
      "text/plain": [
       "0.1"
      ]
     },
     "execution_count": 146,
     "metadata": {},
     "output_type": "execute_result"
    }
   ],
   "source": [
    "x=0.1"
   ]
  },
  {
   "cell_type": "code",
   "execution_count": 147,
   "id": "d2898a72-cb88-478f-b29c-96c32cf00f8f",
   "metadata": {},
   "outputs": [
    {
     "data": {
      "text/plain": [
       "0.2"
      ]
     },
     "execution_count": 147,
     "metadata": {},
     "output_type": "execute_result"
    }
   ],
   "source": [
    "y=0.2"
   ]
  },
  {
   "cell_type": "code",
   "execution_count": 149,
   "id": "a386f8c4-3976-4c95-8aea-9af1d9cb328c",
   "metadata": {},
   "outputs": [
    {
     "data": {
      "text/plain": [
       "12-element Vector{Int64}:\n",
       "  3\n",
       "  6\n",
       "  9\n",
       " 12\n",
       " 15\n",
       " 18\n",
       " 21\n",
       " 24\n",
       " 27\n",
       " 30\n",
       " 33\n",
       " 36"
      ]
     },
     "execution_count": 149,
     "metadata": {},
     "output_type": "execute_result"
    }
   ],
   "source": [
    "i = collect(3:3:36)"
   ]
  },
  {
   "cell_type": "code",
   "execution_count": 150,
   "id": "8633f5f7-88fe-490e-8c8f-ed87cebbb32b",
   "metadata": {},
   "outputs": [
    {
     "data": {
      "text/plain": [
       "12-element Vector{Int64}:\n",
       "  1\n",
       "  4\n",
       "  7\n",
       " 10\n",
       " 13\n",
       " 16\n",
       " 19\n",
       " 22\n",
       " 25\n",
       " 28\n",
       " 31\n",
       " 34"
      ]
     },
     "execution_count": 150,
     "metadata": {},
     "output_type": "execute_result"
    }
   ],
   "source": [
    "j = collect(1:3:34)"
   ]
  },
  {
   "cell_type": "code",
   "execution_count": 152,
   "id": "1595dcf9-165c-4ff7-bd42-05691ca4c44d",
   "metadata": {},
   "outputs": [
    {
     "data": {
      "text/plain": [
       "12-element Vector{Float64}:\n",
       " 0.0010000000000000002\n",
       " 1.0000000000000004e-6\n",
       " 1.0000000000000005e-9\n",
       " 1.0000000000000006e-12\n",
       " 1.0000000000000009e-15\n",
       " 1.000000000000001e-18\n",
       " 1.0000000000000012e-21\n",
       " 1.0000000000000014e-24\n",
       " 1.0000000000000015e-27\n",
       " 1.0000000000000017e-30\n",
       " 1.0000000000000018e-33\n",
       " 1.000000000000002e-36"
      ]
     },
     "execution_count": 152,
     "metadata": {},
     "output_type": "execute_result"
    }
   ],
   "source": [
    "x_1 = x .^ i"
   ]
  },
  {
   "cell_type": "code",
   "execution_count": 153,
   "id": "7971e2dd-da99-473d-a68b-2922e0024a73",
   "metadata": {},
   "outputs": [
    {
     "data": {
      "text/plain": [
       "12-element Vector{Float64}:\n",
       " 0.2\n",
       " 0.0016000000000000003\n",
       " 1.2800000000000005e-5\n",
       " 1.0240000000000006e-7\n",
       " 8.192000000000005e-10\n",
       " 6.5536000000000055e-12\n",
       " 5.2428800000000056e-14\n",
       " 4.194304000000005e-16\n",
       " 3.3554432000000048e-18\n",
       " 2.684354560000004e-20\n",
       " 2.1474836480000035e-22\n",
       " 1.717986918400003e-24"
      ]
     },
     "execution_count": 153,
     "metadata": {},
     "output_type": "execute_result"
    }
   ],
   "source": [
    "y_1 = y .^ j"
   ]
  },
  {
   "cell_type": "code",
   "execution_count": 154,
   "id": "d44f385f-0247-437c-9120-d4100e74b946",
   "metadata": {},
   "outputs": [
    {
     "data": {
      "text/plain": [
       "12×12 Matrix{Tuple{Float64, Float64}}:\n",
       " (0.001, 0.2)    (0.001, 0.0016)    …  (0.001, 1.71799e-24)\n",
       " (1.0e-6, 0.2)   (1.0e-6, 0.0016)      (1.0e-6, 1.71799e-24)\n",
       " (1.0e-9, 0.2)   (1.0e-9, 0.0016)      (1.0e-9, 1.71799e-24)\n",
       " (1.0e-12, 0.2)  (1.0e-12, 0.0016)     (1.0e-12, 1.71799e-24)\n",
       " (1.0e-15, 0.2)  (1.0e-15, 0.0016)     (1.0e-15, 1.71799e-24)\n",
       " (1.0e-18, 0.2)  (1.0e-18, 0.0016)  …  (1.0e-18, 1.71799e-24)\n",
       " (1.0e-21, 0.2)  (1.0e-21, 0.0016)     (1.0e-21, 1.71799e-24)\n",
       " (1.0e-24, 0.2)  (1.0e-24, 0.0016)     (1.0e-24, 1.71799e-24)\n",
       " (1.0e-27, 0.2)  (1.0e-27, 0.0016)     (1.0e-27, 1.71799e-24)\n",
       " (1.0e-30, 0.2)  (1.0e-30, 0.0016)     (1.0e-30, 1.71799e-24)\n",
       " (1.0e-33, 0.2)  (1.0e-33, 0.0016)  …  (1.0e-33, 1.71799e-24)\n",
       " (1.0e-36, 0.2)  (1.0e-36, 0.0016)     (1.0e-36, 1.71799e-24)"
      ]
     },
     "execution_count": 154,
     "metadata": {},
     "output_type": "execute_result"
    }
   ],
   "source": [
    "vector = [(xi, yj) for xi in x_1, yj in y_1]"
   ]
  },
  {
   "cell_type": "markdown",
   "id": "8543d423-82af-4919-a915-ad81028fa5b7",
   "metadata": {},
   "source": [
    "#### 3.12) вектор с элементами (2^𝑖)/𝑖, 𝑖 = 1, 2, … , 𝑀, 𝑀 = 25;"
   ]
  },
  {
   "cell_type": "code",
   "execution_count": 155,
   "id": "5b50ee14-c83f-4cfb-a5bf-889f66af3cbf",
   "metadata": {},
   "outputs": [
    {
     "data": {
      "text/plain": [
       "25"
      ]
     },
     "execution_count": 155,
     "metadata": {},
     "output_type": "execute_result"
    }
   ],
   "source": [
    "M = 25"
   ]
  },
  {
   "cell_type": "code",
   "execution_count": 156,
   "id": "e6ae8488-ad04-4b36-993d-0d164a45d59f",
   "metadata": {},
   "outputs": [
    {
     "data": {
      "text/plain": [
       "25-element Vector{Float64}:\n",
       "      2.0\n",
       "      2.0\n",
       "      2.6666666666666665\n",
       "      4.0\n",
       "      6.4\n",
       "     10.666666666666666\n",
       "     18.285714285714285\n",
       "     32.0\n",
       "     56.888888888888886\n",
       "    102.4\n",
       "    186.1818181818182\n",
       "    341.3333333333333\n",
       "    630.1538461538462\n",
       "   1170.2857142857142\n",
       "   2184.5333333333333\n",
       "   4096.0\n",
       "   7710.117647058823\n",
       "  14563.555555555555\n",
       "  27594.105263157893\n",
       "  52428.8\n",
       "  99864.38095238095\n",
       " 190650.18181818182\n",
       " 364722.0869565217\n",
       " 699050.6666666666\n",
       "      1.34217728e6"
      ]
     },
     "execution_count": 156,
     "metadata": {},
     "output_type": "execute_result"
    }
   ],
   "source": [
    "vec = [2^i/i for i in 1:M]"
   ]
  },
  {
   "cell_type": "markdown",
   "id": "1463b75e-6548-4788-af93-329155625f80",
   "metadata": {},
   "source": [
    "#### 3.13) вектор вида (”fn1”, ”fn2”, …, ”fnN”), 𝑁 = 30;"
   ]
  },
  {
   "cell_type": "code",
   "execution_count": 157,
   "id": "d9a3c38f-1355-4eb9-8e8c-73241d4a1d26",
   "metadata": {},
   "outputs": [
    {
     "data": {
      "text/plain": [
       "30"
      ]
     },
     "execution_count": 157,
     "metadata": {},
     "output_type": "execute_result"
    }
   ],
   "source": [
    "N = 30"
   ]
  },
  {
   "cell_type": "code",
   "execution_count": 160,
   "id": "9a2d3a8e-aa2c-4922-b999-4a2baf013f6a",
   "metadata": {},
   "outputs": [
    {
     "data": {
      "text/plain": [
       "30-element Vector{String}:\n",
       " \"fn1\"\n",
       " \"fn2\"\n",
       " \"fn3\"\n",
       " \"fn4\"\n",
       " \"fn5\"\n",
       " \"fn6\"\n",
       " \"fn7\"\n",
       " \"fn8\"\n",
       " \"fn9\"\n",
       " \"fn10\"\n",
       " \"fn11\"\n",
       " \"fn12\"\n",
       " \"fn13\"\n",
       " ⋮\n",
       " \"fn19\"\n",
       " \"fn20\"\n",
       " \"fn21\"\n",
       " \"fn22\"\n",
       " \"fn23\"\n",
       " \"fn24\"\n",
       " \"fn25\"\n",
       " \"fn26\"\n",
       " \"fn27\"\n",
       " \"fn28\"\n",
       " \"fn29\"\n",
       " \"fn30\""
      ]
     },
     "execution_count": 160,
     "metadata": {},
     "output_type": "execute_result"
    }
   ],
   "source": [
    "vec = [\"fn$i\" for i in 1:N]"
   ]
  },
  {
   "cell_type": "markdown",
   "id": "22538d80-3442-46dc-b07b-e0dc64bb131e",
   "metadata": {},
   "source": [
    "#### 3.14) векторы 𝑥 = (𝑥1, 𝑥2, … , 𝑥𝑛) и 𝑦 = (𝑦1, 𝑦2, … , 𝑦𝑛) целочисленного типа длины 𝑛 = 250 как случайные выборки из совокупности 0, 1, … , 999; на его основе:\n",
    "#### – сформируйте вектор (𝑦2 − 𝑥1, … , 𝑦𝑛 − 𝑥𝑛−1);"
   ]
  },
  {
   "cell_type": "code",
   "execution_count": 161,
   "id": "1c16fee4-3485-4fda-a5a9-8620604b3989",
   "metadata": {},
   "outputs": [
    {
     "data": {
      "text/plain": [
       "250"
      ]
     },
     "execution_count": 161,
     "metadata": {},
     "output_type": "execute_result"
    }
   ],
   "source": [
    "n = 250"
   ]
  },
  {
   "cell_type": "code",
   "execution_count": 162,
   "id": "935bef81-e49a-4511-860c-ab90a3350f93",
   "metadata": {},
   "outputs": [
    {
     "data": {
      "text/plain": [
       "250-element Vector{Int64}:\n",
       " 864\n",
       " 686\n",
       " 571\n",
       " 930\n",
       "   4\n",
       " 355\n",
       " 133\n",
       " 435\n",
       " 747\n",
       " 266\n",
       " 591\n",
       " 725\n",
       " 249\n",
       "   ⋮\n",
       " 347\n",
       " 196\n",
       " 799\n",
       "  67\n",
       " 358\n",
       " 387\n",
       " 888\n",
       " 681\n",
       " 703\n",
       " 220\n",
       " 445\n",
       " 465"
      ]
     },
     "execution_count": 162,
     "metadata": {},
     "output_type": "execute_result"
    }
   ],
   "source": [
    "x = rand(0:999, n)"
   ]
  },
  {
   "cell_type": "code",
   "execution_count": 163,
   "id": "774ae01d-47eb-4245-a0c4-77f478273d55",
   "metadata": {},
   "outputs": [
    {
     "data": {
      "text/plain": [
       "250-element Vector{Int64}:\n",
       " 305\n",
       " 279\n",
       " 698\n",
       " 161\n",
       " 938\n",
       " 224\n",
       " 501\n",
       " 925\n",
       "  12\n",
       " 950\n",
       " 630\n",
       " 673\n",
       " 117\n",
       "   ⋮\n",
       " 421\n",
       " 555\n",
       " 248\n",
       " 621\n",
       " 363\n",
       " 884\n",
       " 292\n",
       " 162\n",
       " 884\n",
       " 574\n",
       " 968\n",
       " 979"
      ]
     },
     "execution_count": 163,
     "metadata": {},
     "output_type": "execute_result"
    }
   ],
   "source": [
    "y = rand(0:999, n)"
   ]
  },
  {
   "cell_type": "code",
   "execution_count": 164,
   "id": "04ebd64c-3528-4a8a-bb11-44630f92c182",
   "metadata": {},
   "outputs": [
    {
     "data": {
      "text/plain": [
       "249-element Vector{Int64}:\n",
       " -585\n",
       "   12\n",
       " -410\n",
       "    8\n",
       "  220\n",
       "  146\n",
       "  792\n",
       " -423\n",
       "  203\n",
       "  364\n",
       "   82\n",
       " -608\n",
       "  457\n",
       "    ⋮\n",
       "  380\n",
       "  208\n",
       "   52\n",
       " -178\n",
       "  296\n",
       "  526\n",
       "  -95\n",
       " -726\n",
       "  203\n",
       " -129\n",
       "  748\n",
       "  534"
      ]
     },
     "execution_count": 164,
     "metadata": {},
     "output_type": "execute_result"
    }
   ],
   "source": [
    "z = [y[i] - x[i-1] for i in 2:n]"
   ]
  },
  {
   "cell_type": "markdown",
   "id": "61efc99b-4439-46bc-8304-544cef430fda",
   "metadata": {},
   "source": [
    "#### – сформируйте вектор (𝑥_1 + 2𝑥_2 − 𝑥_3, 𝑥_2 + 2𝑥_3 − 𝑥_4, … , 𝑥 _ (𝑛−2) + 2𝑥 _ (𝑛−1) − 𝑥_𝑛);"
   ]
  },
  {
   "cell_type": "code",
   "execution_count": 165,
   "id": "5688edb4-2f63-4356-95d2-d6b92924c3e8",
   "metadata": {},
   "outputs": [
    {
     "data": {
      "text/plain": [
       "248-element Vector{Int64}:\n",
       " 1665\n",
       "  898\n",
       " 2427\n",
       "  583\n",
       "  581\n",
       "  186\n",
       "  256\n",
       " 1663\n",
       "  688\n",
       "  723\n",
       " 1792\n",
       "  882\n",
       "  405\n",
       "    ⋮\n",
       " -156\n",
       "  539\n",
       "  -60\n",
       " 1727\n",
       "  575\n",
       "  396\n",
       "  244\n",
       " 1482\n",
       " 1547\n",
       " 1867\n",
       "  698\n",
       "  645"
      ]
     },
     "execution_count": 165,
     "metadata": {},
     "output_type": "execute_result"
    }
   ],
   "source": [
    "w = [x[i] + 2 * x[i+1] - x[i+2] for i in 1:(n-2)]"
   ]
  },
  {
   "cell_type": "markdown",
   "id": "67034fbd-306b-496c-9198-b45c87ee7bbf",
   "metadata": {},
   "source": [
    "#### – сформируйте вектор (sin(𝑦1)/cos(𝑥2),sin(𝑦2)/cos(𝑥3), … ,sin(𝑦𝑛−1)/cos(𝑥𝑛));"
   ]
  },
  {
   "cell_type": "code",
   "execution_count": 167,
   "id": "9bdbc25e-c221-4130-9b4a-f11f3bd543de",
   "metadata": {},
   "outputs": [
    {
     "data": {
      "text/plain": [
       "249-element Vector{Float64}:\n",
       " -0.6186956831914913\n",
       "  0.7884094781497084\n",
       "  0.5387357223244303\n",
       "  1.0746035961451448\n",
       " -0.9726090507625443\n",
       " -1.6400617450365744\n",
       " -9.02950553457859\n",
       "  1.2806243337725127\n",
       "  1.0516852087426813\n",
       "  1.0183271971696686\n",
       " -1.3082091917468857\n",
       " -0.9375345044954884\n",
       "  5.04286517006331\n",
       "  ⋮\n",
       " -6.782300493921139\n",
       "  0.07761720056626209\n",
       "  1.7118986188849938\n",
       " -0.3568228956127364\n",
       " -0.8687287571693045\n",
       "  1.185981622331974\n",
       "  1.9530748361272352\n",
       " -0.22366866955417009\n",
       " -1.2977795773248022\n",
       " -0.940163700204414\n",
       "  1.7638814531785603\n",
       "  0.3800640621185212"
      ]
     },
     "execution_count": 167,
     "metadata": {},
     "output_type": "execute_result"
    }
   ],
   "source": [
    "v = [sin(y[i]) / cos(x[i+1]) for i in 1:(n-1)]"
   ]
  },
  {
   "cell_type": "markdown",
   "id": "e16b4438-f1ff-41da-8a06-47979937bfae",
   "metadata": {},
   "source": [
    "#### – вычислите 𝑛−1∑𝑖=1 𝑒^(−𝑥_(𝑖+1))/𝑥_𝑖 + 10;"
   ]
  },
  {
   "cell_type": "code",
   "execution_count": 168,
   "id": "eaae9b00-9491-4727-adab-52ab1edae3f0",
   "metadata": {},
   "outputs": [
    {
     "data": {
      "text/plain": [
       "7.859818698636493e-5"
      ]
     },
     "execution_count": 168,
     "metadata": {},
     "output_type": "execute_result"
    }
   ],
   "source": [
    "S = sum(exp(-x[i+1]) / (x[i] + 10) for i in 1:(n-1))"
   ]
  },
  {
   "cell_type": "markdown",
   "id": "3a27d979-fc1f-46c6-be8c-24542feeb4bb",
   "metadata": {},
   "source": [
    "#### – выберите элементы вектора 𝑦, значения которых больше 600, и выведите на экран; определите индексы этих элементов;\n"
   ]
  },
  {
   "cell_type": "code",
   "execution_count": 170,
   "id": "2a2e36fa-4498-445c-b872-b2eaf586a222",
   "metadata": {},
   "outputs": [
    {
     "data": {
      "text/plain": [
       "106-element Vector{Int64}:\n",
       " 698\n",
       " 938\n",
       " 925\n",
       " 950\n",
       " 630\n",
       " 673\n",
       " 706\n",
       " 636\n",
       " 822\n",
       " 863\n",
       " 946\n",
       " 978\n",
       " 991\n",
       "   ⋮\n",
       " 727\n",
       " 743\n",
       " 828\n",
       " 714\n",
       " 787\n",
       " 740\n",
       " 618\n",
       " 621\n",
       " 884\n",
       " 884\n",
       " 968\n",
       " 979"
      ]
     },
     "execution_count": 170,
     "metadata": {},
     "output_type": "execute_result"
    }
   ],
   "source": [
    "y1 = y[y .> 600]"
   ]
  },
  {
   "cell_type": "code",
   "execution_count": 173,
   "id": "b84e0905-6dd9-4ef1-a1da-3d5dcc7b08e5",
   "metadata": {},
   "outputs": [
    {
     "data": {
      "text/plain": [
       "106-element Vector{Int64}:\n",
       "   3\n",
       "   5\n",
       "   8\n",
       "  10\n",
       "  11\n",
       "  12\n",
       "  14\n",
       "  15\n",
       "  22\n",
       "  24\n",
       "  30\n",
       "  31\n",
       "  32\n",
       "   ⋮\n",
       " 224\n",
       " 225\n",
       " 227\n",
       " 228\n",
       " 233\n",
       " 234\n",
       " 235\n",
       " 242\n",
       " 244\n",
       " 247\n",
       " 249\n",
       " 250"
      ]
     },
     "execution_count": 173,
     "metadata": {},
     "output_type": "execute_result"
    }
   ],
   "source": [
    "ind_y = findall(y .> 600)"
   ]
  },
  {
   "cell_type": "markdown",
   "id": "580fb85f-9e79-4626-838a-e0e471406cf0",
   "metadata": {},
   "source": [
    "#### – определите значения вектора 𝑥, соответствующие значениям вектора 𝑦, значения которых больше 600 (под соответствием понимается расположение на аналогичных индексных позициях);"
   ]
  },
  {
   "cell_type": "code",
   "execution_count": 174,
   "id": "63060da4-c779-4601-bb8c-948cc08b6a80",
   "metadata": {},
   "outputs": [
    {
     "data": {
      "text/plain": [
       "106-element Vector{Int64}:\n",
       " 571\n",
       "   4\n",
       " 435\n",
       " 266\n",
       " 591\n",
       " 725\n",
       " 341\n",
       " 526\n",
       " 264\n",
       " 548\n",
       " 896\n",
       " 320\n",
       " 121\n",
       "   ⋮\n",
       "   8\n",
       " 882\n",
       " 928\n",
       " 275\n",
       "  15\n",
       " 345\n",
       " 620\n",
       "  67\n",
       " 387\n",
       " 703\n",
       " 445\n",
       " 465"
      ]
     },
     "execution_count": 174,
     "metadata": {},
     "output_type": "execute_result"
    }
   ],
   "source": [
    "x1 = x[ind_y]"
   ]
  },
  {
   "cell_type": "markdown",
   "id": "4aeb903c-87ae-4cc2-8d01-2849784834f2",
   "metadata": {},
   "source": [
    "#### – сформируйте вектор (|𝑥1 − !𝑥|^1/2, |𝑥2 − !𝑥|^1/2, … , |𝑥𝑛 − !𝑥|^1/2 ), где 𝑥 обозначает среднее значение вектора 𝑥 = (𝑥1, 𝑥2, … , 𝑥𝑛);"
   ]
  },
  {
   "cell_type": "code",
   "execution_count": 176,
   "id": "93633e8a-09ac-4e46-8da9-14cb3a848cd2",
   "metadata": {},
   "outputs": [
    {
     "data": {
      "text/plain": [
       "485.664"
      ]
     },
     "execution_count": 176,
     "metadata": {},
     "output_type": "execute_result"
    }
   ],
   "source": [
    "using Statistics\n",
    "mean_x = mean(x)"
   ]
  },
  {
   "cell_type": "code",
   "execution_count": 177,
   "id": "f84031f1-5340-4355-9ea5-1fff9435de39",
   "metadata": {},
   "outputs": [
    {
     "data": {
      "text/plain": [
       "250-element Vector{Float64}:\n",
       " 19.45086116345495\n",
       " 14.154010032496092\n",
       "  9.23774864347369\n",
       " 21.079278925048648\n",
       " 21.946844875744667\n",
       " 11.43083549002434\n",
       " 18.779350361500793\n",
       "  7.1178648483937925\n",
       " 16.165890015709003\n",
       " 14.821066088510637\n",
       " 10.263332792032031\n",
       " 15.470488033672371\n",
       " 15.383887675096954\n",
       "  ⋮\n",
       " 11.775567926856011\n",
       " 17.019518207046872\n",
       " 17.701299387333123\n",
       " 20.46128050733873\n",
       " 11.298849498953421\n",
       "  9.932975385049536\n",
       " 20.058314984065834\n",
       " 13.976265595644639\n",
       " 14.742320034512886\n",
       " 16.29920243447513\n",
       "  6.376833069792559\n",
       "  4.545767261970194"
      ]
     },
     "execution_count": 177,
     "metadata": {},
     "output_type": "execute_result"
    }
   ],
   "source": [
    "v = sqrt.(abs.(x .- mean_x))"
   ]
  },
  {
   "cell_type": "markdown",
   "id": "9b2ce74c-523e-4e65-935d-3e710b9332fe",
   "metadata": {},
   "source": [
    "#### – определите, сколько элементов вектора 𝑦 отстоят от максимального значения не более, чем на 200;"
   ]
  },
  {
   "cell_type": "code",
   "execution_count": 178,
   "id": "60280e78-816e-47be-ba82-0840b570dd12",
   "metadata": {},
   "outputs": [
    {
     "data": {
      "text/plain": [
       "998"
      ]
     },
     "execution_count": 178,
     "metadata": {},
     "output_type": "execute_result"
    }
   ],
   "source": [
    "max_y = maximum(y)"
   ]
  },
  {
   "cell_type": "code",
   "execution_count": 179,
   "id": "253c75f1-0bbf-4549-b9d2-56060ab0ded6",
   "metadata": {},
   "outputs": [
    {
     "data": {
      "text/plain": [
       "57"
      ]
     },
     "execution_count": 179,
     "metadata": {},
     "output_type": "execute_result"
    }
   ],
   "source": [
    "Sum = sum(abs.(y .- max_y) .<= 200)"
   ]
  },
  {
   "cell_type": "markdown",
   "id": "3f34ae35-b06e-40e6-8e05-b5daf9201659",
   "metadata": {},
   "source": [
    "#### – определите, сколько чётных и нечётных элементов вектора 𝑥;"
   ]
  },
  {
   "cell_type": "code",
   "execution_count": 180,
   "id": "4b85563b-3caa-4c26-bfbb-c238eca8d07a",
   "metadata": {},
   "outputs": [
    {
     "data": {
      "text/plain": [
       "118"
      ]
     },
     "execution_count": 180,
     "metadata": {},
     "output_type": "execute_result"
    }
   ],
   "source": [
    "even_x = sum(x .%2 .== 0)"
   ]
  },
  {
   "cell_type": "code",
   "execution_count": 181,
   "id": "00009869-adea-43ac-a1a1-0b1032751f97",
   "metadata": {},
   "outputs": [
    {
     "data": {
      "text/plain": [
       "132"
      ]
     },
     "execution_count": 181,
     "metadata": {},
     "output_type": "execute_result"
    }
   ],
   "source": [
    "odd_x = sum(x .%2 .== 1)"
   ]
  },
  {
   "cell_type": "markdown",
   "id": "4ac47757-bf1d-4a63-97b3-783cb843f032",
   "metadata": {},
   "source": [
    "#### – определите, сколько элементов вектора 𝑥 кратны 7;"
   ]
  },
  {
   "cell_type": "code",
   "execution_count": 182,
   "id": "fefa8ceb-9169-4f06-b810-e87224a7378b",
   "metadata": {},
   "outputs": [
    {
     "data": {
      "text/plain": [
       "34"
      ]
     },
     "execution_count": 182,
     "metadata": {},
     "output_type": "execute_result"
    }
   ],
   "source": [
    "x_7 = sum(x .%7 .== 0)"
   ]
  },
  {
   "cell_type": "markdown",
   "id": "4406fd1e-9269-45fc-be68-937cb4add279",
   "metadata": {},
   "source": [
    "#### – отсортируйте элементы вектора 𝑥 в порядке возрастания элементов вектора 𝑦;"
   ]
  },
  {
   "cell_type": "code",
   "execution_count": 183,
   "id": "e2aca10c-0425-4fef-887d-ce64642d3cb2",
   "metadata": {},
   "outputs": [
    {
     "data": {
      "text/plain": [
       "250-element Vector{Int64}:\n",
       " 118\n",
       "  63\n",
       " 182\n",
       " 230\n",
       "  21\n",
       "  71\n",
       "   9\n",
       " 114\n",
       " 195\n",
       "  69\n",
       " 209\n",
       " 121\n",
       " 220\n",
       "   ⋮\n",
       " 123\n",
       "  45\n",
       "  31\n",
       " 250\n",
       " 165\n",
       " 153\n",
       " 100\n",
       "  32\n",
       "  34\n",
       "  33\n",
       "  76\n",
       " 181"
      ]
     },
     "execution_count": 183,
     "metadata": {},
     "output_type": "execute_result"
    }
   ],
   "source": [
    "sort_ind = sortperm(y)"
   ]
  },
  {
   "cell_type": "code",
   "execution_count": 184,
   "id": "1236cfd2-0157-4ac0-9b69-d388a4df066e",
   "metadata": {},
   "outputs": [
    {
     "data": {
      "text/plain": [
       "250-element Vector{Int64}:\n",
       " 504\n",
       " 387\n",
       "  32\n",
       " 113\n",
       " 749\n",
       " 161\n",
       " 747\n",
       " 739\n",
       " 921\n",
       " 901\n",
       " 973\n",
       " 785\n",
       " 442\n",
       "   ⋮\n",
       " 369\n",
       " 766\n",
       " 320\n",
       " 465\n",
       " 314\n",
       " 105\n",
       " 135\n",
       " 121\n",
       "  15\n",
       " 299\n",
       " 906\n",
       " 538"
      ]
     },
     "execution_count": 184,
     "metadata": {},
     "output_type": "execute_result"
    }
   ],
   "source": [
    "sort_x = x[sort_ind]"
   ]
  },
  {
   "cell_type": "markdown",
   "id": "3c90f223-761d-4804-b496-4857ac02251a",
   "metadata": {},
   "source": [
    "#### – выведите элементы вектора 𝑥, которые входят в десятку наибольших (top-10)"
   ]
  },
  {
   "cell_type": "code",
   "execution_count": 185,
   "id": "384feb76-9600-48e6-af6a-56a9816ce021",
   "metadata": {},
   "outputs": [
    {
     "data": {
      "text/plain": [
       "10-element Vector{Int64}:\n",
       " 994\n",
       " 992\n",
       " 986\n",
       " 975\n",
       " 973\n",
       " 960\n",
       " 950\n",
       " 950\n",
       " 940\n",
       " 938"
      ]
     },
     "execution_count": 185,
     "metadata": {},
     "output_type": "execute_result"
    }
   ],
   "source": [
    "top_10 = sort(x, rev=true)[1:10]"
   ]
  },
  {
   "cell_type": "markdown",
   "id": "482cf11b-44a2-4ab8-95d5-000eb05cfd0f",
   "metadata": {},
   "source": [
    "#### – сформируйте вектор, содержащий только уникальные (неповторяющиеся) элементы вектора 𝑥."
   ]
  },
  {
   "cell_type": "code",
   "execution_count": 186,
   "id": "1f243e76-3b5c-4a83-9802-f499260ec1d2",
   "metadata": {},
   "outputs": [
    {
     "data": {
      "text/plain": [
       "220-element Vector{Int64}:\n",
       " 864\n",
       " 686\n",
       " 571\n",
       " 930\n",
       "   4\n",
       " 355\n",
       " 133\n",
       " 435\n",
       " 747\n",
       " 266\n",
       " 591\n",
       " 725\n",
       " 249\n",
       "   ⋮\n",
       " 113\n",
       " 782\n",
       " 345\n",
       " 478\n",
       " 109\n",
       "  41\n",
       " 196\n",
       " 799\n",
       " 358\n",
       " 888\n",
       " 220\n",
       " 445"
      ]
     },
     "execution_count": 186,
     "metadata": {},
     "output_type": "execute_result"
    }
   ],
   "source": [
    "unique_x = unique(x)"
   ]
  },
  {
   "cell_type": "markdown",
   "id": "592a9144-4007-49f4-8ffd-f133843a2105",
   "metadata": {},
   "source": [
    "#### 4. Создайте массив squares, в котором будут храниться квадраты всех целых чисел от 1 до 100."
   ]
  },
  {
   "cell_type": "code",
   "execution_count": 187,
   "id": "0b236bc2-4ee7-4af6-a3cf-0890559afbf2",
   "metadata": {},
   "outputs": [
    {
     "data": {
      "text/plain": [
       "100-element Vector{Int64}:\n",
       "     1\n",
       "     4\n",
       "     9\n",
       "    16\n",
       "    25\n",
       "    36\n",
       "    49\n",
       "    64\n",
       "    81\n",
       "   100\n",
       "   121\n",
       "   144\n",
       "   169\n",
       "     ⋮\n",
       "  7921\n",
       "  8100\n",
       "  8281\n",
       "  8464\n",
       "  8649\n",
       "  8836\n",
       "  9025\n",
       "  9216\n",
       "  9409\n",
       "  9604\n",
       "  9801\n",
       " 10000"
      ]
     },
     "execution_count": 187,
     "metadata": {},
     "output_type": "execute_result"
    }
   ],
   "source": [
    "squares = [i^2 for i in 1:100]"
   ]
  },
  {
   "cell_type": "markdown",
   "id": "fe83066d-36c4-4dbf-9f75-e81eff72757c",
   "metadata": {},
   "source": [
    "#### 5. Подключите пакет Primes (функции для вычисления простых чисел). Сгенерируйте массив myprimes, в котором будут храниться первые 168 простых чисел. Определите 89-е наименьшее простое число. Получите срез массива с 89-го до 99-го элемента включительно, содержащий наименьшие простые числа.\n"
   ]
  },
  {
   "cell_type": "code",
   "execution_count": 198,
   "id": "0a514123-4040-47e0-a3e3-9499193fbe73",
   "metadata": {},
   "outputs": [
    {
     "data": {
      "text/plain": [
       "168-element Vector{Int64}:\n",
       "   2\n",
       "   3\n",
       "   5\n",
       "   7\n",
       "  11\n",
       "  13\n",
       "  17\n",
       "  19\n",
       "  23\n",
       "  29\n",
       "  31\n",
       "  37\n",
       "  41\n",
       "   ⋮\n",
       " 919\n",
       " 929\n",
       " 937\n",
       " 941\n",
       " 947\n",
       " 953\n",
       " 967\n",
       " 971\n",
       " 977\n",
       " 983\n",
       " 991\n",
       " 997"
      ]
     },
     "execution_count": 198,
     "metadata": {},
     "output_type": "execute_result"
    }
   ],
   "source": [
    "using Primes\n",
    "myprimes = primes(1000)"
   ]
  },
  {
   "cell_type": "code",
   "execution_count": 199,
   "id": "f584ed6c-679e-4576-a68c-a164d38a1971",
   "metadata": {},
   "outputs": [
    {
     "data": {
      "text/plain": [
       "461"
      ]
     },
     "execution_count": 199,
     "metadata": {},
     "output_type": "execute_result"
    }
   ],
   "source": [
    "prime_89 = myprimes[89]"
   ]
  },
  {
   "cell_type": "code",
   "execution_count": 200,
   "id": "7ec4f9e1-83e3-480e-8605-7bcc7fe868b5",
   "metadata": {},
   "outputs": [
    {
     "data": {
      "text/plain": [
       "11-element Vector{Int64}:\n",
       " 461\n",
       " 463\n",
       " 467\n",
       " 479\n",
       " 487\n",
       " 491\n",
       " 499\n",
       " 503\n",
       " 509\n",
       " 521\n",
       " 523"
      ]
     },
     "execution_count": 200,
     "metadata": {},
     "output_type": "execute_result"
    }
   ],
   "source": [
    "primes_slice = myprimes[89:99]"
   ]
  },
  {
   "cell_type": "markdown",
   "id": "f42bb36d-8c0e-4494-85d9-3b327a2db073",
   "metadata": {},
   "source": [
    "#### 6. Вычислите следующие выражения:\n",
    "#### 6.1)100∑𝑖=10(𝑖^3 + 4𝑖^2);"
   ]
  },
  {
   "cell_type": "code",
   "execution_count": 204,
   "id": "4886d5cc-e587-48fa-85d1-7966b76b83dd",
   "metadata": {},
   "outputs": [
    {
     "data": {
      "text/plain": [
       "26852735"
      ]
     },
     "execution_count": 204,
     "metadata": {},
     "output_type": "execute_result"
    }
   ],
   "source": [
    "Sum = sum(i^3 + 4*i^2 for i in 10:100)"
   ]
  },
  {
   "cell_type": "markdown",
   "id": "c5d255a4-a36e-4145-80c4-a8963dc61942",
   "metadata": {},
   "source": [
    "#### 6.2)𝑀∑𝑖=1 (2^𝑖/𝑖 +3^𝑖/𝑖^2 ), 𝑀 = 25;"
   ]
  },
  {
   "cell_type": "code",
   "execution_count": 211,
   "id": "f57e695e-bb71-4f11-899c-6a68bf1af5fb",
   "metadata": {},
   "outputs": [
    {
     "data": {
      "text/plain": [
       "2.1291704368143802e9"
      ]
     },
     "execution_count": 211,
     "metadata": {},
     "output_type": "execute_result"
    }
   ],
   "source": [
    "M=25\n",
    "Sum1 = sum((2^i / i + 3^i / i^2) for i in 1:M)"
   ]
  },
  {
   "cell_type": "markdown",
   "id": "985c5cb2-248f-45de-a9e3-d21608b25dcd",
   "metadata": {},
   "source": [
    "#### 6.3) 1 +2/3+ (2/3 * 4/5) + (2/3 * 4/5 * 6/7) + ⋯ + (2/3 * 4/5 … 38/39)."
   ]
  },
  {
   "cell_type": "code",
   "execution_count": 213,
   "id": "f54abff3-79af-4f86-8f6e-343eb3869775",
   "metadata": {},
   "outputs": [
    {
     "data": {
      "text/plain": [
       "1.0"
      ]
     },
     "execution_count": 213,
     "metadata": {},
     "output_type": "execute_result"
    }
   ],
   "source": [
    "result = 1.0\n",
    "product = 1.0"
   ]
  },
  {
   "cell_type": "code",
   "execution_count": 214,
   "id": "b6a7d64a-acb6-4ee0-9688-a07bdb71a3b5",
   "metadata": {},
   "outputs": [],
   "source": [
    "for i in 1:19\n",
    "    product *= (2*i) / (2*i + 1)\n",
    "    result += product\n",
    "end"
   ]
  },
  {
   "cell_type": "code",
   "execution_count": 215,
   "id": "009ad23f-dd98-4312-b352-5ef56e8b2912",
   "metadata": {},
   "outputs": [
    {
     "name": "stdout",
     "output_type": "stream",
     "text": [
      "6.976346137897618\n"
     ]
    }
   ],
   "source": [
    "println(result)"
   ]
  }
 ],
 "metadata": {
  "kernelspec": {
   "display_name": "Julia 1.10.5",
   "language": "julia",
   "name": "julia-1.10"
  },
  "language_info": {
   "file_extension": ".jl",
   "mimetype": "application/julia",
   "name": "julia",
   "version": "1.10.5"
  }
 },
 "nbformat": 4,
 "nbformat_minor": 5
}
